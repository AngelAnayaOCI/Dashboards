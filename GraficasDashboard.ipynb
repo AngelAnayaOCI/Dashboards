{
 "cells": [
  {
   "cell_type": "code",
   "execution_count": 149,
   "metadata": {},
   "outputs": [],
   "source": [
    "import pandas as pd\n",
    "import numpy as np\n",
    "import plotly.graph_objects as go\n",
    "import plotly.express as px"
   ]
  },
  {
   "cell_type": "code",
   "execution_count": 150,
   "metadata": {},
   "outputs": [],
   "source": [
    "df_campañas = pd.read_excel(\"Indicadores de anuncios de colaboradores.xlsx\", sheet_name='Campañas y correos')\n",
    "df_mitec = pd.read_excel(\"Indicadores de anuncios de colaboradores.xlsx\", sheet_name='AnálisisMITEC', parse_dates=['Mes [Fecha]'])\n",
    "df_correos = pd.read_excel(\"Indicadores de anuncios de colaboradores.xlsx\", sheet_name='AnálisisCorreos', parse_dates=['Mes [Fecha]'])\n",
    "df_comparativo = pd.read_excel(\"Indicadores de anuncios de colaboradores.xlsx\", sheet_name='AnálisisComparativo')"
   ]
  },
  {
   "cell_type": "code",
   "execution_count": 151,
   "metadata": {},
   "outputs": [
    {
     "data": {
      "text/html": [
       "<div>\n",
       "<style scoped>\n",
       "    .dataframe tbody tr th:only-of-type {\n",
       "        vertical-align: middle;\n",
       "    }\n",
       "\n",
       "    .dataframe tbody tr th {\n",
       "        vertical-align: top;\n",
       "    }\n",
       "\n",
       "    .dataframe thead th {\n",
       "        text-align: right;\n",
       "    }\n",
       "</style>\n",
       "<table border=\"1\" class=\"dataframe\">\n",
       "  <thead>\n",
       "    <tr style=\"text-align: right;\">\n",
       "      <th></th>\n",
       "      <th>Estatus en campañas identificadas</th>\n",
       "      <th>MITEC</th>\n",
       "      <th>Responsable</th>\n",
       "      <th>Número de clics</th>\n",
       "      <th>Mes</th>\n",
       "      <th>Mes [Fecha]</th>\n",
       "      <th>Unnamed: 7</th>\n",
       "    </tr>\n",
       "    <tr>\n",
       "      <th>Iniciativa</th>\n",
       "      <th></th>\n",
       "      <th></th>\n",
       "      <th></th>\n",
       "      <th></th>\n",
       "      <th></th>\n",
       "      <th></th>\n",
       "      <th></th>\n",
       "    </tr>\n",
       "  </thead>\n",
       "  <tbody>\n",
       "    <tr>\n",
       "      <th>Día Internacional de la Mujer</th>\n",
       "      <td>Encontrado</td>\n",
       "      <td>Dia Internacional de la Mujer</td>\n",
       "      <td>Priscilla Gabriela Juarez</td>\n",
       "      <td>410</td>\n",
       "      <td>marzo</td>\n",
       "      <td>2022-03-01</td>\n",
       "      <td>NaN</td>\n",
       "    </tr>\n",
       "    <tr>\n",
       "      <th>NaN</th>\n",
       "      <td>No encontrado</td>\n",
       "      <td>Iniciativas Sociales</td>\n",
       "      <td>Priscilla Gabriela Juarez</td>\n",
       "      <td>327</td>\n",
       "      <td>marzo</td>\n",
       "      <td>2022-03-01</td>\n",
       "      <td>NaN</td>\n",
       "    </tr>\n",
       "    <tr>\n",
       "      <th>Wellbeing</th>\n",
       "      <td>Encontrado</td>\n",
       "      <td>Health4life</td>\n",
       "      <td>Martha Patricia Saenz</td>\n",
       "      <td>148</td>\n",
       "      <td>marzo</td>\n",
       "      <td>2022-03-01</td>\n",
       "      <td>NaN</td>\n",
       "    </tr>\n",
       "  </tbody>\n",
       "</table>\n",
       "</div>"
      ],
      "text/plain": [
       "                              Estatus en campañas identificadas  \\\n",
       "Iniciativa                                                        \n",
       "Día Internacional de la Mujer                        Encontrado   \n",
       "NaN                                               No encontrado   \n",
       "Wellbeing                                            Encontrado   \n",
       "\n",
       "                                                       MITEC  \\\n",
       "Iniciativa                                                     \n",
       "Día Internacional de la Mujer  Dia Internacional de la Mujer   \n",
       "NaN                                     Iniciativas Sociales   \n",
       "Wellbeing                                        Health4life   \n",
       "\n",
       "                                             Responsable  Número de clics  \\\n",
       "Iniciativa                                                                  \n",
       "Día Internacional de la Mujer  Priscilla Gabriela Juarez              410   \n",
       "NaN                            Priscilla Gabriela Juarez              327   \n",
       "Wellbeing                          Martha Patricia Saenz              148   \n",
       "\n",
       "                                 Mes Mes [Fecha] Unnamed: 7  \n",
       "Iniciativa                                                   \n",
       "Día Internacional de la Mujer  marzo  2022-03-01        NaN  \n",
       "NaN                            marzo  2022-03-01        NaN  \n",
       "Wellbeing                      marzo  2022-03-01        NaN  "
      ]
     },
     "execution_count": 151,
     "metadata": {},
     "output_type": "execute_result"
    }
   ],
   "source": [
    "df_mitec.tail(3)"
   ]
  },
  {
   "cell_type": "code",
   "execution_count": 152,
   "metadata": {},
   "outputs": [
    {
     "ename": "MergeError",
     "evalue": "No common columns to perform merge on. Merge options: left_on=None, right_on=None, left_index=False, right_index=False",
     "output_type": "error",
     "traceback": [
      "\u001b[1;31m---------------------------------------------------------------------------\u001b[0m",
      "\u001b[1;31mMergeError\u001b[0m                                Traceback (most recent call last)",
      "\u001b[1;32mc:\\Users\\hp\\OneDrive - Instituto Tecnologico y de Estudios Superiores de Monterrey\\Documents\\Tec de Monterrey\\Semestre 7\\OCJ\\Dashboards\\GraficasDashboard.ipynb Celda 4\u001b[0m in \u001b[0;36m<cell line: 2>\u001b[1;34m()\u001b[0m\n\u001b[0;32m      <a href='vscode-notebook-cell:/c%3A/Users/hp/OneDrive%20-%20Instituto%20Tecnologico%20y%20de%20Estudios%20Superiores%20de%20Monterrey/Documents/Tec%20de%20Monterrey/Semestre%207/OCJ/Dashboards/GraficasDashboard.ipynb#W3sZmlsZQ%3D%3D?line=0'>1</a>\u001b[0m df_campañas[\u001b[39m\"\u001b[39m\u001b[39m2do prefijo (pilar)\u001b[39m\u001b[39m\"\u001b[39m]\u001b[39m.\u001b[39mfillna(\u001b[39m'\u001b[39m\u001b[39m-\u001b[39m\u001b[39m'\u001b[39m, inplace \u001b[39m=\u001b[39m \u001b[39mTrue\u001b[39;00m)\n\u001b[1;32m----> <a href='vscode-notebook-cell:/c%3A/Users/hp/OneDrive%20-%20Instituto%20Tecnologico%20y%20de%20Estudios%20Superiores%20de%20Monterrey/Documents/Tec%20de%20Monterrey/Semestre%207/OCJ/Dashboards/GraficasDashboard.ipynb#W3sZmlsZQ%3D%3D?line=1'>2</a>\u001b[0m df_correos_final \u001b[39m=\u001b[39m pd\u001b[39m.\u001b[39;49mmerge(df_correos,df_campañas, how \u001b[39m=\u001b[39;49m \u001b[39m\"\u001b[39;49m\u001b[39mleft\u001b[39;49m\u001b[39m\"\u001b[39;49m)\n\u001b[0;32m      <a href='vscode-notebook-cell:/c%3A/Users/hp/OneDrive%20-%20Instituto%20Tecnologico%20y%20de%20Estudios%20Superiores%20de%20Monterrey/Documents/Tec%20de%20Monterrey/Semestre%207/OCJ/Dashboards/GraficasDashboard.ipynb#W3sZmlsZQ%3D%3D?line=2'>3</a>\u001b[0m df_nulos \u001b[39m=\u001b[39m df_correos_final\u001b[39m.\u001b[39misnull()\u001b[39m.\u001b[39msum(axis\u001b[39m=\u001b[39m\u001b[39m1\u001b[39m)\n\u001b[0;32m      <a href='vscode-notebook-cell:/c%3A/Users/hp/OneDrive%20-%20Instituto%20Tecnologico%20y%20de%20Estudios%20Superiores%20de%20Monterrey/Documents/Tec%20de%20Monterrey/Semestre%207/OCJ/Dashboards/GraficasDashboard.ipynb#W3sZmlsZQ%3D%3D?line=3'>4</a>\u001b[0m df_correos_final[\u001b[39m\"\u001b[39m\u001b[39mEstatus\u001b[39m\u001b[39m\"\u001b[39m] \u001b[39m=\u001b[39m [\u001b[39m\"\u001b[39m\u001b[39mNo encontrado\u001b[39m\u001b[39m\"\u001b[39m \u001b[39mif\u001b[39;00m num_nulos\u001b[39m>\u001b[39m\u001b[39m2\u001b[39m \u001b[39melse\u001b[39;00m \u001b[39m\"\u001b[39m\u001b[39mEncontrado\u001b[39m\u001b[39m\"\u001b[39m \u001b[39mfor\u001b[39;00m num_nulos \u001b[39min\u001b[39;00m df_nulos]\n",
      "File \u001b[1;32mc:\\Users\\hp\\anaconda3\\lib\\site-packages\\pandas\\core\\reshape\\merge.py:107\u001b[0m, in \u001b[0;36mmerge\u001b[1;34m(left, right, how, on, left_on, right_on, left_index, right_index, sort, suffixes, copy, indicator, validate)\u001b[0m\n\u001b[0;32m     90\u001b[0m \u001b[39m@Substitution\u001b[39m(\u001b[39m\"\u001b[39m\u001b[39m\\n\u001b[39;00m\u001b[39mleft : DataFrame or named Series\u001b[39m\u001b[39m\"\u001b[39m)\n\u001b[0;32m     91\u001b[0m \u001b[39m@Appender\u001b[39m(_merge_doc, indents\u001b[39m=\u001b[39m\u001b[39m0\u001b[39m)\n\u001b[0;32m     92\u001b[0m \u001b[39mdef\u001b[39;00m \u001b[39mmerge\u001b[39m(\n\u001b[1;32m   (...)\u001b[0m\n\u001b[0;32m    105\u001b[0m     validate: \u001b[39mstr\u001b[39m \u001b[39m|\u001b[39m \u001b[39mNone\u001b[39;00m \u001b[39m=\u001b[39m \u001b[39mNone\u001b[39;00m,\n\u001b[0;32m    106\u001b[0m ) \u001b[39m-\u001b[39m\u001b[39m>\u001b[39m DataFrame:\n\u001b[1;32m--> 107\u001b[0m     op \u001b[39m=\u001b[39m _MergeOperation(\n\u001b[0;32m    108\u001b[0m         left,\n\u001b[0;32m    109\u001b[0m         right,\n\u001b[0;32m    110\u001b[0m         how\u001b[39m=\u001b[39;49mhow,\n\u001b[0;32m    111\u001b[0m         on\u001b[39m=\u001b[39;49mon,\n\u001b[0;32m    112\u001b[0m         left_on\u001b[39m=\u001b[39;49mleft_on,\n\u001b[0;32m    113\u001b[0m         right_on\u001b[39m=\u001b[39;49mright_on,\n\u001b[0;32m    114\u001b[0m         left_index\u001b[39m=\u001b[39;49mleft_index,\n\u001b[0;32m    115\u001b[0m         right_index\u001b[39m=\u001b[39;49mright_index,\n\u001b[0;32m    116\u001b[0m         sort\u001b[39m=\u001b[39;49msort,\n\u001b[0;32m    117\u001b[0m         suffixes\u001b[39m=\u001b[39;49msuffixes,\n\u001b[0;32m    118\u001b[0m         copy\u001b[39m=\u001b[39;49mcopy,\n\u001b[0;32m    119\u001b[0m         indicator\u001b[39m=\u001b[39;49mindicator,\n\u001b[0;32m    120\u001b[0m         validate\u001b[39m=\u001b[39;49mvalidate,\n\u001b[0;32m    121\u001b[0m     )\n\u001b[0;32m    122\u001b[0m     \u001b[39mreturn\u001b[39;00m op\u001b[39m.\u001b[39mget_result()\n",
      "File \u001b[1;32mc:\\Users\\hp\\anaconda3\\lib\\site-packages\\pandas\\core\\reshape\\merge.py:682\u001b[0m, in \u001b[0;36m_MergeOperation.__init__\u001b[1;34m(self, left, right, how, on, left_on, right_on, axis, left_index, right_index, sort, suffixes, copy, indicator, validate)\u001b[0m\n\u001b[0;32m    678\u001b[0m     \u001b[39m# stacklevel chosen to be correct when this is reached via pd.merge\u001b[39;00m\n\u001b[0;32m    679\u001b[0m     \u001b[39m# (and not DataFrame.join)\u001b[39;00m\n\u001b[0;32m    680\u001b[0m     warnings\u001b[39m.\u001b[39mwarn(msg, \u001b[39mFutureWarning\u001b[39;00m, stacklevel\u001b[39m=\u001b[39mfind_stack_level())\n\u001b[1;32m--> 682\u001b[0m \u001b[39mself\u001b[39;49m\u001b[39m.\u001b[39;49m_validate_specification()\n\u001b[0;32m    684\u001b[0m cross_col \u001b[39m=\u001b[39m \u001b[39mNone\u001b[39;00m\n\u001b[0;32m    685\u001b[0m \u001b[39mif\u001b[39;00m \u001b[39mself\u001b[39m\u001b[39m.\u001b[39mhow \u001b[39m==\u001b[39m \u001b[39m\"\u001b[39m\u001b[39mcross\u001b[39m\u001b[39m\"\u001b[39m:\n",
      "File \u001b[1;32mc:\\Users\\hp\\anaconda3\\lib\\site-packages\\pandas\\core\\reshape\\merge.py:1349\u001b[0m, in \u001b[0;36m_MergeOperation._validate_specification\u001b[1;34m(self)\u001b[0m\n\u001b[0;32m   1347\u001b[0m common_cols \u001b[39m=\u001b[39m left_cols\u001b[39m.\u001b[39mintersection(right_cols)\n\u001b[0;32m   1348\u001b[0m \u001b[39mif\u001b[39;00m \u001b[39mlen\u001b[39m(common_cols) \u001b[39m==\u001b[39m \u001b[39m0\u001b[39m:\n\u001b[1;32m-> 1349\u001b[0m     \u001b[39mraise\u001b[39;00m MergeError(\n\u001b[0;32m   1350\u001b[0m         \u001b[39m\"\u001b[39m\u001b[39mNo common columns to perform merge on. \u001b[39m\u001b[39m\"\u001b[39m\n\u001b[0;32m   1351\u001b[0m         \u001b[39mf\u001b[39m\u001b[39m\"\u001b[39m\u001b[39mMerge options: left_on=\u001b[39m\u001b[39m{\u001b[39;00m\u001b[39mself\u001b[39m\u001b[39m.\u001b[39mleft_on\u001b[39m}\u001b[39;00m\u001b[39m, \u001b[39m\u001b[39m\"\u001b[39m\n\u001b[0;32m   1352\u001b[0m         \u001b[39mf\u001b[39m\u001b[39m\"\u001b[39m\u001b[39mright_on=\u001b[39m\u001b[39m{\u001b[39;00m\u001b[39mself\u001b[39m\u001b[39m.\u001b[39mright_on\u001b[39m}\u001b[39;00m\u001b[39m, \u001b[39m\u001b[39m\"\u001b[39m\n\u001b[0;32m   1353\u001b[0m         \u001b[39mf\u001b[39m\u001b[39m\"\u001b[39m\u001b[39mleft_index=\u001b[39m\u001b[39m{\u001b[39;00m\u001b[39mself\u001b[39m\u001b[39m.\u001b[39mleft_index\u001b[39m}\u001b[39;00m\u001b[39m, \u001b[39m\u001b[39m\"\u001b[39m\n\u001b[0;32m   1354\u001b[0m         \u001b[39mf\u001b[39m\u001b[39m\"\u001b[39m\u001b[39mright_index=\u001b[39m\u001b[39m{\u001b[39;00m\u001b[39mself\u001b[39m\u001b[39m.\u001b[39mright_index\u001b[39m}\u001b[39;00m\u001b[39m\"\u001b[39m\n\u001b[0;32m   1355\u001b[0m     )\n\u001b[0;32m   1356\u001b[0m \u001b[39mif\u001b[39;00m (\n\u001b[0;32m   1357\u001b[0m     \u001b[39mnot\u001b[39;00m left_cols\u001b[39m.\u001b[39mjoin(common_cols, how\u001b[39m=\u001b[39m\u001b[39m\"\u001b[39m\u001b[39minner\u001b[39m\u001b[39m\"\u001b[39m)\u001b[39m.\u001b[39mis_unique\n\u001b[0;32m   1358\u001b[0m     \u001b[39mor\u001b[39;00m \u001b[39mnot\u001b[39;00m right_cols\u001b[39m.\u001b[39mjoin(common_cols, how\u001b[39m=\u001b[39m\u001b[39m\"\u001b[39m\u001b[39minner\u001b[39m\u001b[39m\"\u001b[39m)\u001b[39m.\u001b[39mis_unique\n\u001b[0;32m   1359\u001b[0m ):\n\u001b[0;32m   1360\u001b[0m     \u001b[39mraise\u001b[39;00m MergeError(\u001b[39mf\u001b[39m\u001b[39m\"\u001b[39m\u001b[39mData columns not unique: \u001b[39m\u001b[39m{\u001b[39;00m\u001b[39mrepr\u001b[39m(common_cols)\u001b[39m}\u001b[39;00m\u001b[39m\"\u001b[39m)\n",
      "\u001b[1;31mMergeError\u001b[0m: No common columns to perform merge on. Merge options: left_on=None, right_on=None, left_index=False, right_index=False"
     ]
    }
   ],
   "source": [
    "df_campañas[\"2do prefijo (pilar)\"].fillna('-', inplace = True)\n",
    "df_correos_final = pd.merge(df_correos,df_campañas, how = \"left\")\n",
    "df_nulos = df_correos_final.isnull().sum(axis=1)\n",
    "df_correos_final[\"Estatus\"] = [\"No encontrado\" if num_nulos>2 else \"Encontrado\" for num_nulos in df_nulos]\n",
    "df_correos_final = df_correos_final[['1er prefijo (TyE)',\n",
    "       '2do prefijo (pilar)', '3er prefijo (area o VP)','Nombre de campaña','Iniciativa','Estatus',\n",
    "       'Mes', 'Mes [Fecha]', 'Correo en HubSpot', 'Responsable',\n",
    "       'Enviado', 'Entregado', 'Tasa de entregas', 'Abierto',\n",
    "       'Tasa de aperturas', 'Recibió clics', 'Tasa de clics',\n",
    "       'Tasa de click-through']]\n",
    "df_correos_final.head(3)"
   ]
  },
  {
   "cell_type": "code",
   "execution_count": null,
   "metadata": {},
   "outputs": [
    {
     "data": {
      "text/html": [
       "<div>\n",
       "<style scoped>\n",
       "    .dataframe tbody tr th:only-of-type {\n",
       "        vertical-align: middle;\n",
       "    }\n",
       "\n",
       "    .dataframe tbody tr th {\n",
       "        vertical-align: top;\n",
       "    }\n",
       "\n",
       "    .dataframe thead th {\n",
       "        text-align: right;\n",
       "    }\n",
       "</style>\n",
       "<table border=\"1\" class=\"dataframe\">\n",
       "  <thead>\n",
       "    <tr style=\"text-align: right;\">\n",
       "      <th></th>\n",
       "      <th>1er prefijo (TyE)</th>\n",
       "      <th>2do prefijo (pilar)</th>\n",
       "      <th>3er prefijo (area o VP)</th>\n",
       "      <th>Nombre de campaña</th>\n",
       "      <th>Iniciativa</th>\n",
       "      <th>Estatus</th>\n",
       "      <th>Mes</th>\n",
       "      <th>Número de clics</th>\n",
       "    </tr>\n",
       "  </thead>\n",
       "  <tbody>\n",
       "    <tr>\n",
       "      <th>0</th>\n",
       "      <td>TyE</td>\n",
       "      <td>Flexibility</td>\n",
       "      <td>Comp</td>\n",
       "      <td>TyE_Flexibility_Comp</td>\n",
       "      <td>BeneFlex</td>\n",
       "      <td>Encontrado</td>\n",
       "      <td>noviembre</td>\n",
       "      <td>3913</td>\n",
       "    </tr>\n",
       "    <tr>\n",
       "      <th>1</th>\n",
       "      <td>TyE</td>\n",
       "      <td>Flexibility</td>\n",
       "      <td>Comp</td>\n",
       "      <td>TyE_Flexibility_Comp</td>\n",
       "      <td>BeneFlex</td>\n",
       "      <td>Encontrado</td>\n",
       "      <td>noviembre</td>\n",
       "      <td>2484</td>\n",
       "    </tr>\n",
       "    <tr>\n",
       "      <th>2</th>\n",
       "      <td>NaN</td>\n",
       "      <td>NaN</td>\n",
       "      <td>NaN</td>\n",
       "      <td>NaN</td>\n",
       "      <td>Mundial de Qatar</td>\n",
       "      <td>No encontrado</td>\n",
       "      <td>noviembre</td>\n",
       "      <td>1391</td>\n",
       "    </tr>\n",
       "  </tbody>\n",
       "</table>\n",
       "</div>"
      ],
      "text/plain": [
       "  1er prefijo (TyE) 2do prefijo (pilar) 3er prefijo (area o VP)  \\\n",
       "0               TyE         Flexibility                    Comp   \n",
       "1               TyE         Flexibility                    Comp   \n",
       "2               NaN                 NaN                     NaN   \n",
       "\n",
       "      Nombre de campaña        Iniciativa        Estatus        Mes  \\\n",
       "0  TyE_Flexibility_Comp          BeneFlex     Encontrado  noviembre   \n",
       "1  TyE_Flexibility_Comp          BeneFlex     Encontrado  noviembre   \n",
       "2                   NaN  Mundial de Qatar  No encontrado  noviembre   \n",
       "\n",
       "   Número de clics  \n",
       "0             3913  \n",
       "1             2484  \n",
       "2             1391  "
      ]
     },
     "execution_count": 123,
     "metadata": {},
     "output_type": "execute_result"
    }
   ],
   "source": [
    "df_campañas[\"2do prefijo (pilar)\"].fillna('-', inplace = True)\n",
    "df_mitec_final = pd.merge(df_mitec,df_campañas,on = \"Iniciativa\",how = \"left\")\n",
    "df_mitec_nulos = df_mitec_final.isnull().sum(axis=1)\n",
    "df_mitec_final[\"Estatus\"] = [\"No encontrado\" if num_nulos>2 else \"Encontrado\" for num_nulos in df_mitec_nulos]\n",
    "df_mitec_final = df_mitec_final[['1er prefijo (TyE)',\n",
    "       '2do prefijo (pilar)', '3er prefijo (area o VP)','Nombre de campaña','Iniciativa','Estatus',\n",
    "       'Mes','Número de clics']]\n",
    "df_mitec_final.head(3)"
   ]
  },
  {
   "cell_type": "code",
   "execution_count": null,
   "metadata": {},
   "outputs": [
    {
     "data": {
      "text/plain": [
       "0       0\n",
       "1       0\n",
       "2       0\n",
       "3       0\n",
       "4       0\n",
       "       ..\n",
       "220     0\n",
       "221    10\n",
       "222    10\n",
       "223     0\n",
       "224     0\n",
       "Length: 225, dtype: int64"
      ]
     },
     "execution_count": 124,
     "metadata": {},
     "output_type": "execute_result"
    }
   ],
   "source": [
    "df_nulos"
   ]
  },
  {
   "cell_type": "code",
   "execution_count": null,
   "metadata": {},
   "outputs": [
    {
     "data": {
      "text/html": [
       "<div>\n",
       "<style scoped>\n",
       "    .dataframe tbody tr th:only-of-type {\n",
       "        vertical-align: middle;\n",
       "    }\n",
       "\n",
       "    .dataframe tbody tr th {\n",
       "        vertical-align: top;\n",
       "    }\n",
       "\n",
       "    .dataframe thead th {\n",
       "        text-align: right;\n",
       "    }\n",
       "</style>\n",
       "<table border=\"1\" class=\"dataframe\">\n",
       "  <thead>\n",
       "    <tr style=\"text-align: right;\">\n",
       "      <th></th>\n",
       "      <th>1er prefijo (TyE)</th>\n",
       "      <th>2do prefijo (pilar)</th>\n",
       "      <th>3er prefijo (area o VP)</th>\n",
       "      <th>Nombre de campaña</th>\n",
       "      <th>Iniciativa</th>\n",
       "      <th>Estatus</th>\n",
       "      <th>Mes</th>\n",
       "      <th>Mes [Fecha]</th>\n",
       "      <th>Correo en HubSpot</th>\n",
       "      <th>Responsable</th>\n",
       "      <th>Enviado</th>\n",
       "      <th>Entregado</th>\n",
       "      <th>Tasa de entregas</th>\n",
       "      <th>Abierto</th>\n",
       "      <th>Tasa de aperturas</th>\n",
       "      <th>Recibió clics</th>\n",
       "      <th>Tasa de clics</th>\n",
       "      <th>Tasa de click-through</th>\n",
       "    </tr>\n",
       "  </thead>\n",
       "  <tbody>\n",
       "    <tr>\n",
       "      <th>22</th>\n",
       "      <td>NaN</td>\n",
       "      <td>NaN</td>\n",
       "      <td>NaN</td>\n",
       "      <td>NaN</td>\n",
       "      <td>Mundial de Qatar</td>\n",
       "      <td>No encontrado</td>\n",
       "      <td>noviembre</td>\n",
       "      <td>2022-11-01</td>\n",
       "      <td>TyE_Eventos_Mundial_CCTA</td>\n",
       "      <td>Tecnológico de Monterrey</td>\n",
       "      <td>33412</td>\n",
       "      <td>33366</td>\n",
       "      <td>99.862</td>\n",
       "      <td>13243</td>\n",
       "      <td>39.69</td>\n",
       "      <td>2003</td>\n",
       "      <td>6.003</td>\n",
       "      <td>15.125</td>\n",
       "    </tr>\n",
       "    <tr>\n",
       "      <th>27</th>\n",
       "      <td>NaN</td>\n",
       "      <td>NaN</td>\n",
       "      <td>NaN</td>\n",
       "      <td>NaN</td>\n",
       "      <td>Mujer Tec</td>\n",
       "      <td>No encontrado</td>\n",
       "      <td>noviembre</td>\n",
       "      <td>2022-11-01</td>\n",
       "      <td>TyE_VIIS_PremiomujerTEC03CCTA</td>\n",
       "      <td>Tecnológico de Monterrey</td>\n",
       "      <td>16950</td>\n",
       "      <td>16936</td>\n",
       "      <td>99.917</td>\n",
       "      <td>6499</td>\n",
       "      <td>38.374</td>\n",
       "      <td>548</td>\n",
       "      <td>3.236</td>\n",
       "      <td>8.432</td>\n",
       "    </tr>\n",
       "    <tr>\n",
       "      <th>28</th>\n",
       "      <td>NaN</td>\n",
       "      <td>NaN</td>\n",
       "      <td>NaN</td>\n",
       "      <td>NaN</td>\n",
       "      <td>Mujer Tec</td>\n",
       "      <td>No encontrado</td>\n",
       "      <td>noviembre</td>\n",
       "      <td>2022-11-01</td>\n",
       "      <td>TyE_VIIS_PremiomujerTEC01_CCTA</td>\n",
       "      <td>Tecnológico de Monterrey</td>\n",
       "      <td>10271</td>\n",
       "      <td>10237</td>\n",
       "      <td>99.669</td>\n",
       "      <td>4026</td>\n",
       "      <td>39.328</td>\n",
       "      <td>288</td>\n",
       "      <td>2.813</td>\n",
       "      <td>7.154</td>\n",
       "    </tr>\n",
       "    <tr>\n",
       "      <th>29</th>\n",
       "      <td>NaN</td>\n",
       "      <td>NaN</td>\n",
       "      <td>NaN</td>\n",
       "      <td>NaN</td>\n",
       "      <td>Mujer Tec</td>\n",
       "      <td>No encontrado</td>\n",
       "      <td>noviembre</td>\n",
       "      <td>2022-11-01</td>\n",
       "      <td>TyE_VIIS_PremiomujerTEC03CCTA (Clon)</td>\n",
       "      <td>Tecnológico de Monterrey</td>\n",
       "      <td>16385</td>\n",
       "      <td>16377</td>\n",
       "      <td>99.951</td>\n",
       "      <td>5576</td>\n",
       "      <td>34.048</td>\n",
       "      <td>174</td>\n",
       "      <td>1.062</td>\n",
       "      <td>3.121</td>\n",
       "    </tr>\n",
       "    <tr>\n",
       "      <th>30</th>\n",
       "      <td>NaN</td>\n",
       "      <td>NaN</td>\n",
       "      <td>NaN</td>\n",
       "      <td>NaN</td>\n",
       "      <td>Mujer Tec</td>\n",
       "      <td>No encontrado</td>\n",
       "      <td>noviembre</td>\n",
       "      <td>2022-11-01</td>\n",
       "      <td>TyE_VIIS_PremiomujerTEC01CCTA</td>\n",
       "      <td>Tecnológico de Monterrey</td>\n",
       "      <td>11386</td>\n",
       "      <td>11353</td>\n",
       "      <td>99.71</td>\n",
       "      <td>4887</td>\n",
       "      <td>43.046</td>\n",
       "      <td>608</td>\n",
       "      <td>5.355</td>\n",
       "      <td>12.441</td>\n",
       "    </tr>\n",
       "    <tr>\n",
       "      <th>31</th>\n",
       "      <td>NaN</td>\n",
       "      <td>NaN</td>\n",
       "      <td>NaN</td>\n",
       "      <td>NaN</td>\n",
       "      <td>Mujer Tec</td>\n",
       "      <td>No encontrado</td>\n",
       "      <td>noviembre</td>\n",
       "      <td>2022-11-01</td>\n",
       "      <td>TyE_VIIS_PremiomujerTEC03CCTA</td>\n",
       "      <td>Inés Sáenz Negrete</td>\n",
       "      <td>4127</td>\n",
       "      <td>4125</td>\n",
       "      <td>99.952</td>\n",
       "      <td>2529</td>\n",
       "      <td>61.309</td>\n",
       "      <td>386</td>\n",
       "      <td>9.358</td>\n",
       "      <td>15.263</td>\n",
       "    </tr>\n",
       "    <tr>\n",
       "      <th>32</th>\n",
       "      <td>NaN</td>\n",
       "      <td>NaN</td>\n",
       "      <td>NaN</td>\n",
       "      <td>NaN</td>\n",
       "      <td>Mujer Tec</td>\n",
       "      <td>No encontrado</td>\n",
       "      <td>noviembre</td>\n",
       "      <td>2022-11-01</td>\n",
       "      <td>TyE_VIIS_PremiomujerTEC02CCTA</td>\n",
       "      <td>Tecnológico de Monterrey</td>\n",
       "      <td>16997</td>\n",
       "      <td>16976</td>\n",
       "      <td>99.876</td>\n",
       "      <td>6136</td>\n",
       "      <td>36.145</td>\n",
       "      <td>690</td>\n",
       "      <td>4.065</td>\n",
       "      <td>11.245</td>\n",
       "    </tr>\n",
       "    <tr>\n",
       "      <th>34</th>\n",
       "      <td>NaN</td>\n",
       "      <td>NaN</td>\n",
       "      <td>NaN</td>\n",
       "      <td>NaN</td>\n",
       "      <td>TECbot</td>\n",
       "      <td>No encontrado</td>\n",
       "      <td>noviembre</td>\n",
       "      <td>2022-11-01</td>\n",
       "      <td>-</td>\n",
       "      <td>-</td>\n",
       "      <td>-</td>\n",
       "      <td>-</td>\n",
       "      <td>-</td>\n",
       "      <td>-</td>\n",
       "      <td>-</td>\n",
       "      <td>-</td>\n",
       "      <td>-</td>\n",
       "      <td>-</td>\n",
       "    </tr>\n",
       "    <tr>\n",
       "      <th>37</th>\n",
       "      <td>NaN</td>\n",
       "      <td>NaN</td>\n",
       "      <td>NaN</td>\n",
       "      <td>NaN</td>\n",
       "      <td>Market Tec</td>\n",
       "      <td>No encontrado</td>\n",
       "      <td>noviembre</td>\n",
       "      <td>2022-11-01</td>\n",
       "      <td>-</td>\n",
       "      <td>-</td>\n",
       "      <td>-</td>\n",
       "      <td>-</td>\n",
       "      <td>-</td>\n",
       "      <td>-</td>\n",
       "      <td>-</td>\n",
       "      <td>-</td>\n",
       "      <td>-</td>\n",
       "      <td>-</td>\n",
       "    </tr>\n",
       "    <tr>\n",
       "      <th>38</th>\n",
       "      <td>NaN</td>\n",
       "      <td>NaN</td>\n",
       "      <td>NaN</td>\n",
       "      <td>NaN</td>\n",
       "      <td>Diabetes</td>\n",
       "      <td>No encontrado</td>\n",
       "      <td>noviembre</td>\n",
       "      <td>2022-11-01</td>\n",
       "      <td>TyE_Bienestar_diabetes01_CTA</td>\n",
       "      <td>Tecnológico de Monterrey</td>\n",
       "      <td>22392</td>\n",
       "      <td>22325</td>\n",
       "      <td>99.701</td>\n",
       "      <td>9388</td>\n",
       "      <td>42.052</td>\n",
       "      <td>1995</td>\n",
       "      <td>8.936</td>\n",
       "      <td>21.251</td>\n",
       "    </tr>\n",
       "    <tr>\n",
       "      <th>89</th>\n",
       "      <td>NaN</td>\n",
       "      <td>NaN</td>\n",
       "      <td>NaN</td>\n",
       "      <td>NaN</td>\n",
       "      <td>Evaluación de etapa</td>\n",
       "      <td>No encontrado</td>\n",
       "      <td>octubre</td>\n",
       "      <td>2022-10-01</td>\n",
       "      <td>-</td>\n",
       "      <td>-</td>\n",
       "      <td>-</td>\n",
       "      <td>-</td>\n",
       "      <td>-</td>\n",
       "      <td>-</td>\n",
       "      <td>-</td>\n",
       "      <td>-</td>\n",
       "      <td>-</td>\n",
       "      <td>-</td>\n",
       "    </tr>\n",
       "    <tr>\n",
       "      <th>123</th>\n",
       "      <td>NaN</td>\n",
       "      <td>NaN</td>\n",
       "      <td>NaN</td>\n",
       "      <td>NaN</td>\n",
       "      <td>Mis compromisos</td>\n",
       "      <td>No encontrado</td>\n",
       "      <td>septiembre</td>\n",
       "      <td>2022-09-01</td>\n",
       "      <td>TyE_Talento_misCompromisos_Lideres_01sept_CCTA</td>\n",
       "      <td>Tecnológico de Monterrey</td>\n",
       "      <td>2312</td>\n",
       "      <td>2307</td>\n",
       "      <td>99.784</td>\n",
       "      <td>1228</td>\n",
       "      <td>53.229</td>\n",
       "      <td>46</td>\n",
       "      <td>1.994</td>\n",
       "      <td>3.746</td>\n",
       "    </tr>\n",
       "    <tr>\n",
       "      <th>124</th>\n",
       "      <td>NaN</td>\n",
       "      <td>NaN</td>\n",
       "      <td>NaN</td>\n",
       "      <td>NaN</td>\n",
       "      <td>Mis compromisos</td>\n",
       "      <td>No encontrado</td>\n",
       "      <td>septiembre</td>\n",
       "      <td>2022-09-01</td>\n",
       "      <td>TyE_Talento_misCompromisos_Todos_05 sept</td>\n",
       "      <td>Tecnológico de Monterrey</td>\n",
       "      <td>14421</td>\n",
       "      <td>14324</td>\n",
       "      <td>99.327</td>\n",
       "      <td>8946</td>\n",
       "      <td>62.455</td>\n",
       "      <td>465</td>\n",
       "      <td>3.246</td>\n",
       "      <td>5.198</td>\n",
       "    </tr>\n",
       "    <tr>\n",
       "      <th>125</th>\n",
       "      <td>NaN</td>\n",
       "      <td>NaN</td>\n",
       "      <td>NaN</td>\n",
       "      <td>NaN</td>\n",
       "      <td>Mis compromisos</td>\n",
       "      <td>No encontrado</td>\n",
       "      <td>septiembre</td>\n",
       "      <td>2022-09-01</td>\n",
       "      <td>TyE_Talento_misCompromisos_Colabs_01sept_CCTA</td>\n",
       "      <td>Tecnológico de Monterrey</td>\n",
       "      <td>10751</td>\n",
       "      <td>10696</td>\n",
       "      <td>99.488</td>\n",
       "      <td>5153</td>\n",
       "      <td>48.177</td>\n",
       "      <td>144</td>\n",
       "      <td>1.346</td>\n",
       "      <td>2.794</td>\n",
       "    </tr>\n",
       "    <tr>\n",
       "      <th>126</th>\n",
       "      <td>NaN</td>\n",
       "      <td>NaN</td>\n",
       "      <td>NaN</td>\n",
       "      <td>NaN</td>\n",
       "      <td>Mis compromisos</td>\n",
       "      <td>No encontrado</td>\n",
       "      <td>septiembre</td>\n",
       "      <td>2022-09-01</td>\n",
       "      <td>TyE_Talento_misCompromisos_Líderes_22 sept_CCTA</td>\n",
       "      <td>Tecnológico de Monterrey</td>\n",
       "      <td>1576</td>\n",
       "      <td>1575</td>\n",
       "      <td>99.937</td>\n",
       "      <td>895</td>\n",
       "      <td>56.825</td>\n",
       "      <td>18</td>\n",
       "      <td>1.143</td>\n",
       "      <td>2.011</td>\n",
       "    </tr>\n",
       "    <tr>\n",
       "      <th>127</th>\n",
       "      <td>NaN</td>\n",
       "      <td>NaN</td>\n",
       "      <td>NaN</td>\n",
       "      <td>NaN</td>\n",
       "      <td>Mis compromisos</td>\n",
       "      <td>No encontrado</td>\n",
       "      <td>septiembre</td>\n",
       "      <td>2022-09-01</td>\n",
       "      <td>TyE_Talento_misCompromisos_Lideres_08 sept_CCTA</td>\n",
       "      <td>Tecnológico de Monterrey</td>\n",
       "      <td>2047</td>\n",
       "      <td>2044</td>\n",
       "      <td>99.853</td>\n",
       "      <td>1016</td>\n",
       "      <td>49.706</td>\n",
       "      <td>90</td>\n",
       "      <td>4.403</td>\n",
       "      <td>8.858</td>\n",
       "    </tr>\n",
       "    <tr>\n",
       "      <th>128</th>\n",
       "      <td>NaN</td>\n",
       "      <td>NaN</td>\n",
       "      <td>NaN</td>\n",
       "      <td>NaN</td>\n",
       "      <td>Mis compromisos</td>\n",
       "      <td>No encontrado</td>\n",
       "      <td>septiembre</td>\n",
       "      <td>2022-09-01</td>\n",
       "      <td>TyE_Talento_misCompromisos_Colaboradores_14 se...</td>\n",
       "      <td>Tecnológico de Monterrey</td>\n",
       "      <td>9120</td>\n",
       "      <td>9112</td>\n",
       "      <td>99.912</td>\n",
       "      <td>4597</td>\n",
       "      <td>50.45</td>\n",
       "      <td>243</td>\n",
       "      <td>2.667</td>\n",
       "      <td>5.286</td>\n",
       "    </tr>\n",
       "    <tr>\n",
       "      <th>129</th>\n",
       "      <td>NaN</td>\n",
       "      <td>NaN</td>\n",
       "      <td>NaN</td>\n",
       "      <td>NaN</td>\n",
       "      <td>Mis compromisos</td>\n",
       "      <td>No encontrado</td>\n",
       "      <td>septiembre</td>\n",
       "      <td>2022-09-01</td>\n",
       "      <td>TyE_Talento_misCompromisos_Colabs_08sept_CCTA</td>\n",
       "      <td>Tecnológico de Monterrey</td>\n",
       "      <td>9652</td>\n",
       "      <td>9645</td>\n",
       "      <td>99.927</td>\n",
       "      <td>4884</td>\n",
       "      <td>50.638</td>\n",
       "      <td>900</td>\n",
       "      <td>9.331</td>\n",
       "      <td>18.428</td>\n",
       "    </tr>\n",
       "    <tr>\n",
       "      <th>130</th>\n",
       "      <td>NaN</td>\n",
       "      <td>NaN</td>\n",
       "      <td>NaN</td>\n",
       "      <td>NaN</td>\n",
       "      <td>Mis compromisos</td>\n",
       "      <td>No encontrado</td>\n",
       "      <td>septiembre</td>\n",
       "      <td>2022-09-01</td>\n",
       "      <td>TyE_Talento_misCompromisos_Lideres_13 sept_CCTA</td>\n",
       "      <td>Tecnológico de Monterrey</td>\n",
       "      <td>2553</td>\n",
       "      <td>2552</td>\n",
       "      <td>99.961</td>\n",
       "      <td>1356</td>\n",
       "      <td>53.135</td>\n",
       "      <td>52</td>\n",
       "      <td>2.038</td>\n",
       "      <td>3.835</td>\n",
       "    </tr>\n",
       "    <tr>\n",
       "      <th>131</th>\n",
       "      <td>NaN</td>\n",
       "      <td>NaN</td>\n",
       "      <td>NaN</td>\n",
       "      <td>NaN</td>\n",
       "      <td>Mis compromisos</td>\n",
       "      <td>No encontrado</td>\n",
       "      <td>septiembre</td>\n",
       "      <td>2022-09-01</td>\n",
       "      <td>TyE_Talento_misCompromisos_Colaboradores_22 se...</td>\n",
       "      <td>Tecnológico de Monterrey</td>\n",
       "      <td>4421</td>\n",
       "      <td>4413</td>\n",
       "      <td>99.819</td>\n",
       "      <td>2548</td>\n",
       "      <td>57.738</td>\n",
       "      <td>94</td>\n",
       "      <td>2.13</td>\n",
       "      <td>3.689</td>\n",
       "    </tr>\n",
       "    <tr>\n",
       "      <th>134</th>\n",
       "      <td>NaN</td>\n",
       "      <td>NaN</td>\n",
       "      <td>NaN</td>\n",
       "      <td>NaN</td>\n",
       "      <td>Aniversario ST</td>\n",
       "      <td>No encontrado</td>\n",
       "      <td>septiembre</td>\n",
       "      <td>2022-09-01</td>\n",
       "      <td>-</td>\n",
       "      <td>-</td>\n",
       "      <td>-</td>\n",
       "      <td>-</td>\n",
       "      <td>-</td>\n",
       "      <td>-</td>\n",
       "      <td>-</td>\n",
       "      <td>-</td>\n",
       "      <td>-</td>\n",
       "      <td>-</td>\n",
       "    </tr>\n",
       "    <tr>\n",
       "      <th>135</th>\n",
       "      <td>NaN</td>\n",
       "      <td>NaN</td>\n",
       "      <td>NaN</td>\n",
       "      <td>NaN</td>\n",
       "      <td>ProTect</td>\n",
       "      <td>No encontrado</td>\n",
       "      <td>septiembre</td>\n",
       "      <td>2022-09-01</td>\n",
       "      <td>TYE_CUMPLIMIENTO: ProTect_sismo</td>\n",
       "      <td>Tecnológico de Monterrey</td>\n",
       "      <td>12977</td>\n",
       "      <td>12394</td>\n",
       "      <td>95.507</td>\n",
       "      <td>4175</td>\n",
       "      <td>33.686</td>\n",
       "      <td>673</td>\n",
       "      <td>5.43</td>\n",
       "      <td>16.12</td>\n",
       "    </tr>\n",
       "    <tr>\n",
       "      <th>136</th>\n",
       "      <td>NaN</td>\n",
       "      <td>NaN</td>\n",
       "      <td>NaN</td>\n",
       "      <td>NaN</td>\n",
       "      <td>Fintech</td>\n",
       "      <td>No encontrado</td>\n",
       "      <td>septiembre</td>\n",
       "      <td>2022-09-01</td>\n",
       "      <td>-</td>\n",
       "      <td>-</td>\n",
       "      <td>-</td>\n",
       "      <td>-</td>\n",
       "      <td>-</td>\n",
       "      <td>-</td>\n",
       "      <td>-</td>\n",
       "      <td>-</td>\n",
       "      <td>-</td>\n",
       "      <td>-</td>\n",
       "    </tr>\n",
       "    <tr>\n",
       "      <th>142</th>\n",
       "      <td>NaN</td>\n",
       "      <td>NaN</td>\n",
       "      <td>NaN</td>\n",
       "      <td>NaN</td>\n",
       "      <td>Mis convenios</td>\n",
       "      <td>No encontrado</td>\n",
       "      <td>agosto</td>\n",
       "      <td>2022-08-01</td>\n",
       "      <td>TyE_Ben_misConvenios_CCTA</td>\n",
       "      <td>Tecnológico de Monterrey</td>\n",
       "      <td>27045</td>\n",
       "      <td>26907</td>\n",
       "      <td>99.49</td>\n",
       "      <td>13203</td>\n",
       "      <td>49.069</td>\n",
       "      <td>2801</td>\n",
       "      <td>10.41</td>\n",
       "      <td>21.215</td>\n",
       "    </tr>\n",
       "    <tr>\n",
       "      <th>143</th>\n",
       "      <td>NaN</td>\n",
       "      <td>NaN</td>\n",
       "      <td>NaN</td>\n",
       "      <td>NaN</td>\n",
       "      <td>Market Tec</td>\n",
       "      <td>No encontrado</td>\n",
       "      <td>agosto</td>\n",
       "      <td>2022-08-01</td>\n",
       "      <td>-</td>\n",
       "      <td>-</td>\n",
       "      <td>-</td>\n",
       "      <td>-</td>\n",
       "      <td>-</td>\n",
       "      <td>-</td>\n",
       "      <td>-</td>\n",
       "      <td>-</td>\n",
       "      <td>-</td>\n",
       "      <td>-</td>\n",
       "    </tr>\n",
       "    <tr>\n",
       "      <th>150</th>\n",
       "      <td>NaN</td>\n",
       "      <td>NaN</td>\n",
       "      <td>NaN</td>\n",
       "      <td>NaN</td>\n",
       "      <td>Bienvenida</td>\n",
       "      <td>No encontrado</td>\n",
       "      <td>agosto</td>\n",
       "      <td>2022-08-01</td>\n",
       "      <td>-</td>\n",
       "      <td>-</td>\n",
       "      <td>-</td>\n",
       "      <td>-</td>\n",
       "      <td>-</td>\n",
       "      <td>-</td>\n",
       "      <td>-</td>\n",
       "      <td>-</td>\n",
       "      <td>-</td>\n",
       "      <td>-</td>\n",
       "    </tr>\n",
       "    <tr>\n",
       "      <th>156</th>\n",
       "      <td>NaN</td>\n",
       "      <td>NaN</td>\n",
       "      <td>NaN</td>\n",
       "      <td>NaN</td>\n",
       "      <td>Empoderamiento</td>\n",
       "      <td>No encontrado</td>\n",
       "      <td>agosto</td>\n",
       "      <td>2022-08-01</td>\n",
       "      <td>-</td>\n",
       "      <td>-</td>\n",
       "      <td>-</td>\n",
       "      <td>-</td>\n",
       "      <td>-</td>\n",
       "      <td>-</td>\n",
       "      <td>-</td>\n",
       "      <td>-</td>\n",
       "      <td>-</td>\n",
       "      <td>-</td>\n",
       "    </tr>\n",
       "    <tr>\n",
       "      <th>180</th>\n",
       "      <td>NaN</td>\n",
       "      <td>NaN</td>\n",
       "      <td>NaN</td>\n",
       "      <td>NaN</td>\n",
       "      <td>Semana del bienestar financiero</td>\n",
       "      <td>No encontrado</td>\n",
       "      <td>julio</td>\n",
       "      <td>2022-07-01</td>\n",
       "      <td>-</td>\n",
       "      <td>-</td>\n",
       "      <td>-</td>\n",
       "      <td>-</td>\n",
       "      <td>-</td>\n",
       "      <td>-</td>\n",
       "      <td>-</td>\n",
       "      <td>-</td>\n",
       "      <td>-</td>\n",
       "      <td>-</td>\n",
       "    </tr>\n",
       "    <tr>\n",
       "      <th>183</th>\n",
       "      <td>NaN</td>\n",
       "      <td>NaN</td>\n",
       "      <td>NaN</td>\n",
       "      <td>NaN</td>\n",
       "      <td>Borregos</td>\n",
       "      <td>No encontrado</td>\n",
       "      <td>julio</td>\n",
       "      <td>2022-07-01</td>\n",
       "      <td>-</td>\n",
       "      <td>-</td>\n",
       "      <td>-</td>\n",
       "      <td>-</td>\n",
       "      <td>-</td>\n",
       "      <td>-</td>\n",
       "      <td>-</td>\n",
       "      <td>-</td>\n",
       "      <td>-</td>\n",
       "      <td>-</td>\n",
       "    </tr>\n",
       "    <tr>\n",
       "      <th>184</th>\n",
       "      <td>NaN</td>\n",
       "      <td>NaN</td>\n",
       "      <td>NaN</td>\n",
       "      <td>NaN</td>\n",
       "      <td>TecReview</td>\n",
       "      <td>No encontrado</td>\n",
       "      <td>julio</td>\n",
       "      <td>2022-07-01</td>\n",
       "      <td>-</td>\n",
       "      <td>-</td>\n",
       "      <td>-</td>\n",
       "      <td>-</td>\n",
       "      <td>-</td>\n",
       "      <td>-</td>\n",
       "      <td>-</td>\n",
       "      <td>-</td>\n",
       "      <td>-</td>\n",
       "      <td>-</td>\n",
       "    </tr>\n",
       "    <tr>\n",
       "      <th>188</th>\n",
       "      <td>NaN</td>\n",
       "      <td>NaN</td>\n",
       "      <td>NaN</td>\n",
       "      <td>NaN</td>\n",
       "      <td>Novus</td>\n",
       "      <td>No encontrado</td>\n",
       "      <td>mayo</td>\n",
       "      <td>2022-05-01</td>\n",
       "      <td>-</td>\n",
       "      <td>-</td>\n",
       "      <td>-</td>\n",
       "      <td>-</td>\n",
       "      <td>-</td>\n",
       "      <td>-</td>\n",
       "      <td>-</td>\n",
       "      <td>-</td>\n",
       "      <td>-</td>\n",
       "      <td>-</td>\n",
       "    </tr>\n",
       "    <tr>\n",
       "      <th>190</th>\n",
       "      <td>NaN</td>\n",
       "      <td>NaN</td>\n",
       "      <td>NaN</td>\n",
       "      <td>NaN</td>\n",
       "      <td>TECbot</td>\n",
       "      <td>No encontrado</td>\n",
       "      <td>mayo</td>\n",
       "      <td>2022-05-01</td>\n",
       "      <td>-</td>\n",
       "      <td>-</td>\n",
       "      <td>-</td>\n",
       "      <td>-</td>\n",
       "      <td>-</td>\n",
       "      <td>-</td>\n",
       "      <td>-</td>\n",
       "      <td>-</td>\n",
       "      <td>-</td>\n",
       "      <td>-</td>\n",
       "    </tr>\n",
       "    <tr>\n",
       "      <th>192</th>\n",
       "      <td>NaN</td>\n",
       "      <td>NaN</td>\n",
       "      <td>NaN</td>\n",
       "      <td>NaN</td>\n",
       "      <td>Semana del bienestar financiero</td>\n",
       "      <td>No encontrado</td>\n",
       "      <td>mayo</td>\n",
       "      <td>2022-05-01</td>\n",
       "      <td>-</td>\n",
       "      <td>-</td>\n",
       "      <td>-</td>\n",
       "      <td>-</td>\n",
       "      <td>-</td>\n",
       "      <td>-</td>\n",
       "      <td>-</td>\n",
       "      <td>-</td>\n",
       "      <td>-</td>\n",
       "      <td>-</td>\n",
       "    </tr>\n",
       "    <tr>\n",
       "      <th>194</th>\n",
       "      <td>NaN</td>\n",
       "      <td>NaN</td>\n",
       "      <td>NaN</td>\n",
       "      <td>NaN</td>\n",
       "      <td>Sostenibilidad</td>\n",
       "      <td>No encontrado</td>\n",
       "      <td>mayo</td>\n",
       "      <td>2022-05-01</td>\n",
       "      <td>-</td>\n",
       "      <td>-</td>\n",
       "      <td>-</td>\n",
       "      <td>-</td>\n",
       "      <td>-</td>\n",
       "      <td>-</td>\n",
       "      <td>-</td>\n",
       "      <td>-</td>\n",
       "      <td>-</td>\n",
       "      <td>-</td>\n",
       "    </tr>\n",
       "    <tr>\n",
       "      <th>205</th>\n",
       "      <td>NaN</td>\n",
       "      <td>NaN</td>\n",
       "      <td>NaN</td>\n",
       "      <td>NaN</td>\n",
       "      <td>Novus</td>\n",
       "      <td>No encontrado</td>\n",
       "      <td>abril</td>\n",
       "      <td>2022-04-01</td>\n",
       "      <td>-</td>\n",
       "      <td>-</td>\n",
       "      <td>-</td>\n",
       "      <td>-</td>\n",
       "      <td>-</td>\n",
       "      <td>-</td>\n",
       "      <td>-</td>\n",
       "      <td>-</td>\n",
       "      <td>-</td>\n",
       "      <td>-</td>\n",
       "    </tr>\n",
       "    <tr>\n",
       "      <th>208</th>\n",
       "      <td>NaN</td>\n",
       "      <td>NaN</td>\n",
       "      <td>NaN</td>\n",
       "      <td>NaN</td>\n",
       "      <td>TecReview</td>\n",
       "      <td>No encontrado</td>\n",
       "      <td>abril</td>\n",
       "      <td>2022-04-01</td>\n",
       "      <td>-</td>\n",
       "      <td>-</td>\n",
       "      <td>-</td>\n",
       "      <td>-</td>\n",
       "      <td>-</td>\n",
       "      <td>-</td>\n",
       "      <td>-</td>\n",
       "      <td>-</td>\n",
       "      <td>-</td>\n",
       "      <td>-</td>\n",
       "    </tr>\n",
       "    <tr>\n",
       "      <th>209</th>\n",
       "      <td>NaN</td>\n",
       "      <td>NaN</td>\n",
       "      <td>NaN</td>\n",
       "      <td>NaN</td>\n",
       "      <td>Sostenibilidad</td>\n",
       "      <td>No encontrado</td>\n",
       "      <td>abril</td>\n",
       "      <td>2022-04-01</td>\n",
       "      <td>-</td>\n",
       "      <td>-</td>\n",
       "      <td>-</td>\n",
       "      <td>-</td>\n",
       "      <td>-</td>\n",
       "      <td>-</td>\n",
       "      <td>-</td>\n",
       "      <td>-</td>\n",
       "      <td>-</td>\n",
       "      <td>-</td>\n",
       "    </tr>\n",
       "    <tr>\n",
       "      <th>216</th>\n",
       "      <td>NaN</td>\n",
       "      <td>NaN</td>\n",
       "      <td>NaN</td>\n",
       "      <td>NaN</td>\n",
       "      <td>TECbot</td>\n",
       "      <td>No encontrado</td>\n",
       "      <td>marzo</td>\n",
       "      <td>2022-03-01</td>\n",
       "      <td>-</td>\n",
       "      <td>-</td>\n",
       "      <td>-</td>\n",
       "      <td>-</td>\n",
       "      <td>-</td>\n",
       "      <td>-</td>\n",
       "      <td>-</td>\n",
       "      <td>-</td>\n",
       "      <td>-</td>\n",
       "      <td>-</td>\n",
       "    </tr>\n",
       "    <tr>\n",
       "      <th>221</th>\n",
       "      <td>NaN</td>\n",
       "      <td>NaN</td>\n",
       "      <td>NaN</td>\n",
       "      <td>NaN</td>\n",
       "      <td>TecReview</td>\n",
       "      <td>No encontrado</td>\n",
       "      <td>marzo</td>\n",
       "      <td>2022-03-01</td>\n",
       "      <td>-</td>\n",
       "      <td>-</td>\n",
       "      <td>-</td>\n",
       "      <td>-</td>\n",
       "      <td>-</td>\n",
       "      <td>-</td>\n",
       "      <td>-</td>\n",
       "      <td>-</td>\n",
       "      <td>-</td>\n",
       "      <td>-</td>\n",
       "    </tr>\n",
       "    <tr>\n",
       "      <th>222</th>\n",
       "      <td>NaN</td>\n",
       "      <td>NaN</td>\n",
       "      <td>NaN</td>\n",
       "      <td>NaN</td>\n",
       "      <td>Novus</td>\n",
       "      <td>No encontrado</td>\n",
       "      <td>marzo</td>\n",
       "      <td>2022-03-01</td>\n",
       "      <td>-</td>\n",
       "      <td>-</td>\n",
       "      <td>-</td>\n",
       "      <td>-</td>\n",
       "      <td>-</td>\n",
       "      <td>-</td>\n",
       "      <td>-</td>\n",
       "      <td>-</td>\n",
       "      <td>-</td>\n",
       "      <td>-</td>\n",
       "    </tr>\n",
       "  </tbody>\n",
       "</table>\n",
       "</div>"
      ],
      "text/plain": [
       "    1er prefijo (TyE) 2do prefijo (pilar) 3er prefijo (area o VP)  \\\n",
       "22                NaN                 NaN                     NaN   \n",
       "27                NaN                 NaN                     NaN   \n",
       "28                NaN                 NaN                     NaN   \n",
       "29                NaN                 NaN                     NaN   \n",
       "30                NaN                 NaN                     NaN   \n",
       "31                NaN                 NaN                     NaN   \n",
       "32                NaN                 NaN                     NaN   \n",
       "34                NaN                 NaN                     NaN   \n",
       "37                NaN                 NaN                     NaN   \n",
       "38                NaN                 NaN                     NaN   \n",
       "89                NaN                 NaN                     NaN   \n",
       "123               NaN                 NaN                     NaN   \n",
       "124               NaN                 NaN                     NaN   \n",
       "125               NaN                 NaN                     NaN   \n",
       "126               NaN                 NaN                     NaN   \n",
       "127               NaN                 NaN                     NaN   \n",
       "128               NaN                 NaN                     NaN   \n",
       "129               NaN                 NaN                     NaN   \n",
       "130               NaN                 NaN                     NaN   \n",
       "131               NaN                 NaN                     NaN   \n",
       "134               NaN                 NaN                     NaN   \n",
       "135               NaN                 NaN                     NaN   \n",
       "136               NaN                 NaN                     NaN   \n",
       "142               NaN                 NaN                     NaN   \n",
       "143               NaN                 NaN                     NaN   \n",
       "150               NaN                 NaN                     NaN   \n",
       "156               NaN                 NaN                     NaN   \n",
       "180               NaN                 NaN                     NaN   \n",
       "183               NaN                 NaN                     NaN   \n",
       "184               NaN                 NaN                     NaN   \n",
       "188               NaN                 NaN                     NaN   \n",
       "190               NaN                 NaN                     NaN   \n",
       "192               NaN                 NaN                     NaN   \n",
       "194               NaN                 NaN                     NaN   \n",
       "205               NaN                 NaN                     NaN   \n",
       "208               NaN                 NaN                     NaN   \n",
       "209               NaN                 NaN                     NaN   \n",
       "216               NaN                 NaN                     NaN   \n",
       "221               NaN                 NaN                     NaN   \n",
       "222               NaN                 NaN                     NaN   \n",
       "\n",
       "    Nombre de campaña                       Iniciativa        Estatus  \\\n",
       "22                NaN                 Mundial de Qatar  No encontrado   \n",
       "27                NaN                        Mujer Tec  No encontrado   \n",
       "28                NaN                        Mujer Tec  No encontrado   \n",
       "29                NaN                        Mujer Tec  No encontrado   \n",
       "30                NaN                        Mujer Tec  No encontrado   \n",
       "31                NaN                        Mujer Tec  No encontrado   \n",
       "32                NaN                        Mujer Tec  No encontrado   \n",
       "34                NaN                           TECbot  No encontrado   \n",
       "37                NaN                       Market Tec  No encontrado   \n",
       "38                NaN                         Diabetes  No encontrado   \n",
       "89                NaN              Evaluación de etapa  No encontrado   \n",
       "123               NaN                  Mis compromisos  No encontrado   \n",
       "124               NaN                  Mis compromisos  No encontrado   \n",
       "125               NaN                  Mis compromisos  No encontrado   \n",
       "126               NaN                  Mis compromisos  No encontrado   \n",
       "127               NaN                  Mis compromisos  No encontrado   \n",
       "128               NaN                  Mis compromisos  No encontrado   \n",
       "129               NaN                  Mis compromisos  No encontrado   \n",
       "130               NaN                  Mis compromisos  No encontrado   \n",
       "131               NaN                  Mis compromisos  No encontrado   \n",
       "134               NaN                   Aniversario ST  No encontrado   \n",
       "135               NaN                          ProTect  No encontrado   \n",
       "136               NaN                          Fintech  No encontrado   \n",
       "142               NaN                    Mis convenios  No encontrado   \n",
       "143               NaN                       Market Tec  No encontrado   \n",
       "150               NaN                       Bienvenida  No encontrado   \n",
       "156               NaN                   Empoderamiento  No encontrado   \n",
       "180               NaN  Semana del bienestar financiero  No encontrado   \n",
       "183               NaN                        Borregos   No encontrado   \n",
       "184               NaN                        TecReview  No encontrado   \n",
       "188               NaN                           Novus   No encontrado   \n",
       "190               NaN                           TECbot  No encontrado   \n",
       "192               NaN  Semana del bienestar financiero  No encontrado   \n",
       "194               NaN                   Sostenibilidad  No encontrado   \n",
       "205               NaN                           Novus   No encontrado   \n",
       "208               NaN                        TecReview  No encontrado   \n",
       "209               NaN                   Sostenibilidad  No encontrado   \n",
       "216               NaN                           TECbot  No encontrado   \n",
       "221               NaN                        TecReview  No encontrado   \n",
       "222               NaN                           Novus   No encontrado   \n",
       "\n",
       "            Mes Mes [Fecha]  \\\n",
       "22    noviembre  2022-11-01   \n",
       "27    noviembre  2022-11-01   \n",
       "28    noviembre  2022-11-01   \n",
       "29    noviembre  2022-11-01   \n",
       "30    noviembre  2022-11-01   \n",
       "31    noviembre  2022-11-01   \n",
       "32    noviembre  2022-11-01   \n",
       "34    noviembre  2022-11-01   \n",
       "37    noviembre  2022-11-01   \n",
       "38    noviembre  2022-11-01   \n",
       "89      octubre  2022-10-01   \n",
       "123  septiembre  2022-09-01   \n",
       "124  septiembre  2022-09-01   \n",
       "125  septiembre  2022-09-01   \n",
       "126  septiembre  2022-09-01   \n",
       "127  septiembre  2022-09-01   \n",
       "128  septiembre  2022-09-01   \n",
       "129  septiembre  2022-09-01   \n",
       "130  septiembre  2022-09-01   \n",
       "131  septiembre  2022-09-01   \n",
       "134  septiembre  2022-09-01   \n",
       "135  septiembre  2022-09-01   \n",
       "136  septiembre  2022-09-01   \n",
       "142      agosto  2022-08-01   \n",
       "143      agosto  2022-08-01   \n",
       "150      agosto  2022-08-01   \n",
       "156      agosto  2022-08-01   \n",
       "180       julio  2022-07-01   \n",
       "183       julio  2022-07-01   \n",
       "184       julio  2022-07-01   \n",
       "188        mayo  2022-05-01   \n",
       "190        mayo  2022-05-01   \n",
       "192        mayo  2022-05-01   \n",
       "194        mayo  2022-05-01   \n",
       "205       abril  2022-04-01   \n",
       "208       abril  2022-04-01   \n",
       "209       abril  2022-04-01   \n",
       "216       marzo  2022-03-01   \n",
       "221       marzo  2022-03-01   \n",
       "222       marzo  2022-03-01   \n",
       "\n",
       "                                     Correo en HubSpot  \\\n",
       "22                            TyE_Eventos_Mundial_CCTA   \n",
       "27                       TyE_VIIS_PremiomujerTEC03CCTA   \n",
       "28                      TyE_VIIS_PremiomujerTEC01_CCTA   \n",
       "29                TyE_VIIS_PremiomujerTEC03CCTA (Clon)   \n",
       "30                       TyE_VIIS_PremiomujerTEC01CCTA   \n",
       "31                       TyE_VIIS_PremiomujerTEC03CCTA   \n",
       "32                       TyE_VIIS_PremiomujerTEC02CCTA   \n",
       "34                                                   -   \n",
       "37                                                   -   \n",
       "38                        TyE_Bienestar_diabetes01_CTA   \n",
       "89                                                   -   \n",
       "123     TyE_Talento_misCompromisos_Lideres_01sept_CCTA   \n",
       "124           TyE_Talento_misCompromisos_Todos_05 sept   \n",
       "125      TyE_Talento_misCompromisos_Colabs_01sept_CCTA   \n",
       "126    TyE_Talento_misCompromisos_Líderes_22 sept_CCTA   \n",
       "127    TyE_Talento_misCompromisos_Lideres_08 sept_CCTA   \n",
       "128  TyE_Talento_misCompromisos_Colaboradores_14 se...   \n",
       "129      TyE_Talento_misCompromisos_Colabs_08sept_CCTA   \n",
       "130    TyE_Talento_misCompromisos_Lideres_13 sept_CCTA   \n",
       "131  TyE_Talento_misCompromisos_Colaboradores_22 se...   \n",
       "134                                                  -   \n",
       "135                    TYE_CUMPLIMIENTO: ProTect_sismo   \n",
       "136                                                  -   \n",
       "142                          TyE_Ben_misConvenios_CCTA   \n",
       "143                                                  -   \n",
       "150                                                  -   \n",
       "156                                                  -   \n",
       "180                                                  -   \n",
       "183                                                  -   \n",
       "184                                                  -   \n",
       "188                                                  -   \n",
       "190                                                  -   \n",
       "192                                                  -   \n",
       "194                                                  -   \n",
       "205                                                  -   \n",
       "208                                                  -   \n",
       "209                                                  -   \n",
       "216                                                  -   \n",
       "221                                                  -   \n",
       "222                                                  -   \n",
       "\n",
       "                  Responsable Enviado Entregado Tasa de entregas Abierto  \\\n",
       "22   Tecnológico de Monterrey   33412     33366           99.862   13243   \n",
       "27   Tecnológico de Monterrey   16950     16936           99.917    6499   \n",
       "28   Tecnológico de Monterrey   10271     10237           99.669    4026   \n",
       "29   Tecnológico de Monterrey   16385     16377           99.951    5576   \n",
       "30   Tecnológico de Monterrey   11386     11353            99.71    4887   \n",
       "31         Inés Sáenz Negrete    4127      4125           99.952    2529   \n",
       "32   Tecnológico de Monterrey   16997     16976           99.876    6136   \n",
       "34                          -       -         -                -       -   \n",
       "37                          -       -         -                -       -   \n",
       "38   Tecnológico de Monterrey   22392     22325           99.701    9388   \n",
       "89                          -       -         -                -       -   \n",
       "123  Tecnológico de Monterrey    2312      2307           99.784    1228   \n",
       "124  Tecnológico de Monterrey   14421     14324           99.327    8946   \n",
       "125  Tecnológico de Monterrey   10751     10696           99.488    5153   \n",
       "126  Tecnológico de Monterrey    1576      1575           99.937     895   \n",
       "127  Tecnológico de Monterrey    2047      2044           99.853    1016   \n",
       "128  Tecnológico de Monterrey    9120      9112           99.912    4597   \n",
       "129  Tecnológico de Monterrey    9652      9645           99.927    4884   \n",
       "130  Tecnológico de Monterrey    2553      2552           99.961    1356   \n",
       "131  Tecnológico de Monterrey    4421      4413           99.819    2548   \n",
       "134                         -       -         -                -       -   \n",
       "135  Tecnológico de Monterrey   12977     12394           95.507    4175   \n",
       "136                         -       -         -                -       -   \n",
       "142  Tecnológico de Monterrey   27045     26907            99.49   13203   \n",
       "143                         -       -         -                -       -   \n",
       "150                         -       -         -                -       -   \n",
       "156                         -       -         -                -       -   \n",
       "180                         -       -         -                -       -   \n",
       "183                         -       -         -                -       -   \n",
       "184                         -       -         -                -       -   \n",
       "188                         -       -         -                -       -   \n",
       "190                         -       -         -                -       -   \n",
       "192                         -       -         -                -       -   \n",
       "194                         -       -         -                -       -   \n",
       "205                         -       -         -                -       -   \n",
       "208                         -       -         -                -       -   \n",
       "209                         -       -         -                -       -   \n",
       "216                         -       -         -                -       -   \n",
       "221                         -       -         -                -       -   \n",
       "222                         -       -         -                -       -   \n",
       "\n",
       "    Tasa de aperturas Recibió clics Tasa de clics Tasa de click-through  \n",
       "22              39.69          2003         6.003                15.125  \n",
       "27             38.374           548         3.236                 8.432  \n",
       "28             39.328           288         2.813                 7.154  \n",
       "29             34.048           174         1.062                 3.121  \n",
       "30             43.046           608         5.355                12.441  \n",
       "31             61.309           386         9.358                15.263  \n",
       "32             36.145           690         4.065                11.245  \n",
       "34                  -             -             -                     -  \n",
       "37                  -             -             -                     -  \n",
       "38             42.052          1995         8.936                21.251  \n",
       "89                  -             -             -                     -  \n",
       "123            53.229            46         1.994                 3.746  \n",
       "124            62.455           465         3.246                 5.198  \n",
       "125            48.177           144         1.346                 2.794  \n",
       "126            56.825            18         1.143                 2.011  \n",
       "127            49.706            90         4.403                 8.858  \n",
       "128             50.45           243         2.667                 5.286  \n",
       "129            50.638           900         9.331                18.428  \n",
       "130            53.135            52         2.038                 3.835  \n",
       "131            57.738            94          2.13                 3.689  \n",
       "134                 -             -             -                     -  \n",
       "135            33.686           673          5.43                 16.12  \n",
       "136                 -             -             -                     -  \n",
       "142            49.069          2801         10.41                21.215  \n",
       "143                 -             -             -                     -  \n",
       "150                 -             -             -                     -  \n",
       "156                 -             -             -                     -  \n",
       "180                 -             -             -                     -  \n",
       "183                 -             -             -                     -  \n",
       "184                 -             -             -                     -  \n",
       "188                 -             -             -                     -  \n",
       "190                 -             -             -                     -  \n",
       "192                 -             -             -                     -  \n",
       "194                 -             -             -                     -  \n",
       "205                 -             -             -                     -  \n",
       "208                 -             -             -                     -  \n",
       "209                 -             -             -                     -  \n",
       "216                 -             -             -                     -  \n",
       "221                 -             -             -                     -  \n",
       "222                 -             -             -                     -  "
      ]
     },
     "execution_count": 125,
     "metadata": {},
     "output_type": "execute_result"
    }
   ],
   "source": [
    "nan_rows = df_correos_final[df_correos_final.isnull().any(1)]\n",
    "nan_rows"
   ]
  },
  {
   "cell_type": "code",
   "execution_count": null,
   "metadata": {},
   "outputs": [
    {
     "data": {
      "text/html": [
       "<div>\n",
       "<style scoped>\n",
       "    .dataframe tbody tr th:only-of-type {\n",
       "        vertical-align: middle;\n",
       "    }\n",
       "\n",
       "    .dataframe tbody tr th {\n",
       "        vertical-align: top;\n",
       "    }\n",
       "\n",
       "    .dataframe thead th {\n",
       "        text-align: right;\n",
       "    }\n",
       "</style>\n",
       "<table border=\"1\" class=\"dataframe\">\n",
       "  <thead>\n",
       "    <tr style=\"text-align: right;\">\n",
       "      <th></th>\n",
       "      <th>1er prefijo (TyE)</th>\n",
       "      <th>2do prefijo (pilar)</th>\n",
       "      <th>3er prefijo (area o VP)</th>\n",
       "      <th>Nombre de campaña</th>\n",
       "      <th>Iniciativa</th>\n",
       "      <th>Estatus</th>\n",
       "      <th>Mes</th>\n",
       "      <th>Mes [Fecha]</th>\n",
       "      <th>Correo en HubSpot</th>\n",
       "      <th>Responsable</th>\n",
       "      <th>Enviado</th>\n",
       "      <th>Entregado</th>\n",
       "      <th>Tasa de entregas</th>\n",
       "      <th>Abierto</th>\n",
       "      <th>Tasa de aperturas</th>\n",
       "      <th>Recibió clics</th>\n",
       "      <th>Tasa de clics</th>\n",
       "      <th>Tasa de click-through</th>\n",
       "    </tr>\n",
       "  </thead>\n",
       "  <tbody>\n",
       "    <tr>\n",
       "      <th>0</th>\n",
       "      <td>TyE</td>\n",
       "      <td>Flexibility</td>\n",
       "      <td>Comp</td>\n",
       "      <td>TyE_Flexibility_Comp</td>\n",
       "      <td>BeneFlex</td>\n",
       "      <td>Encontrado</td>\n",
       "      <td>noviembre</td>\n",
       "      <td>2022-11-01</td>\n",
       "      <td>TyE_Comp_BeneFlex_Charlas4_CCTA</td>\n",
       "      <td>Tecnológico de Monterrey</td>\n",
       "      <td>16676</td>\n",
       "      <td>16576</td>\n",
       "      <td>99.4</td>\n",
       "      <td>8407</td>\n",
       "      <td>50.718</td>\n",
       "      <td>892</td>\n",
       "      <td>5.381</td>\n",
       "      <td>10.61</td>\n",
       "    </tr>\n",
       "    <tr>\n",
       "      <th>1</th>\n",
       "      <td>TyE</td>\n",
       "      <td>Flexibility</td>\n",
       "      <td>Comp</td>\n",
       "      <td>TyE_Flexibility_Comp</td>\n",
       "      <td>BeneFlex</td>\n",
       "      <td>Encontrado</td>\n",
       "      <td>noviembre</td>\n",
       "      <td>2022-11-01</td>\n",
       "      <td>TyE_Comp_BeneFlex_Ultimo día_CCTA</td>\n",
       "      <td>Tecnológico de Monterrey</td>\n",
       "      <td>9580</td>\n",
       "      <td>9446</td>\n",
       "      <td>98.601</td>\n",
       "      <td>4432</td>\n",
       "      <td>46.919</td>\n",
       "      <td>666</td>\n",
       "      <td>7.051</td>\n",
       "      <td>15.027</td>\n",
       "    </tr>\n",
       "    <tr>\n",
       "      <th>2</th>\n",
       "      <td>TyE</td>\n",
       "      <td>Flexibility</td>\n",
       "      <td>Comp</td>\n",
       "      <td>TyE_Flexibility_Comp</td>\n",
       "      <td>BeneFlex</td>\n",
       "      <td>Encontrado</td>\n",
       "      <td>noviembre</td>\n",
       "      <td>2022-11-01</td>\n",
       "      <td>TyE_Comp_BeneFlex_Telefonía2_CCTA</td>\n",
       "      <td>Tecnológico de Monterrey</td>\n",
       "      <td>1222</td>\n",
       "      <td>1202</td>\n",
       "      <td>98.363</td>\n",
       "      <td>793</td>\n",
       "      <td>65.973</td>\n",
       "      <td>339</td>\n",
       "      <td>28.203</td>\n",
       "      <td>42.749</td>\n",
       "    </tr>\n",
       "    <tr>\n",
       "      <th>3</th>\n",
       "      <td>TyE</td>\n",
       "      <td>Flexibility</td>\n",
       "      <td>Comp</td>\n",
       "      <td>TyE_Flexibility_Comp</td>\n",
       "      <td>BeneFlex</td>\n",
       "      <td>Encontrado</td>\n",
       "      <td>noviembre</td>\n",
       "      <td>2022-11-01</td>\n",
       "      <td>TyE_Comp_BeneFlex_Charlas3_CCTA</td>\n",
       "      <td>Tecnológico de Monterrey</td>\n",
       "      <td>16678</td>\n",
       "      <td>16580</td>\n",
       "      <td>99.412</td>\n",
       "      <td>8531</td>\n",
       "      <td>51.454</td>\n",
       "      <td>1070</td>\n",
       "      <td>6.454</td>\n",
       "      <td>12.542</td>\n",
       "    </tr>\n",
       "    <tr>\n",
       "      <th>4</th>\n",
       "      <td>TyE</td>\n",
       "      <td>Flexibility</td>\n",
       "      <td>Comp</td>\n",
       "      <td>TyE_Flexibility_Comp</td>\n",
       "      <td>BeneFlex</td>\n",
       "      <td>Encontrado</td>\n",
       "      <td>noviembre</td>\n",
       "      <td>2022-11-01</td>\n",
       "      <td>TyE_Comp_BeneFlex_Charlas 5_CCTA</td>\n",
       "      <td>Tecnológico de Monterrey</td>\n",
       "      <td>1051</td>\n",
       "      <td>1051</td>\n",
       "      <td>100</td>\n",
       "      <td>527</td>\n",
       "      <td>50.143</td>\n",
       "      <td>80</td>\n",
       "      <td>7.612</td>\n",
       "      <td>15.18</td>\n",
       "    </tr>\n",
       "    <tr>\n",
       "      <th>...</th>\n",
       "      <td>...</td>\n",
       "      <td>...</td>\n",
       "      <td>...</td>\n",
       "      <td>...</td>\n",
       "      <td>...</td>\n",
       "      <td>...</td>\n",
       "      <td>...</td>\n",
       "      <td>...</td>\n",
       "      <td>...</td>\n",
       "      <td>...</td>\n",
       "      <td>...</td>\n",
       "      <td>...</td>\n",
       "      <td>...</td>\n",
       "      <td>...</td>\n",
       "      <td>...</td>\n",
       "      <td>...</td>\n",
       "      <td>...</td>\n",
       "      <td>...</td>\n",
       "    </tr>\n",
       "    <tr>\n",
       "      <th>220</th>\n",
       "      <td>TyE</td>\n",
       "      <td>-</td>\n",
       "      <td>Tecmi</td>\n",
       "      <td>TyE_Tecmi</td>\n",
       "      <td>Semana de la Felicidad</td>\n",
       "      <td>Encontrado</td>\n",
       "      <td>marzo</td>\n",
       "      <td>2022-03-01</td>\n",
       "      <td>-</td>\n",
       "      <td>-</td>\n",
       "      <td>-</td>\n",
       "      <td>-</td>\n",
       "      <td>-</td>\n",
       "      <td>-</td>\n",
       "      <td>-</td>\n",
       "      <td>-</td>\n",
       "      <td>-</td>\n",
       "      <td>-</td>\n",
       "    </tr>\n",
       "    <tr>\n",
       "      <th>221</th>\n",
       "      <td>NaN</td>\n",
       "      <td>NaN</td>\n",
       "      <td>NaN</td>\n",
       "      <td>NaN</td>\n",
       "      <td>TecReview</td>\n",
       "      <td>No encontrado</td>\n",
       "      <td>marzo</td>\n",
       "      <td>2022-03-01</td>\n",
       "      <td>-</td>\n",
       "      <td>-</td>\n",
       "      <td>-</td>\n",
       "      <td>-</td>\n",
       "      <td>-</td>\n",
       "      <td>-</td>\n",
       "      <td>-</td>\n",
       "      <td>-</td>\n",
       "      <td>-</td>\n",
       "      <td>-</td>\n",
       "    </tr>\n",
       "    <tr>\n",
       "      <th>222</th>\n",
       "      <td>NaN</td>\n",
       "      <td>NaN</td>\n",
       "      <td>NaN</td>\n",
       "      <td>NaN</td>\n",
       "      <td>Novus</td>\n",
       "      <td>No encontrado</td>\n",
       "      <td>marzo</td>\n",
       "      <td>2022-03-01</td>\n",
       "      <td>-</td>\n",
       "      <td>-</td>\n",
       "      <td>-</td>\n",
       "      <td>-</td>\n",
       "      <td>-</td>\n",
       "      <td>-</td>\n",
       "      <td>-</td>\n",
       "      <td>-</td>\n",
       "      <td>-</td>\n",
       "      <td>-</td>\n",
       "    </tr>\n",
       "    <tr>\n",
       "      <th>223</th>\n",
       "      <td>TyE</td>\n",
       "      <td>-</td>\n",
       "      <td>VIISS</td>\n",
       "      <td>TyE_VIISS</td>\n",
       "      <td>ETHOS</td>\n",
       "      <td>Encontrado</td>\n",
       "      <td>marzo</td>\n",
       "      <td>2022-03-01</td>\n",
       "      <td>-</td>\n",
       "      <td>-</td>\n",
       "      <td>-</td>\n",
       "      <td>-</td>\n",
       "      <td>-</td>\n",
       "      <td>-</td>\n",
       "      <td>-</td>\n",
       "      <td>-</td>\n",
       "      <td>-</td>\n",
       "      <td>-</td>\n",
       "    </tr>\n",
       "    <tr>\n",
       "      <th>224</th>\n",
       "      <td>TyE</td>\n",
       "      <td>PowerUp</td>\n",
       "      <td>Bienestar</td>\n",
       "      <td>TyE_PowerUp_Bienestar</td>\n",
       "      <td>Wellbeing</td>\n",
       "      <td>Encontrado</td>\n",
       "      <td>marzo</td>\n",
       "      <td>2022-03-01</td>\n",
       "      <td>-</td>\n",
       "      <td>-</td>\n",
       "      <td>-</td>\n",
       "      <td>-</td>\n",
       "      <td>-</td>\n",
       "      <td>-</td>\n",
       "      <td>-</td>\n",
       "      <td>-</td>\n",
       "      <td>-</td>\n",
       "      <td>-</td>\n",
       "    </tr>\n",
       "  </tbody>\n",
       "</table>\n",
       "<p>225 rows × 18 columns</p>\n",
       "</div>"
      ],
      "text/plain": [
       "    1er prefijo (TyE) 2do prefijo (pilar) 3er prefijo (area o VP)  \\\n",
       "0                 TyE         Flexibility                    Comp   \n",
       "1                 TyE         Flexibility                    Comp   \n",
       "2                 TyE         Flexibility                    Comp   \n",
       "3                 TyE         Flexibility                    Comp   \n",
       "4                 TyE         Flexibility                    Comp   \n",
       "..                ...                 ...                     ...   \n",
       "220               TyE                   -                   Tecmi   \n",
       "221               NaN                 NaN                     NaN   \n",
       "222               NaN                 NaN                     NaN   \n",
       "223               TyE                   -                   VIISS   \n",
       "224               TyE             PowerUp               Bienestar   \n",
       "\n",
       "         Nombre de campaña              Iniciativa        Estatus        Mes  \\\n",
       "0     TyE_Flexibility_Comp                BeneFlex     Encontrado  noviembre   \n",
       "1     TyE_Flexibility_Comp                BeneFlex     Encontrado  noviembre   \n",
       "2     TyE_Flexibility_Comp                BeneFlex     Encontrado  noviembre   \n",
       "3     TyE_Flexibility_Comp                BeneFlex     Encontrado  noviembre   \n",
       "4     TyE_Flexibility_Comp                BeneFlex     Encontrado  noviembre   \n",
       "..                     ...                     ...            ...        ...   \n",
       "220              TyE_Tecmi  Semana de la Felicidad     Encontrado      marzo   \n",
       "221                    NaN               TecReview  No encontrado      marzo   \n",
       "222                    NaN                  Novus   No encontrado      marzo   \n",
       "223              TyE_VIISS                   ETHOS     Encontrado      marzo   \n",
       "224  TyE_PowerUp_Bienestar               Wellbeing     Encontrado      marzo   \n",
       "\n",
       "    Mes [Fecha]                  Correo en HubSpot               Responsable  \\\n",
       "0    2022-11-01    TyE_Comp_BeneFlex_Charlas4_CCTA  Tecnológico de Monterrey   \n",
       "1    2022-11-01  TyE_Comp_BeneFlex_Ultimo día_CCTA  Tecnológico de Monterrey   \n",
       "2    2022-11-01  TyE_Comp_BeneFlex_Telefonía2_CCTA  Tecnológico de Monterrey   \n",
       "3    2022-11-01    TyE_Comp_BeneFlex_Charlas3_CCTA  Tecnológico de Monterrey   \n",
       "4    2022-11-01   TyE_Comp_BeneFlex_Charlas 5_CCTA  Tecnológico de Monterrey   \n",
       "..          ...                                ...                       ...   \n",
       "220  2022-03-01                                  -                         -   \n",
       "221  2022-03-01                                  -                         -   \n",
       "222  2022-03-01                                  -                         -   \n",
       "223  2022-03-01                                  -                         -   \n",
       "224  2022-03-01                                  -                         -   \n",
       "\n",
       "    Enviado Entregado Tasa de entregas Abierto Tasa de aperturas  \\\n",
       "0     16676     16576             99.4    8407            50.718   \n",
       "1      9580      9446           98.601    4432            46.919   \n",
       "2      1222      1202           98.363     793            65.973   \n",
       "3     16678     16580           99.412    8531            51.454   \n",
       "4      1051      1051              100     527            50.143   \n",
       "..      ...       ...              ...     ...               ...   \n",
       "220       -         -                -       -                 -   \n",
       "221       -         -                -       -                 -   \n",
       "222       -         -                -       -                 -   \n",
       "223       -         -                -       -                 -   \n",
       "224       -         -                -       -                 -   \n",
       "\n",
       "    Recibió clics Tasa de clics Tasa de click-through  \n",
       "0             892         5.381                 10.61  \n",
       "1             666         7.051                15.027  \n",
       "2             339        28.203                42.749  \n",
       "3            1070         6.454                12.542  \n",
       "4              80         7.612                 15.18  \n",
       "..            ...           ...                   ...  \n",
       "220             -             -                     -  \n",
       "221             -             -                     -  \n",
       "222             -             -                     -  \n",
       "223             -             -                     -  \n",
       "224             -             -                     -  \n",
       "\n",
       "[225 rows x 18 columns]"
      ]
     },
     "execution_count": 126,
     "metadata": {},
     "output_type": "execute_result"
    }
   ],
   "source": [
    "df_nulos = df_correos_final.isnull().sum(axis=1)\n",
    "df_correos_final[\"Estatus\"] = [\"No encontrado\" if num_nulos>=1 else \"Encontrado\" for num_nulos in df_nulos]\n",
    "df_correos_final\n"
   ]
  },
  {
   "cell_type": "code",
   "execution_count": null,
   "metadata": {},
   "outputs": [
    {
     "data": {
      "text/html": [
       "<div>\n",
       "<style scoped>\n",
       "    .dataframe tbody tr th:only-of-type {\n",
       "        vertical-align: middle;\n",
       "    }\n",
       "\n",
       "    .dataframe tbody tr th {\n",
       "        vertical-align: top;\n",
       "    }\n",
       "\n",
       "    .dataframe thead th {\n",
       "        text-align: right;\n",
       "    }\n",
       "</style>\n",
       "<table border=\"1\" class=\"dataframe\">\n",
       "  <thead>\n",
       "    <tr style=\"text-align: right;\">\n",
       "      <th></th>\n",
       "      <th>1er prefijo (TyE)</th>\n",
       "      <th>2do prefijo (pilar)</th>\n",
       "      <th>3er prefijo (area o VP)</th>\n",
       "      <th>Número de inicativas</th>\n",
       "    </tr>\n",
       "  </thead>\n",
       "  <tbody>\n",
       "    <tr>\n",
       "      <th>0</th>\n",
       "      <td>TyE</td>\n",
       "      <td>-</td>\n",
       "      <td>Boletín Líderes</td>\n",
       "      <td>1</td>\n",
       "    </tr>\n",
       "    <tr>\n",
       "      <th>1</th>\n",
       "      <td>TyE</td>\n",
       "      <td>-</td>\n",
       "      <td>Boletín TyE</td>\n",
       "      <td>1</td>\n",
       "    </tr>\n",
       "    <tr>\n",
       "      <th>2</th>\n",
       "      <td>TyE</td>\n",
       "      <td>-</td>\n",
       "      <td>Cambios org</td>\n",
       "      <td>2</td>\n",
       "    </tr>\n",
       "    <tr>\n",
       "      <th>3</th>\n",
       "      <td>TyE</td>\n",
       "      <td>-</td>\n",
       "      <td>EVP</td>\n",
       "      <td>3</td>\n",
       "    </tr>\n",
       "    <tr>\n",
       "      <th>4</th>\n",
       "      <td>TyE</td>\n",
       "      <td>-</td>\n",
       "      <td>Eventos Institucionales</td>\n",
       "      <td>7</td>\n",
       "    </tr>\n",
       "    <tr>\n",
       "      <th>5</th>\n",
       "      <td>TyE</td>\n",
       "      <td>-</td>\n",
       "      <td>Presidencia</td>\n",
       "      <td>1</td>\n",
       "    </tr>\n",
       "    <tr>\n",
       "      <th>6</th>\n",
       "      <td>TyE</td>\n",
       "      <td>-</td>\n",
       "      <td>SorteosTec</td>\n",
       "      <td>1</td>\n",
       "    </tr>\n",
       "    <tr>\n",
       "      <th>7</th>\n",
       "      <td>TyE</td>\n",
       "      <td>-</td>\n",
       "      <td>TecSalud</td>\n",
       "      <td>1</td>\n",
       "    </tr>\n",
       "    <tr>\n",
       "      <th>8</th>\n",
       "      <td>TyE</td>\n",
       "      <td>-</td>\n",
       "      <td>Tecmi</td>\n",
       "      <td>4</td>\n",
       "    </tr>\n",
       "    <tr>\n",
       "      <th>9</th>\n",
       "      <td>TyE</td>\n",
       "      <td>-</td>\n",
       "      <td>Top200</td>\n",
       "      <td>1</td>\n",
       "    </tr>\n",
       "    <tr>\n",
       "      <th>10</th>\n",
       "      <td>TyE</td>\n",
       "      <td>-</td>\n",
       "      <td>TyEAvisos</td>\n",
       "      <td>2</td>\n",
       "    </tr>\n",
       "    <tr>\n",
       "      <th>11</th>\n",
       "      <td>TyE</td>\n",
       "      <td>-</td>\n",
       "      <td>VIISS</td>\n",
       "      <td>13</td>\n",
       "    </tr>\n",
       "    <tr>\n",
       "      <th>12</th>\n",
       "      <td>TyE</td>\n",
       "      <td>-</td>\n",
       "      <td>VPD</td>\n",
       "      <td>3</td>\n",
       "    </tr>\n",
       "    <tr>\n",
       "      <th>13</th>\n",
       "      <td>TyE</td>\n",
       "      <td>-</td>\n",
       "      <td>VPICC</td>\n",
       "      <td>1</td>\n",
       "    </tr>\n",
       "    <tr>\n",
       "      <th>14</th>\n",
       "      <td>TyE</td>\n",
       "      <td>-</td>\n",
       "      <td>VPO</td>\n",
       "      <td>4</td>\n",
       "    </tr>\n",
       "    <tr>\n",
       "      <th>15</th>\n",
       "      <td>TyE</td>\n",
       "      <td>Aca</td>\n",
       "      <td>Academia</td>\n",
       "      <td>22</td>\n",
       "    </tr>\n",
       "    <tr>\n",
       "      <th>16</th>\n",
       "      <td>TyE</td>\n",
       "      <td>Collaboration</td>\n",
       "      <td>TecS</td>\n",
       "      <td>5</td>\n",
       "    </tr>\n",
       "    <tr>\n",
       "      <th>17</th>\n",
       "      <td>TyE</td>\n",
       "      <td>Enablers</td>\n",
       "      <td>HTI</td>\n",
       "      <td>9</td>\n",
       "    </tr>\n",
       "    <tr>\n",
       "      <th>18</th>\n",
       "      <td>TyE</td>\n",
       "      <td>Flexibility</td>\n",
       "      <td>Ben</td>\n",
       "      <td>6</td>\n",
       "    </tr>\n",
       "    <tr>\n",
       "      <th>19</th>\n",
       "      <td>TyE</td>\n",
       "      <td>Flexibility</td>\n",
       "      <td>COVID</td>\n",
       "      <td>2</td>\n",
       "    </tr>\n",
       "    <tr>\n",
       "      <th>20</th>\n",
       "      <td>TyE</td>\n",
       "      <td>Flexibility</td>\n",
       "      <td>Comp</td>\n",
       "      <td>11</td>\n",
       "    </tr>\n",
       "    <tr>\n",
       "      <th>21</th>\n",
       "      <td>TyE</td>\n",
       "      <td>Flexibility</td>\n",
       "      <td>Trabajo Flexible</td>\n",
       "      <td>2</td>\n",
       "    </tr>\n",
       "    <tr>\n",
       "      <th>22</th>\n",
       "      <td>TyE</td>\n",
       "      <td>PowerUp</td>\n",
       "      <td>Bienestar</td>\n",
       "      <td>6</td>\n",
       "    </tr>\n",
       "    <tr>\n",
       "      <th>23</th>\n",
       "      <td>TyE</td>\n",
       "      <td>PowerUp</td>\n",
       "      <td>Desarrollo</td>\n",
       "      <td>3</td>\n",
       "    </tr>\n",
       "    <tr>\n",
       "      <th>24</th>\n",
       "      <td>TyE</td>\n",
       "      <td>PowerUp</td>\n",
       "      <td>Talento</td>\n",
       "      <td>5</td>\n",
       "    </tr>\n",
       "  </tbody>\n",
       "</table>\n",
       "</div>"
      ],
      "text/plain": [
       "   1er prefijo (TyE) 2do prefijo (pilar)  3er prefijo (area o VP)  \\\n",
       "0                TyE                   -          Boletín Líderes   \n",
       "1                TyE                   -              Boletín TyE   \n",
       "2                TyE                   -              Cambios org   \n",
       "3                TyE                   -                      EVP   \n",
       "4                TyE                   -  Eventos Institucionales   \n",
       "5                TyE                   -              Presidencia   \n",
       "6                TyE                   -               SorteosTec   \n",
       "7                TyE                   -                 TecSalud   \n",
       "8                TyE                   -                    Tecmi   \n",
       "9                TyE                   -                   Top200   \n",
       "10               TyE                   -                TyEAvisos   \n",
       "11               TyE                   -                    VIISS   \n",
       "12               TyE                   -                      VPD   \n",
       "13               TyE                   -                    VPICC   \n",
       "14               TyE                   -                      VPO   \n",
       "15               TyE                 Aca                 Academia   \n",
       "16               TyE       Collaboration                     TecS   \n",
       "17               TyE            Enablers                      HTI   \n",
       "18               TyE         Flexibility                      Ben   \n",
       "19               TyE         Flexibility                    COVID   \n",
       "20               TyE         Flexibility                     Comp   \n",
       "21               TyE         Flexibility         Trabajo Flexible   \n",
       "22               TyE             PowerUp                Bienestar   \n",
       "23               TyE             PowerUp               Desarrollo   \n",
       "24               TyE             PowerUp                  Talento   \n",
       "\n",
       "    Número de inicativas  \n",
       "0                      1  \n",
       "1                      1  \n",
       "2                      2  \n",
       "3                      3  \n",
       "4                      7  \n",
       "5                      1  \n",
       "6                      1  \n",
       "7                      1  \n",
       "8                      4  \n",
       "9                      1  \n",
       "10                     2  \n",
       "11                    13  \n",
       "12                     3  \n",
       "13                     1  \n",
       "14                     4  \n",
       "15                    22  \n",
       "16                     5  \n",
       "17                     9  \n",
       "18                     6  \n",
       "19                     2  \n",
       "20                    11  \n",
       "21                     2  \n",
       "22                     6  \n",
       "23                     3  \n",
       "24                     5  "
      ]
     },
     "execution_count": 127,
     "metadata": {},
     "output_type": "execute_result"
    }
   ],
   "source": [
    "df_campañas[\"2do prefijo (pilar)\"].fillna('-', inplace = True)\n",
    "campañas_general = df_campañas.groupby([\"1er prefijo (TyE)\",\"2do prefijo (pilar)\",\"3er prefijo (area o VP)\"])[\"3er prefijo (area o VP)\"].count().to_dict()\n",
    "df_campañas_general = pd.DataFrame([key for key in campañas_general.keys()], columns=[\"1er prefijo (TyE)\",\"2do prefijo (pilar)\",\"3er prefijo (area o VP)\"])\n",
    "df_campañas_general['Número de inicativas'] = [value for value in campañas_general.values()]\n",
    "df_campañas_general = df_campañas_general.sort_values(by=[\"1er prefijo (TyE)\",\"2do prefijo (pilar)\",\"3er prefijo (area o VP)\"], ascending=True)\n",
    "df_campañas_general"
   ]
  },
  {
   "cell_type": "code",
   "execution_count": null,
   "metadata": {},
   "outputs": [
    {
     "data": {
      "text/plain": [
       "{('TyE', '-', 'Boletín Líderes'): 1,\n",
       " ('TyE', '-', 'Boletín TyE'): 1,\n",
       " ('TyE', '-', 'Cambios org'): 2,\n",
       " ('TyE', '-', 'EVP'): 3,\n",
       " ('TyE', '-', 'Eventos Institucionales'): 7,\n",
       " ('TyE', '-', 'Presidencia'): 1,\n",
       " ('TyE', '-', 'SorteosTec'): 1,\n",
       " ('TyE', '-', 'TecSalud'): 1,\n",
       " ('TyE', '-', 'Tecmi'): 4,\n",
       " ('TyE', '-', 'Top200'): 1,\n",
       " ('TyE', '-', 'TyEAvisos'): 2,\n",
       " ('TyE', '-', 'VIISS'): 13,\n",
       " ('TyE', '-', 'VPD'): 3,\n",
       " ('TyE', '-', 'VPICC'): 1,\n",
       " ('TyE', '-', 'VPO'): 4,\n",
       " ('TyE', 'Aca', 'Academia'): 22,\n",
       " ('TyE', 'Collaboration', 'TecS'): 5,\n",
       " ('TyE', 'Enablers', 'HTI'): 9,\n",
       " ('TyE', 'Flexibility', 'Ben'): 6,\n",
       " ('TyE', 'Flexibility', 'COVID'): 2,\n",
       " ('TyE', 'Flexibility', 'Comp'): 11,\n",
       " ('TyE', 'Flexibility', 'Trabajo Flexible'): 2,\n",
       " ('TyE', 'PowerUp', 'Bienestar'): 6,\n",
       " ('TyE', 'PowerUp', 'Desarrollo'): 3,\n",
       " ('TyE', 'PowerUp', 'Talento'): 5}"
      ]
     },
     "execution_count": 128,
     "metadata": {},
     "output_type": "execute_result"
    }
   ],
   "source": [
    "campañas_general"
   ]
  },
  {
   "cell_type": "code",
   "execution_count": null,
   "metadata": {},
   "outputs": [
    {
     "data": {
      "text/html": [
       "<div>\n",
       "<style scoped>\n",
       "    .dataframe tbody tr th:only-of-type {\n",
       "        vertical-align: middle;\n",
       "    }\n",
       "\n",
       "    .dataframe tbody tr th {\n",
       "        vertical-align: top;\n",
       "    }\n",
       "\n",
       "    .dataframe thead th {\n",
       "        text-align: right;\n",
       "    }\n",
       "</style>\n",
       "<table border=\"1\" class=\"dataframe\">\n",
       "  <thead>\n",
       "    <tr style=\"text-align: right;\">\n",
       "      <th></th>\n",
       "      <th>Iniciativa</th>\n",
       "      <th>Estatus en campañas identificadas</th>\n",
       "      <th>MITEC</th>\n",
       "      <th>Responsable</th>\n",
       "      <th>Número de clics</th>\n",
       "      <th>Mes</th>\n",
       "      <th>Mes [Fecha]</th>\n",
       "      <th>Unnamed: 7</th>\n",
       "    </tr>\n",
       "  </thead>\n",
       "  <tbody>\n",
       "    <tr>\n",
       "      <th>0</th>\n",
       "      <td>BeneFlex</td>\n",
       "      <td>Encontrado</td>\n",
       "      <td>beneflex03</td>\n",
       "      <td>Mabely Sarahi Garcia</td>\n",
       "      <td>3913</td>\n",
       "      <td>noviembre</td>\n",
       "      <td>2022-11-01</td>\n",
       "      <td>NaN</td>\n",
       "    </tr>\n",
       "    <tr>\n",
       "      <th>1</th>\n",
       "      <td>BeneFlex</td>\n",
       "      <td>Encontrado</td>\n",
       "      <td>beneflex04</td>\n",
       "      <td>Mabely Sarahi Garcia</td>\n",
       "      <td>2484</td>\n",
       "      <td>noviembre</td>\n",
       "      <td>2022-11-01</td>\n",
       "      <td>NaN</td>\n",
       "    </tr>\n",
       "    <tr>\n",
       "      <th>2</th>\n",
       "      <td>Mundial de Qatar</td>\n",
       "      <td>No encontrado</td>\n",
       "      <td>MundialSD01</td>\n",
       "      <td>Marioli RT</td>\n",
       "      <td>1391</td>\n",
       "      <td>noviembre</td>\n",
       "      <td>2022-11-01</td>\n",
       "      <td>NaN</td>\n",
       "    </tr>\n",
       "  </tbody>\n",
       "</table>\n",
       "</div>"
      ],
      "text/plain": [
       "         Iniciativa Estatus en campañas identificadas        MITEC  \\\n",
       "0          BeneFlex                        Encontrado   beneflex03   \n",
       "1          BeneFlex                        Encontrado   beneflex04   \n",
       "2  Mundial de Qatar                     No encontrado  MundialSD01   \n",
       "\n",
       "            Responsable  Número de clics        Mes Mes [Fecha] Unnamed: 7  \n",
       "0  Mabely Sarahi Garcia             3913  noviembre  2022-11-01        NaN  \n",
       "1  Mabely Sarahi Garcia             2484  noviembre  2022-11-01        NaN  \n",
       "2            Marioli RT             1391  noviembre  2022-11-01        NaN  "
      ]
     },
     "execution_count": 129,
     "metadata": {},
     "output_type": "execute_result"
    }
   ],
   "source": [
    "df_mitec.head(3)"
   ]
  },
  {
   "cell_type": "code",
   "execution_count": null,
   "metadata": {},
   "outputs": [
    {
     "data": {
      "text/html": [
       "<div>\n",
       "<style scoped>\n",
       "    .dataframe tbody tr th:only-of-type {\n",
       "        vertical-align: middle;\n",
       "    }\n",
       "\n",
       "    .dataframe tbody tr th {\n",
       "        vertical-align: top;\n",
       "    }\n",
       "\n",
       "    .dataframe thead th {\n",
       "        text-align: right;\n",
       "    }\n",
       "</style>\n",
       "<table border=\"1\" class=\"dataframe\">\n",
       "  <thead>\n",
       "    <tr style=\"text-align: right;\">\n",
       "      <th></th>\n",
       "      <th>Iniciativa</th>\n",
       "      <th>Mes</th>\n",
       "      <th>Mes [Fecha]</th>\n",
       "      <th>Correo en HubSpot</th>\n",
       "      <th>Responsable</th>\n",
       "      <th>Enviado</th>\n",
       "      <th>Entregado</th>\n",
       "      <th>Tasa de entregas</th>\n",
       "      <th>Abierto</th>\n",
       "      <th>Tasa de aperturas</th>\n",
       "      <th>Recibió clics</th>\n",
       "      <th>Tasa de clics</th>\n",
       "      <th>Tasa de click-through</th>\n",
       "    </tr>\n",
       "  </thead>\n",
       "  <tbody>\n",
       "    <tr>\n",
       "      <th>0</th>\n",
       "      <td>BeneFlex</td>\n",
       "      <td>noviembre</td>\n",
       "      <td>2022-11-01</td>\n",
       "      <td>TyE_Comp_BeneFlex_Charlas4_CCTA</td>\n",
       "      <td>Tecnológico de Monterrey</td>\n",
       "      <td>16676</td>\n",
       "      <td>16576</td>\n",
       "      <td>99.4</td>\n",
       "      <td>8407</td>\n",
       "      <td>50.718</td>\n",
       "      <td>892</td>\n",
       "      <td>5.381</td>\n",
       "      <td>10.61</td>\n",
       "    </tr>\n",
       "    <tr>\n",
       "      <th>1</th>\n",
       "      <td>BeneFlex</td>\n",
       "      <td>noviembre</td>\n",
       "      <td>2022-11-01</td>\n",
       "      <td>TyE_Comp_BeneFlex_Ultimo día_CCTA</td>\n",
       "      <td>Tecnológico de Monterrey</td>\n",
       "      <td>9580</td>\n",
       "      <td>9446</td>\n",
       "      <td>98.601</td>\n",
       "      <td>4432</td>\n",
       "      <td>46.919</td>\n",
       "      <td>666</td>\n",
       "      <td>7.051</td>\n",
       "      <td>15.027</td>\n",
       "    </tr>\n",
       "    <tr>\n",
       "      <th>2</th>\n",
       "      <td>BeneFlex</td>\n",
       "      <td>noviembre</td>\n",
       "      <td>2022-11-01</td>\n",
       "      <td>TyE_Comp_BeneFlex_Telefonía2_CCTA</td>\n",
       "      <td>Tecnológico de Monterrey</td>\n",
       "      <td>1222</td>\n",
       "      <td>1202</td>\n",
       "      <td>98.363</td>\n",
       "      <td>793</td>\n",
       "      <td>65.973</td>\n",
       "      <td>339</td>\n",
       "      <td>28.203</td>\n",
       "      <td>42.749</td>\n",
       "    </tr>\n",
       "  </tbody>\n",
       "</table>\n",
       "</div>"
      ],
      "text/plain": [
       "  Iniciativa        Mes Mes [Fecha]                  Correo en HubSpot  \\\n",
       "0   BeneFlex  noviembre  2022-11-01    TyE_Comp_BeneFlex_Charlas4_CCTA   \n",
       "1   BeneFlex  noviembre  2022-11-01  TyE_Comp_BeneFlex_Ultimo día_CCTA   \n",
       "2   BeneFlex  noviembre  2022-11-01  TyE_Comp_BeneFlex_Telefonía2_CCTA   \n",
       "\n",
       "                Responsable Enviado Entregado Tasa de entregas Abierto  \\\n",
       "0  Tecnológico de Monterrey   16676     16576             99.4    8407   \n",
       "1  Tecnológico de Monterrey    9580      9446           98.601    4432   \n",
       "2  Tecnológico de Monterrey    1222      1202           98.363     793   \n",
       "\n",
       "  Tasa de aperturas Recibió clics Tasa de clics Tasa de click-through  \n",
       "0            50.718           892         5.381                 10.61  \n",
       "1            46.919           666         7.051                15.027  \n",
       "2            65.973           339        28.203                42.749  "
      ]
     },
     "execution_count": 130,
     "metadata": {},
     "output_type": "execute_result"
    }
   ],
   "source": [
    "df_correos.head(3)"
   ]
  },
  {
   "cell_type": "code",
   "execution_count": null,
   "metadata": {},
   "outputs": [
    {
     "data": {
      "text/html": [
       "<div>\n",
       "<style scoped>\n",
       "    .dataframe tbody tr th:only-of-type {\n",
       "        vertical-align: middle;\n",
       "    }\n",
       "\n",
       "    .dataframe tbody tr th {\n",
       "        vertical-align: top;\n",
       "    }\n",
       "\n",
       "    .dataframe thead th {\n",
       "        text-align: right;\n",
       "    }\n",
       "</style>\n",
       "<table border=\"1\" class=\"dataframe\">\n",
       "  <thead>\n",
       "    <tr style=\"text-align: right;\">\n",
       "      <th></th>\n",
       "      <th>Iniciativa</th>\n",
       "      <th>Mes</th>\n",
       "      <th>Tasa de click-through promedio</th>\n",
       "      <th>Tasa de aperturas promedio</th>\n",
       "    </tr>\n",
       "  </thead>\n",
       "  <tbody>\n",
       "    <tr>\n",
       "      <th>0</th>\n",
       "      <td>Aseguratec</td>\n",
       "      <td>septiembre</td>\n",
       "      <td>10.409857</td>\n",
       "      <td>38.172857</td>\n",
       "    </tr>\n",
       "    <tr>\n",
       "      <th>1</th>\n",
       "      <td>BeneFlex</td>\n",
       "      <td>agosto</td>\n",
       "      <td>16.251235</td>\n",
       "      <td>58.610588</td>\n",
       "    </tr>\n",
       "    <tr>\n",
       "      <th>2</th>\n",
       "      <td>BeneFlex</td>\n",
       "      <td>noviembre</td>\n",
       "      <td>27.831773</td>\n",
       "      <td>58.945500</td>\n",
       "    </tr>\n",
       "    <tr>\n",
       "      <th>3</th>\n",
       "      <td>BeneFlex</td>\n",
       "      <td>octubre</td>\n",
       "      <td>46.886500</td>\n",
       "      <td>71.706875</td>\n",
       "    </tr>\n",
       "    <tr>\n",
       "      <th>4</th>\n",
       "      <td>Ciberseguridad</td>\n",
       "      <td>agosto</td>\n",
       "      <td>13.645333</td>\n",
       "      <td>50.191333</td>\n",
       "    </tr>\n",
       "    <tr>\n",
       "      <th>5</th>\n",
       "      <td>Ciberseguridad</td>\n",
       "      <td>julio</td>\n",
       "      <td>12.502500</td>\n",
       "      <td>49.944500</td>\n",
       "    </tr>\n",
       "    <tr>\n",
       "      <th>6</th>\n",
       "      <td>Ciberseguridad</td>\n",
       "      <td>octubre</td>\n",
       "      <td>3.565000</td>\n",
       "      <td>36.811500</td>\n",
       "    </tr>\n",
       "    <tr>\n",
       "      <th>7</th>\n",
       "      <td>Ciberseguridad</td>\n",
       "      <td>septiembre</td>\n",
       "      <td>5.827000</td>\n",
       "      <td>44.703000</td>\n",
       "    </tr>\n",
       "    <tr>\n",
       "      <th>8</th>\n",
       "      <td>Cáncer de mama</td>\n",
       "      <td>octubre</td>\n",
       "      <td>20.589667</td>\n",
       "      <td>43.065667</td>\n",
       "    </tr>\n",
       "    <tr>\n",
       "      <th>9</th>\n",
       "      <td>Declaracion Anual</td>\n",
       "      <td>noviembre</td>\n",
       "      <td>23.528000</td>\n",
       "      <td>44.625333</td>\n",
       "    </tr>\n",
       "    <tr>\n",
       "      <th>10</th>\n",
       "      <td>Diabetes</td>\n",
       "      <td>noviembre</td>\n",
       "      <td>21.251000</td>\n",
       "      <td>42.052000</td>\n",
       "    </tr>\n",
       "    <tr>\n",
       "      <th>11</th>\n",
       "      <td>English@Tec</td>\n",
       "      <td>agosto</td>\n",
       "      <td>15.771500</td>\n",
       "      <td>47.019500</td>\n",
       "    </tr>\n",
       "    <tr>\n",
       "      <th>12</th>\n",
       "      <td>English@Tec</td>\n",
       "      <td>noviembre</td>\n",
       "      <td>12.569333</td>\n",
       "      <td>41.976000</td>\n",
       "    </tr>\n",
       "    <tr>\n",
       "      <th>13</th>\n",
       "      <td>English@Tec</td>\n",
       "      <td>septiembre</td>\n",
       "      <td>16.862000</td>\n",
       "      <td>41.124000</td>\n",
       "    </tr>\n",
       "    <tr>\n",
       "      <th>14</th>\n",
       "      <td>Feria del libro</td>\n",
       "      <td>octubre</td>\n",
       "      <td>3.984000</td>\n",
       "      <td>34.052000</td>\n",
       "    </tr>\n",
       "    <tr>\n",
       "      <th>15</th>\n",
       "      <td>Foro agua</td>\n",
       "      <td>octubre</td>\n",
       "      <td>2.596000</td>\n",
       "      <td>34.695000</td>\n",
       "    </tr>\n",
       "    <tr>\n",
       "      <th>16</th>\n",
       "      <td>Futuro de las ciudades - Simposio</td>\n",
       "      <td>octubre</td>\n",
       "      <td>4.773500</td>\n",
       "      <td>36.580000</td>\n",
       "    </tr>\n",
       "    <tr>\n",
       "      <th>17</th>\n",
       "      <td>INCmty</td>\n",
       "      <td>agosto</td>\n",
       "      <td>4.648000</td>\n",
       "      <td>38.197000</td>\n",
       "    </tr>\n",
       "    <tr>\n",
       "      <th>18</th>\n",
       "      <td>INCmty</td>\n",
       "      <td>noviembre</td>\n",
       "      <td>4.930000</td>\n",
       "      <td>34.379000</td>\n",
       "    </tr>\n",
       "    <tr>\n",
       "      <th>19</th>\n",
       "      <td>INCmty</td>\n",
       "      <td>octubre</td>\n",
       "      <td>11.373000</td>\n",
       "      <td>37.526000</td>\n",
       "    </tr>\n",
       "    <tr>\n",
       "      <th>20</th>\n",
       "      <td>Infonavit</td>\n",
       "      <td>octubre</td>\n",
       "      <td>17.186000</td>\n",
       "      <td>45.656000</td>\n",
       "    </tr>\n",
       "    <tr>\n",
       "      <th>21</th>\n",
       "      <td>Lealtad</td>\n",
       "      <td>octubre</td>\n",
       "      <td>39.556000</td>\n",
       "      <td>78.125000</td>\n",
       "    </tr>\n",
       "    <tr>\n",
       "      <th>22</th>\n",
       "      <td>Líderes del Mañana</td>\n",
       "      <td>agosto</td>\n",
       "      <td>4.753000</td>\n",
       "      <td>43.686000</td>\n",
       "    </tr>\n",
       "    <tr>\n",
       "      <th>23</th>\n",
       "      <td>Mi ECO</td>\n",
       "      <td>octubre</td>\n",
       "      <td>13.371500</td>\n",
       "      <td>43.969750</td>\n",
       "    </tr>\n",
       "    <tr>\n",
       "      <th>24</th>\n",
       "      <td>Mi ECO</td>\n",
       "      <td>septiembre</td>\n",
       "      <td>18.186800</td>\n",
       "      <td>40.534800</td>\n",
       "    </tr>\n",
       "    <tr>\n",
       "      <th>25</th>\n",
       "      <td>Mi Plan de Desarrollo</td>\n",
       "      <td>noviembre</td>\n",
       "      <td>31.059143</td>\n",
       "      <td>66.770143</td>\n",
       "    </tr>\n",
       "    <tr>\n",
       "      <th>26</th>\n",
       "      <td>Mi Plan de Desarrollo</td>\n",
       "      <td>octubre</td>\n",
       "      <td>11.960857</td>\n",
       "      <td>51.263000</td>\n",
       "    </tr>\n",
       "    <tr>\n",
       "      <th>27</th>\n",
       "      <td>Mi caja de ahorro</td>\n",
       "      <td>noviembre</td>\n",
       "      <td>14.553750</td>\n",
       "      <td>50.839500</td>\n",
       "    </tr>\n",
       "    <tr>\n",
       "      <th>28</th>\n",
       "      <td>Mi plan de retiro</td>\n",
       "      <td>noviembre</td>\n",
       "      <td>12.853000</td>\n",
       "      <td>66.876000</td>\n",
       "    </tr>\n",
       "    <tr>\n",
       "      <th>29</th>\n",
       "      <td>Mi plan de retiro</td>\n",
       "      <td>septiembre</td>\n",
       "      <td>3.825000</td>\n",
       "      <td>78.205000</td>\n",
       "    </tr>\n",
       "    <tr>\n",
       "      <th>30</th>\n",
       "      <td>MiLlaveDigital</td>\n",
       "      <td>agosto</td>\n",
       "      <td>3.775000</td>\n",
       "      <td>44.823000</td>\n",
       "    </tr>\n",
       "    <tr>\n",
       "      <th>31</th>\n",
       "      <td>Mis compromisos</td>\n",
       "      <td>septiembre</td>\n",
       "      <td>5.982778</td>\n",
       "      <td>53.594778</td>\n",
       "    </tr>\n",
       "    <tr>\n",
       "      <th>32</th>\n",
       "      <td>Mis convenios</td>\n",
       "      <td>agosto</td>\n",
       "      <td>21.215000</td>\n",
       "      <td>49.069000</td>\n",
       "    </tr>\n",
       "    <tr>\n",
       "      <th>33</th>\n",
       "      <td>Mujer Tec</td>\n",
       "      <td>noviembre</td>\n",
       "      <td>9.609333</td>\n",
       "      <td>42.041667</td>\n",
       "    </tr>\n",
       "    <tr>\n",
       "      <th>34</th>\n",
       "      <td>Mundial de Qatar</td>\n",
       "      <td>noviembre</td>\n",
       "      <td>15.125000</td>\n",
       "      <td>39.690000</td>\n",
       "    </tr>\n",
       "    <tr>\n",
       "      <th>35</th>\n",
       "      <td>ProTect</td>\n",
       "      <td>septiembre</td>\n",
       "      <td>16.120000</td>\n",
       "      <td>33.686000</td>\n",
       "    </tr>\n",
       "    <tr>\n",
       "      <th>36</th>\n",
       "      <td>Refiriendo Talento</td>\n",
       "      <td>agosto</td>\n",
       "      <td>11.101000</td>\n",
       "      <td>47.985000</td>\n",
       "    </tr>\n",
       "    <tr>\n",
       "      <th>37</th>\n",
       "      <td>TechSavvy</td>\n",
       "      <td>septiembre</td>\n",
       "      <td>40.581833</td>\n",
       "      <td>62.736000</td>\n",
       "    </tr>\n",
       "    <tr>\n",
       "      <th>38</th>\n",
       "      <td>Testamento</td>\n",
       "      <td>septiembre</td>\n",
       "      <td>15.002000</td>\n",
       "      <td>42.498000</td>\n",
       "    </tr>\n",
       "    <tr>\n",
       "      <th>39</th>\n",
       "      <td>Voluntariado Tec</td>\n",
       "      <td>noviembre</td>\n",
       "      <td>22.207000</td>\n",
       "      <td>51.092000</td>\n",
       "    </tr>\n",
       "    <tr>\n",
       "      <th>40</th>\n",
       "      <td>Voluntariado Tec</td>\n",
       "      <td>octubre</td>\n",
       "      <td>13.677333</td>\n",
       "      <td>38.973333</td>\n",
       "    </tr>\n",
       "    <tr>\n",
       "      <th>41</th>\n",
       "      <td>Voluntariado Tec</td>\n",
       "      <td>septiembre</td>\n",
       "      <td>12.990000</td>\n",
       "      <td>38.998000</td>\n",
       "    </tr>\n",
       "    <tr>\n",
       "      <th>42</th>\n",
       "      <td>Wellbeing</td>\n",
       "      <td>octubre</td>\n",
       "      <td>10.198000</td>\n",
       "      <td>43.817000</td>\n",
       "    </tr>\n",
       "  </tbody>\n",
       "</table>\n",
       "</div>"
      ],
      "text/plain": [
       "                           Iniciativa         Mes  \\\n",
       "0                          Aseguratec  septiembre   \n",
       "1                            BeneFlex      agosto   \n",
       "2                            BeneFlex   noviembre   \n",
       "3                            BeneFlex     octubre   \n",
       "4                      Ciberseguridad      agosto   \n",
       "5                      Ciberseguridad       julio   \n",
       "6                      Ciberseguridad     octubre   \n",
       "7                      Ciberseguridad  septiembre   \n",
       "8                      Cáncer de mama     octubre   \n",
       "9                   Declaracion Anual   noviembre   \n",
       "10                           Diabetes   noviembre   \n",
       "11                        English@Tec      agosto   \n",
       "12                        English@Tec   noviembre   \n",
       "13                        English@Tec  septiembre   \n",
       "14                    Feria del libro     octubre   \n",
       "15                          Foro agua     octubre   \n",
       "16  Futuro de las ciudades - Simposio     octubre   \n",
       "17                             INCmty      agosto   \n",
       "18                             INCmty   noviembre   \n",
       "19                             INCmty     octubre   \n",
       "20                          Infonavit     octubre   \n",
       "21                            Lealtad     octubre   \n",
       "22                 Líderes del Mañana      agosto   \n",
       "23                             Mi ECO     octubre   \n",
       "24                             Mi ECO  septiembre   \n",
       "25              Mi Plan de Desarrollo   noviembre   \n",
       "26              Mi Plan de Desarrollo     octubre   \n",
       "27                  Mi caja de ahorro   noviembre   \n",
       "28                  Mi plan de retiro   noviembre   \n",
       "29                  Mi plan de retiro  septiembre   \n",
       "30                     MiLlaveDigital      agosto   \n",
       "31                    Mis compromisos  septiembre   \n",
       "32                      Mis convenios      agosto   \n",
       "33                          Mujer Tec   noviembre   \n",
       "34                   Mundial de Qatar   noviembre   \n",
       "35                            ProTect  septiembre   \n",
       "36                 Refiriendo Talento      agosto   \n",
       "37                          TechSavvy  septiembre   \n",
       "38                         Testamento  septiembre   \n",
       "39                   Voluntariado Tec   noviembre   \n",
       "40                   Voluntariado Tec     octubre   \n",
       "41                   Voluntariado Tec  septiembre   \n",
       "42                          Wellbeing     octubre   \n",
       "\n",
       "    Tasa de click-through promedio  Tasa de aperturas promedio  \n",
       "0                        10.409857                   38.172857  \n",
       "1                        16.251235                   58.610588  \n",
       "2                        27.831773                   58.945500  \n",
       "3                        46.886500                   71.706875  \n",
       "4                        13.645333                   50.191333  \n",
       "5                        12.502500                   49.944500  \n",
       "6                         3.565000                   36.811500  \n",
       "7                         5.827000                   44.703000  \n",
       "8                        20.589667                   43.065667  \n",
       "9                        23.528000                   44.625333  \n",
       "10                       21.251000                   42.052000  \n",
       "11                       15.771500                   47.019500  \n",
       "12                       12.569333                   41.976000  \n",
       "13                       16.862000                   41.124000  \n",
       "14                        3.984000                   34.052000  \n",
       "15                        2.596000                   34.695000  \n",
       "16                        4.773500                   36.580000  \n",
       "17                        4.648000                   38.197000  \n",
       "18                        4.930000                   34.379000  \n",
       "19                       11.373000                   37.526000  \n",
       "20                       17.186000                   45.656000  \n",
       "21                       39.556000                   78.125000  \n",
       "22                        4.753000                   43.686000  \n",
       "23                       13.371500                   43.969750  \n",
       "24                       18.186800                   40.534800  \n",
       "25                       31.059143                   66.770143  \n",
       "26                       11.960857                   51.263000  \n",
       "27                       14.553750                   50.839500  \n",
       "28                       12.853000                   66.876000  \n",
       "29                        3.825000                   78.205000  \n",
       "30                        3.775000                   44.823000  \n",
       "31                        5.982778                   53.594778  \n",
       "32                       21.215000                   49.069000  \n",
       "33                        9.609333                   42.041667  \n",
       "34                       15.125000                   39.690000  \n",
       "35                       16.120000                   33.686000  \n",
       "36                       11.101000                   47.985000  \n",
       "37                       40.581833                   62.736000  \n",
       "38                       15.002000                   42.498000  \n",
       "39                       22.207000                   51.092000  \n",
       "40                       13.677333                   38.973333  \n",
       "41                       12.990000                   38.998000  \n",
       "42                       10.198000                   43.817000  "
      ]
     },
     "execution_count": 131,
     "metadata": {},
     "output_type": "execute_result"
    }
   ],
   "source": [
    "df_correos = df_correos[df_correos[\"Tasa de aperturas\"] != \"-\"]\n",
    "correos_analisis = df_correos.groupby([\"Iniciativa\",\"Mes\"])[\"Tasa de click-through\"].mean().to_dict()\n",
    "df_correos_analisis = pd.DataFrame([key for key in correos_analisis.keys()], columns=[\"Iniciativa\",\"Mes\"])\n",
    "\n",
    "correos_analisis2 = df_correos.groupby([\"Iniciativa\",\"Mes\"])[\"Tasa de aperturas\"].mean().to_dict()\n",
    "df_correos_analisis2 = pd.DataFrame([key for key in correos_analisis2.keys()], columns=[\"Iniciativa\",\"Mes\"])\n",
    "\n",
    "df_correos_analisis['Tasa de click-through promedio'] = [value for value in correos_analisis.values()]\n",
    "df_correos_analisis['Tasa de aperturas promedio'] = [value for value in correos_analisis2.values()]\n",
    "df_correos_analisis = df_correos_analisis.sort_values(by=[\"Iniciativa\",\"Mes\"], ascending=True)\n",
    "df_correos_analisis"
   ]
  },
  {
   "cell_type": "code",
   "execution_count": null,
   "metadata": {},
   "outputs": [
    {
     "data": {
      "text/html": [
       "<div>\n",
       "<style scoped>\n",
       "    .dataframe tbody tr th:only-of-type {\n",
       "        vertical-align: middle;\n",
       "    }\n",
       "\n",
       "    .dataframe tbody tr th {\n",
       "        vertical-align: top;\n",
       "    }\n",
       "\n",
       "    .dataframe thead th {\n",
       "        text-align: right;\n",
       "    }\n",
       "</style>\n",
       "<table border=\"1\" class=\"dataframe\">\n",
       "  <thead>\n",
       "    <tr style=\"text-align: right;\">\n",
       "      <th></th>\n",
       "      <th>Mes</th>\n",
       "      <th>Tasa de click-through promedio</th>\n",
       "      <th>Tasa de aperturas promedio</th>\n",
       "    </tr>\n",
       "  </thead>\n",
       "  <tbody>\n",
       "    <tr>\n",
       "      <th>0</th>\n",
       "      <td>agosto</td>\n",
       "      <td>14.214893</td>\n",
       "      <td>53.913429</td>\n",
       "    </tr>\n",
       "    <tr>\n",
       "      <th>1</th>\n",
       "      <td>julio</td>\n",
       "      <td>12.502500</td>\n",
       "      <td>49.944500</td>\n",
       "    </tr>\n",
       "    <tr>\n",
       "      <th>2</th>\n",
       "      <td>noviembre</td>\n",
       "      <td>22.604840</td>\n",
       "      <td>54.273860</td>\n",
       "    </tr>\n",
       "    <tr>\n",
       "      <th>3</th>\n",
       "      <td>octubre</td>\n",
       "      <td>20.476429</td>\n",
       "      <td>50.718457</td>\n",
       "    </tr>\n",
       "    <tr>\n",
       "      <th>4</th>\n",
       "      <td>septiembre</td>\n",
       "      <td>16.114091</td>\n",
       "      <td>48.723242</td>\n",
       "    </tr>\n",
       "  </tbody>\n",
       "</table>\n",
       "</div>"
      ],
      "text/plain": [
       "          Mes  Tasa de click-through promedio  Tasa de aperturas promedio\n",
       "0      agosto                       14.214893                   53.913429\n",
       "1       julio                       12.502500                   49.944500\n",
       "2   noviembre                       22.604840                   54.273860\n",
       "3     octubre                       20.476429                   50.718457\n",
       "4  septiembre                       16.114091                   48.723242"
      ]
     },
     "execution_count": 132,
     "metadata": {},
     "output_type": "execute_result"
    }
   ],
   "source": [
    "df_correos = df_correos[df_correos[\"Tasa de aperturas\"] != \"-\"]\n",
    "correos_analisis = df_correos.groupby([\"Mes\"])[\"Tasa de click-through\"].mean().to_dict()\n",
    "df_correos_analisis = pd.DataFrame([key for key in correos_analisis.keys()], columns=[\"Mes\"])\n",
    "\n",
    "correos_analisis2 = df_correos.groupby([\"Mes\"])[\"Tasa de aperturas\"].mean().to_dict()\n",
    "df_correos_analisis2 = pd.DataFrame([key for key in correos_analisis2.keys()], columns=[\"Mes\"])\n",
    "\n",
    "df_correos_analisis['Tasa de click-through promedio'] = [value for value in correos_analisis.values()]\n",
    "df_correos_analisis['Tasa de aperturas promedio'] = [value for value in correos_analisis2.values()]\n",
    "df_correos_analisis = df_correos_analisis.sort_values(by=[\"Mes\"], ascending=True)\n",
    "df_correos_analisis"
   ]
  },
  {
   "cell_type": "code",
   "execution_count": null,
   "metadata": {},
   "outputs": [
    {
     "data": {
      "text/html": [
       "<div>\n",
       "<style scoped>\n",
       "    .dataframe tbody tr th:only-of-type {\n",
       "        vertical-align: middle;\n",
       "    }\n",
       "\n",
       "    .dataframe tbody tr th {\n",
       "        vertical-align: top;\n",
       "    }\n",
       "\n",
       "    .dataframe thead th {\n",
       "        text-align: right;\n",
       "    }\n",
       "</style>\n",
       "<table border=\"1\" class=\"dataframe\">\n",
       "  <thead>\n",
       "    <tr style=\"text-align: right;\">\n",
       "      <th></th>\n",
       "      <th>Iniciativa</th>\n",
       "      <th>Estatus en campañas identificadas</th>\n",
       "      <th>MITEC</th>\n",
       "      <th>Responsable</th>\n",
       "      <th>Número de clics</th>\n",
       "      <th>Mes</th>\n",
       "      <th>Mes [Fecha]</th>\n",
       "      <th>Unnamed: 7</th>\n",
       "      <th>Identificadores clave</th>\n",
       "      <th>1er prefijo (TyE)</th>\n",
       "      <th>2do prefijo (pilar)</th>\n",
       "      <th>3er prefijo (area o VP)</th>\n",
       "      <th>Nombre de campaña</th>\n",
       "      <th>Nombre de correo sin CTAS</th>\n",
       "      <th>ultimo prefijo</th>\n",
       "      <th>ultimo prefijo.1</th>\n",
       "      <th>ejemplo de correo c/cta</th>\n",
       "      <th>ejemplo de correo s/cta</th>\n",
       "    </tr>\n",
       "  </thead>\n",
       "  <tbody>\n",
       "    <tr>\n",
       "      <th>0</th>\n",
       "      <td>BeneFlex</td>\n",
       "      <td>Encontrado</td>\n",
       "      <td>beneflex03</td>\n",
       "      <td>Mabely Sarahi Garcia</td>\n",
       "      <td>3913</td>\n",
       "      <td>noviembre</td>\n",
       "      <td>2022-11-01</td>\n",
       "      <td>NaN</td>\n",
       "      <td>TyE_Flexibility</td>\n",
       "      <td>TyE</td>\n",
       "      <td>Flexibility</td>\n",
       "      <td>Comp</td>\n",
       "      <td>TyE_Flexibility_Comp</td>\n",
       "      <td>TyE_Comp_BeneFlex</td>\n",
       "      <td>CCTA</td>\n",
       "      <td>SCTA</td>\n",
       "      <td>TyE_Comp_BeneFlex_CCTA</td>\n",
       "      <td>TyE_Comp_BeneFlex_SCTA</td>\n",
       "    </tr>\n",
       "    <tr>\n",
       "      <th>1</th>\n",
       "      <td>BeneFlex</td>\n",
       "      <td>Encontrado</td>\n",
       "      <td>beneflex04</td>\n",
       "      <td>Mabely Sarahi Garcia</td>\n",
       "      <td>2484</td>\n",
       "      <td>noviembre</td>\n",
       "      <td>2022-11-01</td>\n",
       "      <td>NaN</td>\n",
       "      <td>TyE_Flexibility</td>\n",
       "      <td>TyE</td>\n",
       "      <td>Flexibility</td>\n",
       "      <td>Comp</td>\n",
       "      <td>TyE_Flexibility_Comp</td>\n",
       "      <td>TyE_Comp_BeneFlex</td>\n",
       "      <td>CCTA</td>\n",
       "      <td>SCTA</td>\n",
       "      <td>TyE_Comp_BeneFlex_CCTA</td>\n",
       "      <td>TyE_Comp_BeneFlex_SCTA</td>\n",
       "    </tr>\n",
       "    <tr>\n",
       "      <th>2</th>\n",
       "      <td>Mundial de Qatar</td>\n",
       "      <td>No encontrado</td>\n",
       "      <td>MundialSD01</td>\n",
       "      <td>Marioli RT</td>\n",
       "      <td>1391</td>\n",
       "      <td>noviembre</td>\n",
       "      <td>2022-11-01</td>\n",
       "      <td>NaN</td>\n",
       "      <td>NaN</td>\n",
       "      <td>NaN</td>\n",
       "      <td>NaN</td>\n",
       "      <td>NaN</td>\n",
       "      <td>NaN</td>\n",
       "      <td>NaN</td>\n",
       "      <td>NaN</td>\n",
       "      <td>NaN</td>\n",
       "      <td>NaN</td>\n",
       "      <td>NaN</td>\n",
       "    </tr>\n",
       "    <tr>\n",
       "      <th>3</th>\n",
       "      <td>Voluntariado Tec</td>\n",
       "      <td>Encontrado</td>\n",
       "      <td>Voluntariado03</td>\n",
       "      <td>Ines Gabriela Lujan</td>\n",
       "      <td>1277</td>\n",
       "      <td>noviembre</td>\n",
       "      <td>2022-11-01</td>\n",
       "      <td>NaN</td>\n",
       "      <td>TyE_Vicepresidencias_Desarrollo</td>\n",
       "      <td>TyE</td>\n",
       "      <td>-</td>\n",
       "      <td>VIISS</td>\n",
       "      <td>TyE_VIISS</td>\n",
       "      <td>TyE_VIISS_Voluntariado Tec</td>\n",
       "      <td>CCTA</td>\n",
       "      <td>SCTA</td>\n",
       "      <td>TyE_VIISS_Voluntariado Tec_CCTA</td>\n",
       "      <td>TyE_Voluntariado Tec_SCTA</td>\n",
       "    </tr>\n",
       "    <tr>\n",
       "      <th>4</th>\n",
       "      <td>Mundial de Qatar</td>\n",
       "      <td>No encontrado</td>\n",
       "      <td>MundialTRI03</td>\n",
       "      <td>Mabely Sarahi Garcia</td>\n",
       "      <td>1234</td>\n",
       "      <td>noviembre</td>\n",
       "      <td>2022-11-01</td>\n",
       "      <td>NaN</td>\n",
       "      <td>NaN</td>\n",
       "      <td>NaN</td>\n",
       "      <td>NaN</td>\n",
       "      <td>NaN</td>\n",
       "      <td>NaN</td>\n",
       "      <td>NaN</td>\n",
       "      <td>NaN</td>\n",
       "      <td>NaN</td>\n",
       "      <td>NaN</td>\n",
       "      <td>NaN</td>\n",
       "    </tr>\n",
       "    <tr>\n",
       "      <th>...</th>\n",
       "      <td>...</td>\n",
       "      <td>...</td>\n",
       "      <td>...</td>\n",
       "      <td>...</td>\n",
       "      <td>...</td>\n",
       "      <td>...</td>\n",
       "      <td>...</td>\n",
       "      <td>...</td>\n",
       "      <td>...</td>\n",
       "      <td>...</td>\n",
       "      <td>...</td>\n",
       "      <td>...</td>\n",
       "      <td>...</td>\n",
       "      <td>...</td>\n",
       "      <td>...</td>\n",
       "      <td>...</td>\n",
       "      <td>...</td>\n",
       "      <td>...</td>\n",
       "    </tr>\n",
       "    <tr>\n",
       "      <th>194</th>\n",
       "      <td>Novus</td>\n",
       "      <td>No encontrado</td>\n",
       "      <td>Novus</td>\n",
       "      <td>Michel Daniel Bernadac</td>\n",
       "      <td>530</td>\n",
       "      <td>marzo</td>\n",
       "      <td>2022-03-01</td>\n",
       "      <td>NaN</td>\n",
       "      <td>NaN</td>\n",
       "      <td>NaN</td>\n",
       "      <td>NaN</td>\n",
       "      <td>NaN</td>\n",
       "      <td>NaN</td>\n",
       "      <td>NaN</td>\n",
       "      <td>NaN</td>\n",
       "      <td>NaN</td>\n",
       "      <td>NaN</td>\n",
       "      <td>NaN</td>\n",
       "    </tr>\n",
       "    <tr>\n",
       "      <th>195</th>\n",
       "      <td>ETHOS</td>\n",
       "      <td>Encontrado</td>\n",
       "      <td>Ethos</td>\n",
       "      <td>Priscila Gabriela Juarez</td>\n",
       "      <td>433</td>\n",
       "      <td>marzo</td>\n",
       "      <td>2022-03-01</td>\n",
       "      <td>NaN</td>\n",
       "      <td>TyE_Vicepresidencias_Desarrollo</td>\n",
       "      <td>TyE</td>\n",
       "      <td>-</td>\n",
       "      <td>VIISS</td>\n",
       "      <td>TyE_VIISS</td>\n",
       "      <td>TyE_VIISS_ETHOS</td>\n",
       "      <td>CCTA</td>\n",
       "      <td>SCTA</td>\n",
       "      <td>TyE_VIISS_ETHOS_CCTA</td>\n",
       "      <td>TyE_ETHOS_SCTA</td>\n",
       "    </tr>\n",
       "    <tr>\n",
       "      <th>196</th>\n",
       "      <td>Día Internacional de la Mujer</td>\n",
       "      <td>Encontrado</td>\n",
       "      <td>Dia Internacional de la Mujer</td>\n",
       "      <td>Priscilla Gabriela Juarez</td>\n",
       "      <td>410</td>\n",
       "      <td>marzo</td>\n",
       "      <td>2022-03-01</td>\n",
       "      <td>NaN</td>\n",
       "      <td>TyE_Vicepresidencias_Desarrollo</td>\n",
       "      <td>TyE</td>\n",
       "      <td>-</td>\n",
       "      <td>VIISS</td>\n",
       "      <td>TyE_VIISS</td>\n",
       "      <td>TyE_VIISS_Día Internacional de la Mujer</td>\n",
       "      <td>CCTA</td>\n",
       "      <td>SCTA</td>\n",
       "      <td>TyE_VIISS_Día Internacional de la Mujer_CCTA</td>\n",
       "      <td>TyE_Día Internacional de la Mujer_SCTA</td>\n",
       "    </tr>\n",
       "    <tr>\n",
       "      <th>197</th>\n",
       "      <td>NaN</td>\n",
       "      <td>No encontrado</td>\n",
       "      <td>Iniciativas Sociales</td>\n",
       "      <td>Priscilla Gabriela Juarez</td>\n",
       "      <td>327</td>\n",
       "      <td>marzo</td>\n",
       "      <td>2022-03-01</td>\n",
       "      <td>NaN</td>\n",
       "      <td>NaN</td>\n",
       "      <td>NaN</td>\n",
       "      <td>NaN</td>\n",
       "      <td>NaN</td>\n",
       "      <td>NaN</td>\n",
       "      <td>NaN</td>\n",
       "      <td>NaN</td>\n",
       "      <td>NaN</td>\n",
       "      <td>NaN</td>\n",
       "      <td>NaN</td>\n",
       "    </tr>\n",
       "    <tr>\n",
       "      <th>198</th>\n",
       "      <td>Wellbeing</td>\n",
       "      <td>Encontrado</td>\n",
       "      <td>Health4life</td>\n",
       "      <td>Martha Patricia Saenz</td>\n",
       "      <td>148</td>\n",
       "      <td>marzo</td>\n",
       "      <td>2022-03-01</td>\n",
       "      <td>NaN</td>\n",
       "      <td>TyE_PowerUp</td>\n",
       "      <td>TyE</td>\n",
       "      <td>PowerUp</td>\n",
       "      <td>Bienestar</td>\n",
       "      <td>TyE_PowerUp_Bienestar</td>\n",
       "      <td>TyE_Bienestar_Wellbeing</td>\n",
       "      <td>CCTA</td>\n",
       "      <td>SCTA</td>\n",
       "      <td>TyE_Bienestar_Wellbeing_CCTA</td>\n",
       "      <td>TyE_Bienestar_Wellbeing_SCTA</td>\n",
       "    </tr>\n",
       "  </tbody>\n",
       "</table>\n",
       "<p>199 rows × 18 columns</p>\n",
       "</div>"
      ],
      "text/plain": [
       "                        Iniciativa Estatus en campañas identificadas  \\\n",
       "0                         BeneFlex                        Encontrado   \n",
       "1                         BeneFlex                        Encontrado   \n",
       "2                 Mundial de Qatar                     No encontrado   \n",
       "3                 Voluntariado Tec                        Encontrado   \n",
       "4                 Mundial de Qatar                     No encontrado   \n",
       "..                             ...                               ...   \n",
       "194                         Novus                      No encontrado   \n",
       "195                          ETHOS                        Encontrado   \n",
       "196  Día Internacional de la Mujer                        Encontrado   \n",
       "197                            NaN                     No encontrado   \n",
       "198                      Wellbeing                        Encontrado   \n",
       "\n",
       "                             MITEC                Responsable  \\\n",
       "0                       beneflex03       Mabely Sarahi Garcia   \n",
       "1                       beneflex04       Mabely Sarahi Garcia   \n",
       "2                      MundialSD01                 Marioli RT   \n",
       "3                   Voluntariado03        Ines Gabriela Lujan   \n",
       "4                     MundialTRI03       Mabely Sarahi Garcia   \n",
       "..                             ...                        ...   \n",
       "194                          Novus     Michel Daniel Bernadac   \n",
       "195                          Ethos   Priscila Gabriela Juarez   \n",
       "196  Dia Internacional de la Mujer  Priscilla Gabriela Juarez   \n",
       "197           Iniciativas Sociales  Priscilla Gabriela Juarez   \n",
       "198                    Health4life      Martha Patricia Saenz   \n",
       "\n",
       "     Número de clics        Mes Mes [Fecha] Unnamed: 7  \\\n",
       "0               3913  noviembre  2022-11-01        NaN   \n",
       "1               2484  noviembre  2022-11-01        NaN   \n",
       "2               1391  noviembre  2022-11-01        NaN   \n",
       "3               1277  noviembre  2022-11-01        NaN   \n",
       "4               1234  noviembre  2022-11-01        NaN   \n",
       "..               ...        ...         ...        ...   \n",
       "194              530      marzo  2022-03-01        NaN   \n",
       "195              433      marzo  2022-03-01        NaN   \n",
       "196              410      marzo  2022-03-01        NaN   \n",
       "197              327      marzo  2022-03-01        NaN   \n",
       "198              148      marzo  2022-03-01        NaN   \n",
       "\n",
       "               Identificadores clave 1er prefijo (TyE) 2do prefijo (pilar)  \\\n",
       "0                    TyE_Flexibility               TyE         Flexibility   \n",
       "1                    TyE_Flexibility               TyE         Flexibility   \n",
       "2                                NaN               NaN                 NaN   \n",
       "3    TyE_Vicepresidencias_Desarrollo               TyE                   -   \n",
       "4                                NaN               NaN                 NaN   \n",
       "..                               ...               ...                 ...   \n",
       "194                              NaN               NaN                 NaN   \n",
       "195  TyE_Vicepresidencias_Desarrollo               TyE                   -   \n",
       "196  TyE_Vicepresidencias_Desarrollo               TyE                   -   \n",
       "197                              NaN               NaN                 NaN   \n",
       "198                      TyE_PowerUp               TyE             PowerUp   \n",
       "\n",
       "    3er prefijo (area o VP)      Nombre de campaña  \\\n",
       "0                      Comp   TyE_Flexibility_Comp   \n",
       "1                      Comp   TyE_Flexibility_Comp   \n",
       "2                       NaN                    NaN   \n",
       "3                     VIISS              TyE_VIISS   \n",
       "4                       NaN                    NaN   \n",
       "..                      ...                    ...   \n",
       "194                     NaN                    NaN   \n",
       "195                   VIISS              TyE_VIISS   \n",
       "196                   VIISS              TyE_VIISS   \n",
       "197                     NaN                    NaN   \n",
       "198               Bienestar  TyE_PowerUp_Bienestar   \n",
       "\n",
       "                   Nombre de correo sin CTAS ultimo prefijo ultimo prefijo.1  \\\n",
       "0                          TyE_Comp_BeneFlex           CCTA             SCTA   \n",
       "1                          TyE_Comp_BeneFlex           CCTA             SCTA   \n",
       "2                                        NaN            NaN              NaN   \n",
       "3                 TyE_VIISS_Voluntariado Tec           CCTA             SCTA   \n",
       "4                                        NaN            NaN              NaN   \n",
       "..                                       ...            ...              ...   \n",
       "194                                      NaN            NaN              NaN   \n",
       "195                          TyE_VIISS_ETHOS           CCTA             SCTA   \n",
       "196  TyE_VIISS_Día Internacional de la Mujer           CCTA             SCTA   \n",
       "197                                      NaN            NaN              NaN   \n",
       "198                  TyE_Bienestar_Wellbeing           CCTA             SCTA   \n",
       "\n",
       "                          ejemplo de correo c/cta  \\\n",
       "0                          TyE_Comp_BeneFlex_CCTA   \n",
       "1                          TyE_Comp_BeneFlex_CCTA   \n",
       "2                                             NaN   \n",
       "3                 TyE_VIISS_Voluntariado Tec_CCTA   \n",
       "4                                             NaN   \n",
       "..                                            ...   \n",
       "194                                           NaN   \n",
       "195                          TyE_VIISS_ETHOS_CCTA   \n",
       "196  TyE_VIISS_Día Internacional de la Mujer_CCTA   \n",
       "197                                           NaN   \n",
       "198                  TyE_Bienestar_Wellbeing_CCTA   \n",
       "\n",
       "                    ejemplo de correo s/cta  \n",
       "0                    TyE_Comp_BeneFlex_SCTA  \n",
       "1                    TyE_Comp_BeneFlex_SCTA  \n",
       "2                                       NaN  \n",
       "3                 TyE_Voluntariado Tec_SCTA  \n",
       "4                                       NaN  \n",
       "..                                      ...  \n",
       "194                                     NaN  \n",
       "195                          TyE_ETHOS_SCTA  \n",
       "196  TyE_Día Internacional de la Mujer_SCTA  \n",
       "197                                     NaN  \n",
       "198            TyE_Bienestar_Wellbeing_SCTA  \n",
       "\n",
       "[199 rows x 18 columns]"
      ]
     },
     "execution_count": 133,
     "metadata": {},
     "output_type": "execute_result"
    }
   ],
   "source": [
    "df_campañas[\"2do prefijo (pilar)\"].fillna('-', inplace = True)\n",
    "df_mitec_final = pd.merge(df_mitec,df_campañas, how = \"left\")\n",
    "df_mitec_final"
   ]
  },
  {
   "cell_type": "code",
   "execution_count": null,
   "metadata": {},
   "outputs": [
    {
     "data": {
      "text/plain": [
       "0       1\n",
       "1       1\n",
       "2      11\n",
       "3       1\n",
       "4      11\n",
       "       ..\n",
       "194    11\n",
       "195     1\n",
       "196     1\n",
       "197    12\n",
       "198     1\n",
       "Length: 199, dtype: int64"
      ]
     },
     "execution_count": 134,
     "metadata": {},
     "output_type": "execute_result"
    }
   ],
   "source": [
    "df_mitec_nulos = df_mitec_final.isnull().sum(axis=1)\n",
    "df_mitec_nulos "
   ]
  },
  {
   "cell_type": "code",
   "execution_count": null,
   "metadata": {},
   "outputs": [
    {
     "data": {
      "text/html": [
       "<div>\n",
       "<style scoped>\n",
       "    .dataframe tbody tr th:only-of-type {\n",
       "        vertical-align: middle;\n",
       "    }\n",
       "\n",
       "    .dataframe tbody tr th {\n",
       "        vertical-align: top;\n",
       "    }\n",
       "\n",
       "    .dataframe thead th {\n",
       "        text-align: right;\n",
       "    }\n",
       "</style>\n",
       "<table border=\"1\" class=\"dataframe\">\n",
       "  <thead>\n",
       "    <tr style=\"text-align: right;\">\n",
       "      <th></th>\n",
       "      <th>Mes [Fecha]</th>\n",
       "      <th>Número de clics promedio mensual</th>\n",
       "      <th>Número de clics promedio diario</th>\n",
       "    </tr>\n",
       "  </thead>\n",
       "  <tbody>\n",
       "    <tr>\n",
       "      <th>0</th>\n",
       "      <td>2022-03-01</td>\n",
       "      <td>1577.000000</td>\n",
       "      <td>52.566667</td>\n",
       "    </tr>\n",
       "    <tr>\n",
       "      <th>1</th>\n",
       "      <td>2022-04-01</td>\n",
       "      <td>654.521739</td>\n",
       "      <td>21.817391</td>\n",
       "    </tr>\n",
       "    <tr>\n",
       "      <th>2</th>\n",
       "      <td>2022-05-01</td>\n",
       "      <td>651.652174</td>\n",
       "      <td>21.721739</td>\n",
       "    </tr>\n",
       "    <tr>\n",
       "      <th>3</th>\n",
       "      <td>2022-07-01</td>\n",
       "      <td>451.375000</td>\n",
       "      <td>15.045833</td>\n",
       "    </tr>\n",
       "    <tr>\n",
       "      <th>4</th>\n",
       "      <td>2022-08-01</td>\n",
       "      <td>676.444444</td>\n",
       "      <td>22.548148</td>\n",
       "    </tr>\n",
       "    <tr>\n",
       "      <th>5</th>\n",
       "      <td>2022-09-01</td>\n",
       "      <td>663.629630</td>\n",
       "      <td>22.120988</td>\n",
       "    </tr>\n",
       "    <tr>\n",
       "      <th>6</th>\n",
       "      <td>2022-10-01</td>\n",
       "      <td>698.645161</td>\n",
       "      <td>23.288172</td>\n",
       "    </tr>\n",
       "    <tr>\n",
       "      <th>7</th>\n",
       "      <td>2022-11-01</td>\n",
       "      <td>645.295455</td>\n",
       "      <td>21.509848</td>\n",
       "    </tr>\n",
       "  </tbody>\n",
       "</table>\n",
       "</div>"
      ],
      "text/plain": [
       "  Mes [Fecha]  Número de clics promedio mensual  \\\n",
       "0  2022-03-01                       1577.000000   \n",
       "1  2022-04-01                        654.521739   \n",
       "2  2022-05-01                        651.652174   \n",
       "3  2022-07-01                        451.375000   \n",
       "4  2022-08-01                        676.444444   \n",
       "5  2022-09-01                        663.629630   \n",
       "6  2022-10-01                        698.645161   \n",
       "7  2022-11-01                        645.295455   \n",
       "\n",
       "   Número de clics promedio diario  \n",
       "0                        52.566667  \n",
       "1                        21.817391  \n",
       "2                        21.721739  \n",
       "3                        15.045833  \n",
       "4                        22.548148  \n",
       "5                        22.120988  \n",
       "6                        23.288172  \n",
       "7                        21.509848  "
      ]
     },
     "execution_count": 135,
     "metadata": {},
     "output_type": "execute_result"
    }
   ],
   "source": [
    "    df_mitec_final[\"Estatus\"] = [\"No encontrado\" if num_nulos>2 else \"Encontrado\" for num_nulos in df_mitec_nulos]\n",
    "    df_mitec_final = df_mitec_final[['1er prefijo (TyE)',\n",
    "        '2do prefijo (pilar)', '3er prefijo (area o VP)','Nombre de campaña','Iniciativa','Estatus',\n",
    "        'Mes [Fecha]','Número de clics']]\n",
    "    \n",
    "    mitec_analisis_mes = df_mitec.groupby([\"Mes [Fecha]\"], as_index=False)[\"Número de clics\"].mean()\n",
    "    mitec_analisis_mes.rename(columns = {\"Número de clics\":\"Número de clics promedio mensual\"}, inplace=True)\n",
    "    mitec_analisis_mes[\"Número de clics promedio diario\"] = mitec_analisis_mes[\"Número de clics promedio mensual\"]/30\n",
    "    mitec_analisis_mes = mitec_analisis_mes.sort_values(by=[\"Mes [Fecha]\"], ascending=True).reset_index(drop=True)\n",
    "    mitec_analisis_mes"
   ]
  },
  {
   "cell_type": "code",
   "execution_count": null,
   "metadata": {},
   "outputs": [
    {
     "data": {
      "application/vnd.plotly.v1+json": {
       "config": {
        "plotlyServerURL": "https://plot.ly"
       },
       "data": [
        {
         "type": "scatter",
         "x": [
          "2022-03-01T00:00:00",
          "2022-04-01T00:00:00",
          "2022-05-01T00:00:00",
          "2022-07-01T00:00:00",
          "2022-08-01T00:00:00",
          "2022-09-01T00:00:00",
          "2022-10-01T00:00:00",
          "2022-11-01T00:00:00"
         ],
         "y": [
          1577,
          654.5217391304348,
          651.6521739130435,
          451.375,
          676.4444444444445,
          663.6296296296297,
          698.6451612903226,
          645.2954545454545
         ]
        }
       ],
       "layout": {
        "template": {
         "data": {
          "bar": [
           {
            "error_x": {
             "color": "#2a3f5f"
            },
            "error_y": {
             "color": "#2a3f5f"
            },
            "marker": {
             "line": {
              "color": "#E5ECF6",
              "width": 0.5
             },
             "pattern": {
              "fillmode": "overlay",
              "size": 10,
              "solidity": 0.2
             }
            },
            "type": "bar"
           }
          ],
          "barpolar": [
           {
            "marker": {
             "line": {
              "color": "#E5ECF6",
              "width": 0.5
             },
             "pattern": {
              "fillmode": "overlay",
              "size": 10,
              "solidity": 0.2
             }
            },
            "type": "barpolar"
           }
          ],
          "carpet": [
           {
            "aaxis": {
             "endlinecolor": "#2a3f5f",
             "gridcolor": "white",
             "linecolor": "white",
             "minorgridcolor": "white",
             "startlinecolor": "#2a3f5f"
            },
            "baxis": {
             "endlinecolor": "#2a3f5f",
             "gridcolor": "white",
             "linecolor": "white",
             "minorgridcolor": "white",
             "startlinecolor": "#2a3f5f"
            },
            "type": "carpet"
           }
          ],
          "choropleth": [
           {
            "colorbar": {
             "outlinewidth": 0,
             "ticks": ""
            },
            "type": "choropleth"
           }
          ],
          "contour": [
           {
            "colorbar": {
             "outlinewidth": 0,
             "ticks": ""
            },
            "colorscale": [
             [
              0,
              "#0d0887"
             ],
             [
              0.1111111111111111,
              "#46039f"
             ],
             [
              0.2222222222222222,
              "#7201a8"
             ],
             [
              0.3333333333333333,
              "#9c179e"
             ],
             [
              0.4444444444444444,
              "#bd3786"
             ],
             [
              0.5555555555555556,
              "#d8576b"
             ],
             [
              0.6666666666666666,
              "#ed7953"
             ],
             [
              0.7777777777777778,
              "#fb9f3a"
             ],
             [
              0.8888888888888888,
              "#fdca26"
             ],
             [
              1,
              "#f0f921"
             ]
            ],
            "type": "contour"
           }
          ],
          "contourcarpet": [
           {
            "colorbar": {
             "outlinewidth": 0,
             "ticks": ""
            },
            "type": "contourcarpet"
           }
          ],
          "heatmap": [
           {
            "colorbar": {
             "outlinewidth": 0,
             "ticks": ""
            },
            "colorscale": [
             [
              0,
              "#0d0887"
             ],
             [
              0.1111111111111111,
              "#46039f"
             ],
             [
              0.2222222222222222,
              "#7201a8"
             ],
             [
              0.3333333333333333,
              "#9c179e"
             ],
             [
              0.4444444444444444,
              "#bd3786"
             ],
             [
              0.5555555555555556,
              "#d8576b"
             ],
             [
              0.6666666666666666,
              "#ed7953"
             ],
             [
              0.7777777777777778,
              "#fb9f3a"
             ],
             [
              0.8888888888888888,
              "#fdca26"
             ],
             [
              1,
              "#f0f921"
             ]
            ],
            "type": "heatmap"
           }
          ],
          "heatmapgl": [
           {
            "colorbar": {
             "outlinewidth": 0,
             "ticks": ""
            },
            "colorscale": [
             [
              0,
              "#0d0887"
             ],
             [
              0.1111111111111111,
              "#46039f"
             ],
             [
              0.2222222222222222,
              "#7201a8"
             ],
             [
              0.3333333333333333,
              "#9c179e"
             ],
             [
              0.4444444444444444,
              "#bd3786"
             ],
             [
              0.5555555555555556,
              "#d8576b"
             ],
             [
              0.6666666666666666,
              "#ed7953"
             ],
             [
              0.7777777777777778,
              "#fb9f3a"
             ],
             [
              0.8888888888888888,
              "#fdca26"
             ],
             [
              1,
              "#f0f921"
             ]
            ],
            "type": "heatmapgl"
           }
          ],
          "histogram": [
           {
            "marker": {
             "pattern": {
              "fillmode": "overlay",
              "size": 10,
              "solidity": 0.2
             }
            },
            "type": "histogram"
           }
          ],
          "histogram2d": [
           {
            "colorbar": {
             "outlinewidth": 0,
             "ticks": ""
            },
            "colorscale": [
             [
              0,
              "#0d0887"
             ],
             [
              0.1111111111111111,
              "#46039f"
             ],
             [
              0.2222222222222222,
              "#7201a8"
             ],
             [
              0.3333333333333333,
              "#9c179e"
             ],
             [
              0.4444444444444444,
              "#bd3786"
             ],
             [
              0.5555555555555556,
              "#d8576b"
             ],
             [
              0.6666666666666666,
              "#ed7953"
             ],
             [
              0.7777777777777778,
              "#fb9f3a"
             ],
             [
              0.8888888888888888,
              "#fdca26"
             ],
             [
              1,
              "#f0f921"
             ]
            ],
            "type": "histogram2d"
           }
          ],
          "histogram2dcontour": [
           {
            "colorbar": {
             "outlinewidth": 0,
             "ticks": ""
            },
            "colorscale": [
             [
              0,
              "#0d0887"
             ],
             [
              0.1111111111111111,
              "#46039f"
             ],
             [
              0.2222222222222222,
              "#7201a8"
             ],
             [
              0.3333333333333333,
              "#9c179e"
             ],
             [
              0.4444444444444444,
              "#bd3786"
             ],
             [
              0.5555555555555556,
              "#d8576b"
             ],
             [
              0.6666666666666666,
              "#ed7953"
             ],
             [
              0.7777777777777778,
              "#fb9f3a"
             ],
             [
              0.8888888888888888,
              "#fdca26"
             ],
             [
              1,
              "#f0f921"
             ]
            ],
            "type": "histogram2dcontour"
           }
          ],
          "mesh3d": [
           {
            "colorbar": {
             "outlinewidth": 0,
             "ticks": ""
            },
            "type": "mesh3d"
           }
          ],
          "parcoords": [
           {
            "line": {
             "colorbar": {
              "outlinewidth": 0,
              "ticks": ""
             }
            },
            "type": "parcoords"
           }
          ],
          "pie": [
           {
            "automargin": true,
            "type": "pie"
           }
          ],
          "scatter": [
           {
            "marker": {
             "colorbar": {
              "outlinewidth": 0,
              "ticks": ""
             }
            },
            "type": "scatter"
           }
          ],
          "scatter3d": [
           {
            "line": {
             "colorbar": {
              "outlinewidth": 0,
              "ticks": ""
             }
            },
            "marker": {
             "colorbar": {
              "outlinewidth": 0,
              "ticks": ""
             }
            },
            "type": "scatter3d"
           }
          ],
          "scattercarpet": [
           {
            "marker": {
             "colorbar": {
              "outlinewidth": 0,
              "ticks": ""
             }
            },
            "type": "scattercarpet"
           }
          ],
          "scattergeo": [
           {
            "marker": {
             "colorbar": {
              "outlinewidth": 0,
              "ticks": ""
             }
            },
            "type": "scattergeo"
           }
          ],
          "scattergl": [
           {
            "marker": {
             "colorbar": {
              "outlinewidth": 0,
              "ticks": ""
             }
            },
            "type": "scattergl"
           }
          ],
          "scattermapbox": [
           {
            "marker": {
             "colorbar": {
              "outlinewidth": 0,
              "ticks": ""
             }
            },
            "type": "scattermapbox"
           }
          ],
          "scatterpolar": [
           {
            "marker": {
             "colorbar": {
              "outlinewidth": 0,
              "ticks": ""
             }
            },
            "type": "scatterpolar"
           }
          ],
          "scatterpolargl": [
           {
            "marker": {
             "colorbar": {
              "outlinewidth": 0,
              "ticks": ""
             }
            },
            "type": "scatterpolargl"
           }
          ],
          "scatterternary": [
           {
            "marker": {
             "colorbar": {
              "outlinewidth": 0,
              "ticks": ""
             }
            },
            "type": "scatterternary"
           }
          ],
          "surface": [
           {
            "colorbar": {
             "outlinewidth": 0,
             "ticks": ""
            },
            "colorscale": [
             [
              0,
              "#0d0887"
             ],
             [
              0.1111111111111111,
              "#46039f"
             ],
             [
              0.2222222222222222,
              "#7201a8"
             ],
             [
              0.3333333333333333,
              "#9c179e"
             ],
             [
              0.4444444444444444,
              "#bd3786"
             ],
             [
              0.5555555555555556,
              "#d8576b"
             ],
             [
              0.6666666666666666,
              "#ed7953"
             ],
             [
              0.7777777777777778,
              "#fb9f3a"
             ],
             [
              0.8888888888888888,
              "#fdca26"
             ],
             [
              1,
              "#f0f921"
             ]
            ],
            "type": "surface"
           }
          ],
          "table": [
           {
            "cells": {
             "fill": {
              "color": "#EBF0F8"
             },
             "line": {
              "color": "white"
             }
            },
            "header": {
             "fill": {
              "color": "#C8D4E3"
             },
             "line": {
              "color": "white"
             }
            },
            "type": "table"
           }
          ]
         },
         "layout": {
          "annotationdefaults": {
           "arrowcolor": "#2a3f5f",
           "arrowhead": 0,
           "arrowwidth": 1
          },
          "autotypenumbers": "strict",
          "coloraxis": {
           "colorbar": {
            "outlinewidth": 0,
            "ticks": ""
           }
          },
          "colorscale": {
           "diverging": [
            [
             0,
             "#8e0152"
            ],
            [
             0.1,
             "#c51b7d"
            ],
            [
             0.2,
             "#de77ae"
            ],
            [
             0.3,
             "#f1b6da"
            ],
            [
             0.4,
             "#fde0ef"
            ],
            [
             0.5,
             "#f7f7f7"
            ],
            [
             0.6,
             "#e6f5d0"
            ],
            [
             0.7,
             "#b8e186"
            ],
            [
             0.8,
             "#7fbc41"
            ],
            [
             0.9,
             "#4d9221"
            ],
            [
             1,
             "#276419"
            ]
           ],
           "sequential": [
            [
             0,
             "#0d0887"
            ],
            [
             0.1111111111111111,
             "#46039f"
            ],
            [
             0.2222222222222222,
             "#7201a8"
            ],
            [
             0.3333333333333333,
             "#9c179e"
            ],
            [
             0.4444444444444444,
             "#bd3786"
            ],
            [
             0.5555555555555556,
             "#d8576b"
            ],
            [
             0.6666666666666666,
             "#ed7953"
            ],
            [
             0.7777777777777778,
             "#fb9f3a"
            ],
            [
             0.8888888888888888,
             "#fdca26"
            ],
            [
             1,
             "#f0f921"
            ]
           ],
           "sequentialminus": [
            [
             0,
             "#0d0887"
            ],
            [
             0.1111111111111111,
             "#46039f"
            ],
            [
             0.2222222222222222,
             "#7201a8"
            ],
            [
             0.3333333333333333,
             "#9c179e"
            ],
            [
             0.4444444444444444,
             "#bd3786"
            ],
            [
             0.5555555555555556,
             "#d8576b"
            ],
            [
             0.6666666666666666,
             "#ed7953"
            ],
            [
             0.7777777777777778,
             "#fb9f3a"
            ],
            [
             0.8888888888888888,
             "#fdca26"
            ],
            [
             1,
             "#f0f921"
            ]
           ]
          },
          "colorway": [
           "#636efa",
           "#EF553B",
           "#00cc96",
           "#ab63fa",
           "#FFA15A",
           "#19d3f3",
           "#FF6692",
           "#B6E880",
           "#FF97FF",
           "#FECB52"
          ],
          "font": {
           "color": "#2a3f5f"
          },
          "geo": {
           "bgcolor": "white",
           "lakecolor": "white",
           "landcolor": "#E5ECF6",
           "showlakes": true,
           "showland": true,
           "subunitcolor": "white"
          },
          "hoverlabel": {
           "align": "left"
          },
          "hovermode": "closest",
          "mapbox": {
           "style": "light"
          },
          "paper_bgcolor": "white",
          "plot_bgcolor": "#E5ECF6",
          "polar": {
           "angularaxis": {
            "gridcolor": "white",
            "linecolor": "white",
            "ticks": ""
           },
           "bgcolor": "#E5ECF6",
           "radialaxis": {
            "gridcolor": "white",
            "linecolor": "white",
            "ticks": ""
           }
          },
          "scene": {
           "xaxis": {
            "backgroundcolor": "#E5ECF6",
            "gridcolor": "white",
            "gridwidth": 2,
            "linecolor": "white",
            "showbackground": true,
            "ticks": "",
            "zerolinecolor": "white"
           },
           "yaxis": {
            "backgroundcolor": "#E5ECF6",
            "gridcolor": "white",
            "gridwidth": 2,
            "linecolor": "white",
            "showbackground": true,
            "ticks": "",
            "zerolinecolor": "white"
           },
           "zaxis": {
            "backgroundcolor": "#E5ECF6",
            "gridcolor": "white",
            "gridwidth": 2,
            "linecolor": "white",
            "showbackground": true,
            "ticks": "",
            "zerolinecolor": "white"
           }
          },
          "shapedefaults": {
           "line": {
            "color": "#2a3f5f"
           }
          },
          "ternary": {
           "aaxis": {
            "gridcolor": "white",
            "linecolor": "white",
            "ticks": ""
           },
           "baxis": {
            "gridcolor": "white",
            "linecolor": "white",
            "ticks": ""
           },
           "bgcolor": "#E5ECF6",
           "caxis": {
            "gridcolor": "white",
            "linecolor": "white",
            "ticks": ""
           }
          },
          "title": {
           "x": 0.05
          },
          "xaxis": {
           "automargin": true,
           "gridcolor": "white",
           "linecolor": "white",
           "ticks": "",
           "title": {
            "standoff": 15
           },
           "zerolinecolor": "white",
           "zerolinewidth": 2
          },
          "yaxis": {
           "automargin": true,
           "gridcolor": "white",
           "linecolor": "white",
           "ticks": "",
           "title": {
            "standoff": 15
           },
           "zerolinecolor": "white",
           "zerolinewidth": 2
          }
         }
        }
       }
      }
     },
     "metadata": {},
     "output_type": "display_data"
    }
   ],
   "source": [
    "fig = go.Figure([go.Scatter(x=mitec_analisis_mes['Mes [Fecha]'], y=mitec_analisis_mes['Número de clics promedio mensual'])])\n",
    "fig.show()"
   ]
  },
  {
   "cell_type": "code",
   "execution_count": null,
   "metadata": {},
   "outputs": [
    {
     "name": "stderr",
     "output_type": "stream",
     "text": [
      "C:\\Users\\hp\\AppData\\Local\\Temp\\ipykernel_14352\\3375044629.py:1: FutureWarning:\n",
      "\n",
      "Indexing with multiple keys (implicitly converted to a tuple of keys) will be deprecated, use a list instead.\n",
      "\n"
     ]
    },
    {
     "data": {
      "text/html": [
       "<div>\n",
       "<style scoped>\n",
       "    .dataframe tbody tr th:only-of-type {\n",
       "        vertical-align: middle;\n",
       "    }\n",
       "\n",
       "    .dataframe tbody tr th {\n",
       "        vertical-align: top;\n",
       "    }\n",
       "\n",
       "    .dataframe thead th {\n",
       "        text-align: right;\n",
       "    }\n",
       "</style>\n",
       "<table border=\"1\" class=\"dataframe\">\n",
       "  <thead>\n",
       "    <tr style=\"text-align: right;\">\n",
       "      <th></th>\n",
       "      <th>Iniciativa</th>\n",
       "      <th>Mes</th>\n",
       "      <th>Enviado</th>\n",
       "      <th>Entregado</th>\n",
       "      <th>Tasa de entregas</th>\n",
       "      <th>Abierto</th>\n",
       "      <th>Tasa de click-through</th>\n",
       "    </tr>\n",
       "  </thead>\n",
       "  <tbody>\n",
       "    <tr>\n",
       "      <th>0</th>\n",
       "      <td>Aseguratec</td>\n",
       "      <td>septiembre</td>\n",
       "      <td>23992.571429</td>\n",
       "      <td>23937.571429</td>\n",
       "      <td>99.769143</td>\n",
       "      <td>8685.571429</td>\n",
       "      <td>10.409857</td>\n",
       "    </tr>\n",
       "    <tr>\n",
       "      <th>1</th>\n",
       "      <td>BeneFlex</td>\n",
       "      <td>agosto</td>\n",
       "      <td>1211.882353</td>\n",
       "      <td>1210.529412</td>\n",
       "      <td>99.858471</td>\n",
       "      <td>717.058824</td>\n",
       "      <td>16.251235</td>\n",
       "    </tr>\n",
       "    <tr>\n",
       "      <th>2</th>\n",
       "      <td>BeneFlex</td>\n",
       "      <td>noviembre</td>\n",
       "      <td>6153.727273</td>\n",
       "      <td>6117.000000</td>\n",
       "      <td>99.550318</td>\n",
       "      <td>3375.545455</td>\n",
       "      <td>27.831773</td>\n",
       "    </tr>\n",
       "    <tr>\n",
       "      <th>3</th>\n",
       "      <td>BeneFlex</td>\n",
       "      <td>octubre</td>\n",
       "      <td>6091.750000</td>\n",
       "      <td>6078.750000</td>\n",
       "      <td>99.887125</td>\n",
       "      <td>3416.375000</td>\n",
       "      <td>46.886500</td>\n",
       "    </tr>\n",
       "    <tr>\n",
       "      <th>4</th>\n",
       "      <td>Ciberseguridad</td>\n",
       "      <td>agosto</td>\n",
       "      <td>22882.333333</td>\n",
       "      <td>22846.333333</td>\n",
       "      <td>99.842667</td>\n",
       "      <td>11467.333333</td>\n",
       "      <td>13.645333</td>\n",
       "    </tr>\n",
       "    <tr>\n",
       "      <th>5</th>\n",
       "      <td>Ciberseguridad</td>\n",
       "      <td>julio</td>\n",
       "      <td>13902.500000</td>\n",
       "      <td>13861.500000</td>\n",
       "      <td>98.917000</td>\n",
       "      <td>7197.500000</td>\n",
       "      <td>12.502500</td>\n",
       "    </tr>\n",
       "    <tr>\n",
       "      <th>6</th>\n",
       "      <td>Ciberseguridad</td>\n",
       "      <td>octubre</td>\n",
       "      <td>34665.000000</td>\n",
       "      <td>33779.000000</td>\n",
       "      <td>97.568000</td>\n",
       "      <td>12423.000000</td>\n",
       "      <td>3.565000</td>\n",
       "    </tr>\n",
       "    <tr>\n",
       "      <th>7</th>\n",
       "      <td>Ciberseguridad</td>\n",
       "      <td>septiembre</td>\n",
       "      <td>31097.000000</td>\n",
       "      <td>31058.000000</td>\n",
       "      <td>99.875000</td>\n",
       "      <td>13884.000000</td>\n",
       "      <td>5.827000</td>\n",
       "    </tr>\n",
       "    <tr>\n",
       "      <th>8</th>\n",
       "      <td>Cáncer de mama</td>\n",
       "      <td>octubre</td>\n",
       "      <td>16378.666667</td>\n",
       "      <td>16336.000000</td>\n",
       "      <td>99.736667</td>\n",
       "      <td>6939.000000</td>\n",
       "      <td>20.589667</td>\n",
       "    </tr>\n",
       "    <tr>\n",
       "      <th>9</th>\n",
       "      <td>Declaracion Anual</td>\n",
       "      <td>noviembre</td>\n",
       "      <td>19892.333333</td>\n",
       "      <td>19878.000000</td>\n",
       "      <td>99.945333</td>\n",
       "      <td>9343.666667</td>\n",
       "      <td>23.528000</td>\n",
       "    </tr>\n",
       "    <tr>\n",
       "      <th>10</th>\n",
       "      <td>Diabetes</td>\n",
       "      <td>noviembre</td>\n",
       "      <td>22392.000000</td>\n",
       "      <td>22325.000000</td>\n",
       "      <td>99.701000</td>\n",
       "      <td>9388.000000</td>\n",
       "      <td>21.251000</td>\n",
       "    </tr>\n",
       "    <tr>\n",
       "      <th>11</th>\n",
       "      <td>English@Tec</td>\n",
       "      <td>agosto</td>\n",
       "      <td>12541.000000</td>\n",
       "      <td>12470.000000</td>\n",
       "      <td>99.374000</td>\n",
       "      <td>5541.500000</td>\n",
       "      <td>15.771500</td>\n",
       "    </tr>\n",
       "    <tr>\n",
       "      <th>12</th>\n",
       "      <td>English@Tec</td>\n",
       "      <td>noviembre</td>\n",
       "      <td>6439.000000</td>\n",
       "      <td>6416.333333</td>\n",
       "      <td>99.686333</td>\n",
       "      <td>2370.000000</td>\n",
       "      <td>12.569333</td>\n",
       "    </tr>\n",
       "    <tr>\n",
       "      <th>13</th>\n",
       "      <td>English@Tec</td>\n",
       "      <td>septiembre</td>\n",
       "      <td>22207.000000</td>\n",
       "      <td>21141.000000</td>\n",
       "      <td>95.200000</td>\n",
       "      <td>8694.000000</td>\n",
       "      <td>16.862000</td>\n",
       "    </tr>\n",
       "    <tr>\n",
       "      <th>14</th>\n",
       "      <td>Feria del libro</td>\n",
       "      <td>octubre</td>\n",
       "      <td>14559.000000</td>\n",
       "      <td>14522.000000</td>\n",
       "      <td>99.746000</td>\n",
       "      <td>4945.000000</td>\n",
       "      <td>3.984000</td>\n",
       "    </tr>\n",
       "    <tr>\n",
       "      <th>15</th>\n",
       "      <td>Foro agua</td>\n",
       "      <td>octubre</td>\n",
       "      <td>14140.000000</td>\n",
       "      <td>14103.000000</td>\n",
       "      <td>99.738000</td>\n",
       "      <td>4893.000000</td>\n",
       "      <td>2.596000</td>\n",
       "    </tr>\n",
       "    <tr>\n",
       "      <th>16</th>\n",
       "      <td>Futuro de las ciudades - Simposio</td>\n",
       "      <td>octubre</td>\n",
       "      <td>12990.000000</td>\n",
       "      <td>12952.500000</td>\n",
       "      <td>99.711000</td>\n",
       "      <td>4738.000000</td>\n",
       "      <td>4.773500</td>\n",
       "    </tr>\n",
       "    <tr>\n",
       "      <th>17</th>\n",
       "      <td>INCmty</td>\n",
       "      <td>agosto</td>\n",
       "      <td>28846.000000</td>\n",
       "      <td>28780.000000</td>\n",
       "      <td>99.771000</td>\n",
       "      <td>10993.000000</td>\n",
       "      <td>4.648000</td>\n",
       "    </tr>\n",
       "    <tr>\n",
       "      <th>18</th>\n",
       "      <td>INCmty</td>\n",
       "      <td>noviembre</td>\n",
       "      <td>36224.000000</td>\n",
       "      <td>35990.000000</td>\n",
       "      <td>99.354000</td>\n",
       "      <td>12373.000000</td>\n",
       "      <td>4.930000</td>\n",
       "    </tr>\n",
       "    <tr>\n",
       "      <th>19</th>\n",
       "      <td>INCmty</td>\n",
       "      <td>octubre</td>\n",
       "      <td>32229.000000</td>\n",
       "      <td>32100.000000</td>\n",
       "      <td>99.600000</td>\n",
       "      <td>12046.000000</td>\n",
       "      <td>11.373000</td>\n",
       "    </tr>\n",
       "    <tr>\n",
       "      <th>20</th>\n",
       "      <td>Infonavit</td>\n",
       "      <td>octubre</td>\n",
       "      <td>32597.000000</td>\n",
       "      <td>32563.000000</td>\n",
       "      <td>99.896000</td>\n",
       "      <td>14867.000000</td>\n",
       "      <td>17.186000</td>\n",
       "    </tr>\n",
       "    <tr>\n",
       "      <th>21</th>\n",
       "      <td>Lealtad</td>\n",
       "      <td>octubre</td>\n",
       "      <td>580.000000</td>\n",
       "      <td>576.000000</td>\n",
       "      <td>99.310000</td>\n",
       "      <td>450.000000</td>\n",
       "      <td>39.556000</td>\n",
       "    </tr>\n",
       "    <tr>\n",
       "      <th>22</th>\n",
       "      <td>Líderes del Mañana</td>\n",
       "      <td>agosto</td>\n",
       "      <td>22655.000000</td>\n",
       "      <td>22490.000000</td>\n",
       "      <td>99.272000</td>\n",
       "      <td>9825.000000</td>\n",
       "      <td>4.753000</td>\n",
       "    </tr>\n",
       "    <tr>\n",
       "      <th>23</th>\n",
       "      <td>Mi ECO</td>\n",
       "      <td>octubre</td>\n",
       "      <td>23216.750000</td>\n",
       "      <td>23146.500000</td>\n",
       "      <td>99.677250</td>\n",
       "      <td>9144.250000</td>\n",
       "      <td>13.371500</td>\n",
       "    </tr>\n",
       "    <tr>\n",
       "      <th>24</th>\n",
       "      <td>Mi ECO</td>\n",
       "      <td>septiembre</td>\n",
       "      <td>33990.400000</td>\n",
       "      <td>33871.200000</td>\n",
       "      <td>99.641400</td>\n",
       "      <td>13722.200000</td>\n",
       "      <td>18.186800</td>\n",
       "    </tr>\n",
       "    <tr>\n",
       "      <th>25</th>\n",
       "      <td>Mi Plan de Desarrollo</td>\n",
       "      <td>noviembre</td>\n",
       "      <td>2937.857143</td>\n",
       "      <td>2907.000000</td>\n",
       "      <td>95.333143</td>\n",
       "      <td>1713.428571</td>\n",
       "      <td>31.059143</td>\n",
       "    </tr>\n",
       "    <tr>\n",
       "      <th>26</th>\n",
       "      <td>Mi Plan de Desarrollo</td>\n",
       "      <td>octubre</td>\n",
       "      <td>10394.285714</td>\n",
       "      <td>10334.285714</td>\n",
       "      <td>99.421714</td>\n",
       "      <td>5300.571429</td>\n",
       "      <td>11.960857</td>\n",
       "    </tr>\n",
       "    <tr>\n",
       "      <th>27</th>\n",
       "      <td>Mi caja de ahorro</td>\n",
       "      <td>noviembre</td>\n",
       "      <td>28451.750000</td>\n",
       "      <td>28309.500000</td>\n",
       "      <td>99.456500</td>\n",
       "      <td>14038.250000</td>\n",
       "      <td>14.553750</td>\n",
       "    </tr>\n",
       "    <tr>\n",
       "      <th>28</th>\n",
       "      <td>Mi plan de retiro</td>\n",
       "      <td>noviembre</td>\n",
       "      <td>479.000000</td>\n",
       "      <td>477.000000</td>\n",
       "      <td>99.582000</td>\n",
       "      <td>319.000000</td>\n",
       "      <td>12.853000</td>\n",
       "    </tr>\n",
       "    <tr>\n",
       "      <th>29</th>\n",
       "      <td>Mi plan de retiro</td>\n",
       "      <td>septiembre</td>\n",
       "      <td>235.000000</td>\n",
       "      <td>234.000000</td>\n",
       "      <td>99.574000</td>\n",
       "      <td>183.000000</td>\n",
       "      <td>3.825000</td>\n",
       "    </tr>\n",
       "    <tr>\n",
       "      <th>30</th>\n",
       "      <td>MiLlaveDigital</td>\n",
       "      <td>agosto</td>\n",
       "      <td>17835.500000</td>\n",
       "      <td>17801.000000</td>\n",
       "      <td>99.715000</td>\n",
       "      <td>7385.500000</td>\n",
       "      <td>3.775000</td>\n",
       "    </tr>\n",
       "    <tr>\n",
       "      <th>31</th>\n",
       "      <td>Mis compromisos</td>\n",
       "      <td>septiembre</td>\n",
       "      <td>6317.000000</td>\n",
       "      <td>6296.444444</td>\n",
       "      <td>99.778667</td>\n",
       "      <td>3402.555556</td>\n",
       "      <td>5.982778</td>\n",
       "    </tr>\n",
       "    <tr>\n",
       "      <th>32</th>\n",
       "      <td>Mis convenios</td>\n",
       "      <td>agosto</td>\n",
       "      <td>27045.000000</td>\n",
       "      <td>26907.000000</td>\n",
       "      <td>99.490000</td>\n",
       "      <td>13203.000000</td>\n",
       "      <td>21.215000</td>\n",
       "    </tr>\n",
       "    <tr>\n",
       "      <th>33</th>\n",
       "      <td>Mujer Tec</td>\n",
       "      <td>noviembre</td>\n",
       "      <td>12686.000000</td>\n",
       "      <td>12667.333333</td>\n",
       "      <td>99.845833</td>\n",
       "      <td>4942.166667</td>\n",
       "      <td>9.609333</td>\n",
       "    </tr>\n",
       "    <tr>\n",
       "      <th>34</th>\n",
       "      <td>Mundial de Qatar</td>\n",
       "      <td>noviembre</td>\n",
       "      <td>33412.000000</td>\n",
       "      <td>33366.000000</td>\n",
       "      <td>99.862000</td>\n",
       "      <td>13243.000000</td>\n",
       "      <td>15.125000</td>\n",
       "    </tr>\n",
       "    <tr>\n",
       "      <th>35</th>\n",
       "      <td>ProTect</td>\n",
       "      <td>septiembre</td>\n",
       "      <td>12977.000000</td>\n",
       "      <td>12394.000000</td>\n",
       "      <td>95.507000</td>\n",
       "      <td>4175.000000</td>\n",
       "      <td>16.120000</td>\n",
       "    </tr>\n",
       "    <tr>\n",
       "      <th>36</th>\n",
       "      <td>Refiriendo Talento</td>\n",
       "      <td>agosto</td>\n",
       "      <td>22836.000000</td>\n",
       "      <td>22809.000000</td>\n",
       "      <td>99.882000</td>\n",
       "      <td>10945.000000</td>\n",
       "      <td>11.101000</td>\n",
       "    </tr>\n",
       "    <tr>\n",
       "      <th>37</th>\n",
       "      <td>TechSavvy</td>\n",
       "      <td>septiembre</td>\n",
       "      <td>11994.666667</td>\n",
       "      <td>11931.000000</td>\n",
       "      <td>99.612667</td>\n",
       "      <td>5616.500000</td>\n",
       "      <td>40.581833</td>\n",
       "    </tr>\n",
       "    <tr>\n",
       "      <th>38</th>\n",
       "      <td>Testamento</td>\n",
       "      <td>septiembre</td>\n",
       "      <td>27562.000000</td>\n",
       "      <td>27401.000000</td>\n",
       "      <td>99.416000</td>\n",
       "      <td>11645.000000</td>\n",
       "      <td>15.002000</td>\n",
       "    </tr>\n",
       "    <tr>\n",
       "      <th>39</th>\n",
       "      <td>Voluntariado Tec</td>\n",
       "      <td>noviembre</td>\n",
       "      <td>1419.000000</td>\n",
       "      <td>1419.000000</td>\n",
       "      <td>100.000000</td>\n",
       "      <td>725.000000</td>\n",
       "      <td>22.207000</td>\n",
       "    </tr>\n",
       "    <tr>\n",
       "      <th>40</th>\n",
       "      <td>Voluntariado Tec</td>\n",
       "      <td>octubre</td>\n",
       "      <td>30597.000000</td>\n",
       "      <td>30516.666667</td>\n",
       "      <td>99.733000</td>\n",
       "      <td>11967.000000</td>\n",
       "      <td>13.677333</td>\n",
       "    </tr>\n",
       "    <tr>\n",
       "      <th>41</th>\n",
       "      <td>Voluntariado Tec</td>\n",
       "      <td>septiembre</td>\n",
       "      <td>30972.000000</td>\n",
       "      <td>30932.000000</td>\n",
       "      <td>99.871000</td>\n",
       "      <td>12063.000000</td>\n",
       "      <td>12.990000</td>\n",
       "    </tr>\n",
       "    <tr>\n",
       "      <th>42</th>\n",
       "      <td>Wellbeing</td>\n",
       "      <td>octubre</td>\n",
       "      <td>21732.000000</td>\n",
       "      <td>21663.000000</td>\n",
       "      <td>99.682000</td>\n",
       "      <td>9492.000000</td>\n",
       "      <td>10.198000</td>\n",
       "    </tr>\n",
       "  </tbody>\n",
       "</table>\n",
       "</div>"
      ],
      "text/plain": [
       "                           Iniciativa         Mes       Enviado     Entregado  \\\n",
       "0                          Aseguratec  septiembre  23992.571429  23937.571429   \n",
       "1                            BeneFlex      agosto   1211.882353   1210.529412   \n",
       "2                            BeneFlex   noviembre   6153.727273   6117.000000   \n",
       "3                            BeneFlex     octubre   6091.750000   6078.750000   \n",
       "4                      Ciberseguridad      agosto  22882.333333  22846.333333   \n",
       "5                      Ciberseguridad       julio  13902.500000  13861.500000   \n",
       "6                      Ciberseguridad     octubre  34665.000000  33779.000000   \n",
       "7                      Ciberseguridad  septiembre  31097.000000  31058.000000   \n",
       "8                      Cáncer de mama     octubre  16378.666667  16336.000000   \n",
       "9                   Declaracion Anual   noviembre  19892.333333  19878.000000   \n",
       "10                           Diabetes   noviembre  22392.000000  22325.000000   \n",
       "11                        English@Tec      agosto  12541.000000  12470.000000   \n",
       "12                        English@Tec   noviembre   6439.000000   6416.333333   \n",
       "13                        English@Tec  septiembre  22207.000000  21141.000000   \n",
       "14                    Feria del libro     octubre  14559.000000  14522.000000   \n",
       "15                          Foro agua     octubre  14140.000000  14103.000000   \n",
       "16  Futuro de las ciudades - Simposio     octubre  12990.000000  12952.500000   \n",
       "17                             INCmty      agosto  28846.000000  28780.000000   \n",
       "18                             INCmty   noviembre  36224.000000  35990.000000   \n",
       "19                             INCmty     octubre  32229.000000  32100.000000   \n",
       "20                          Infonavit     octubre  32597.000000  32563.000000   \n",
       "21                            Lealtad     octubre    580.000000    576.000000   \n",
       "22                 Líderes del Mañana      agosto  22655.000000  22490.000000   \n",
       "23                             Mi ECO     octubre  23216.750000  23146.500000   \n",
       "24                             Mi ECO  septiembre  33990.400000  33871.200000   \n",
       "25              Mi Plan de Desarrollo   noviembre   2937.857143   2907.000000   \n",
       "26              Mi Plan de Desarrollo     octubre  10394.285714  10334.285714   \n",
       "27                  Mi caja de ahorro   noviembre  28451.750000  28309.500000   \n",
       "28                  Mi plan de retiro   noviembre    479.000000    477.000000   \n",
       "29                  Mi plan de retiro  septiembre    235.000000    234.000000   \n",
       "30                     MiLlaveDigital      agosto  17835.500000  17801.000000   \n",
       "31                    Mis compromisos  septiembre   6317.000000   6296.444444   \n",
       "32                      Mis convenios      agosto  27045.000000  26907.000000   \n",
       "33                          Mujer Tec   noviembre  12686.000000  12667.333333   \n",
       "34                   Mundial de Qatar   noviembre  33412.000000  33366.000000   \n",
       "35                            ProTect  septiembre  12977.000000  12394.000000   \n",
       "36                 Refiriendo Talento      agosto  22836.000000  22809.000000   \n",
       "37                          TechSavvy  septiembre  11994.666667  11931.000000   \n",
       "38                         Testamento  septiembre  27562.000000  27401.000000   \n",
       "39                   Voluntariado Tec   noviembre   1419.000000   1419.000000   \n",
       "40                   Voluntariado Tec     octubre  30597.000000  30516.666667   \n",
       "41                   Voluntariado Tec  septiembre  30972.000000  30932.000000   \n",
       "42                          Wellbeing     octubre  21732.000000  21663.000000   \n",
       "\n",
       "    Tasa de entregas       Abierto  Tasa de click-through  \n",
       "0          99.769143   8685.571429              10.409857  \n",
       "1          99.858471    717.058824              16.251235  \n",
       "2          99.550318   3375.545455              27.831773  \n",
       "3          99.887125   3416.375000              46.886500  \n",
       "4          99.842667  11467.333333              13.645333  \n",
       "5          98.917000   7197.500000              12.502500  \n",
       "6          97.568000  12423.000000               3.565000  \n",
       "7          99.875000  13884.000000               5.827000  \n",
       "8          99.736667   6939.000000              20.589667  \n",
       "9          99.945333   9343.666667              23.528000  \n",
       "10         99.701000   9388.000000              21.251000  \n",
       "11         99.374000   5541.500000              15.771500  \n",
       "12         99.686333   2370.000000              12.569333  \n",
       "13         95.200000   8694.000000              16.862000  \n",
       "14         99.746000   4945.000000               3.984000  \n",
       "15         99.738000   4893.000000               2.596000  \n",
       "16         99.711000   4738.000000               4.773500  \n",
       "17         99.771000  10993.000000               4.648000  \n",
       "18         99.354000  12373.000000               4.930000  \n",
       "19         99.600000  12046.000000              11.373000  \n",
       "20         99.896000  14867.000000              17.186000  \n",
       "21         99.310000    450.000000              39.556000  \n",
       "22         99.272000   9825.000000               4.753000  \n",
       "23         99.677250   9144.250000              13.371500  \n",
       "24         99.641400  13722.200000              18.186800  \n",
       "25         95.333143   1713.428571              31.059143  \n",
       "26         99.421714   5300.571429              11.960857  \n",
       "27         99.456500  14038.250000              14.553750  \n",
       "28         99.582000    319.000000              12.853000  \n",
       "29         99.574000    183.000000               3.825000  \n",
       "30         99.715000   7385.500000               3.775000  \n",
       "31         99.778667   3402.555556               5.982778  \n",
       "32         99.490000  13203.000000              21.215000  \n",
       "33         99.845833   4942.166667               9.609333  \n",
       "34         99.862000  13243.000000              15.125000  \n",
       "35         95.507000   4175.000000              16.120000  \n",
       "36         99.882000  10945.000000              11.101000  \n",
       "37         99.612667   5616.500000              40.581833  \n",
       "38         99.416000  11645.000000              15.002000  \n",
       "39        100.000000    725.000000              22.207000  \n",
       "40         99.733000  11967.000000              13.677333  \n",
       "41         99.871000  12063.000000              12.990000  \n",
       "42         99.682000   9492.000000              10.198000  "
      ]
     },
     "execution_count": 137,
     "metadata": {},
     "output_type": "execute_result"
    }
   ],
   "source": [
    "correos_analisis = df_correos.groupby([\"Iniciativa\",\"Mes\"], as_index=False)[\"Enviado\",\"Entregado\",\"Tasa de entregas\",\"Abierto\",\"Tasa de click-through\"].mean()\n",
    "correos_analisis"
   ]
  },
  {
   "cell_type": "code",
   "execution_count": null,
   "metadata": {},
   "outputs": [
    {
     "data": {
      "text/plain": [
       "'Flexibility'"
      ]
     },
     "execution_count": 138,
     "metadata": {},
     "output_type": "execute_result"
    }
   ],
   "source": [
    "df_mitec_final.loc[0,\"2do prefijo (pilar)\"]\n"
   ]
  },
  {
   "cell_type": "code",
   "execution_count": null,
   "metadata": {},
   "outputs": [
    {
     "name": "stderr",
     "output_type": "stream",
     "text": [
      "C:\\Users\\hp\\AppData\\Local\\Temp\\ipykernel_14352\\2740325428.py:1: SettingWithCopyWarning:\n",
      "\n",
      "\n",
      "A value is trying to be set on a copy of a slice from a DataFrame.\n",
      "Try using .loc[row_indexer,col_indexer] = value instead\n",
      "\n",
      "See the caveats in the documentation: https://pandas.pydata.org/pandas-docs/stable/user_guide/indexing.html#returning-a-view-versus-a-copy\n",
      "\n"
     ]
    }
   ],
   "source": [
    "df_mitec_final[\"Num_prefijos\"] = np.where(df_mitec_final[\"2do prefijo (pilar)\"] == \"-\",2,3)"
   ]
  },
  {
   "cell_type": "code",
   "execution_count": null,
   "metadata": {},
   "outputs": [
    {
     "data": {
      "text/html": [
       "<div>\n",
       "<style scoped>\n",
       "    .dataframe tbody tr th:only-of-type {\n",
       "        vertical-align: middle;\n",
       "    }\n",
       "\n",
       "    .dataframe tbody tr th {\n",
       "        vertical-align: top;\n",
       "    }\n",
       "\n",
       "    .dataframe thead th {\n",
       "        text-align: right;\n",
       "    }\n",
       "</style>\n",
       "<table border=\"1\" class=\"dataframe\">\n",
       "  <thead>\n",
       "    <tr style=\"text-align: right;\">\n",
       "      <th></th>\n",
       "      <th>1er prefijo (TyE)</th>\n",
       "      <th>2do prefijo (pilar)</th>\n",
       "      <th>3er prefijo (area o VP)</th>\n",
       "      <th>Nombre de campaña</th>\n",
       "      <th>Iniciativa</th>\n",
       "      <th>Estatus</th>\n",
       "      <th>Mes [Fecha]</th>\n",
       "      <th>Número de clics</th>\n",
       "      <th>Num_prefijos</th>\n",
       "    </tr>\n",
       "  </thead>\n",
       "  <tbody>\n",
       "    <tr>\n",
       "      <th>0</th>\n",
       "      <td>TyE</td>\n",
       "      <td>Flexibility</td>\n",
       "      <td>Comp</td>\n",
       "      <td>TyE_Flexibility_Comp</td>\n",
       "      <td>BeneFlex</td>\n",
       "      <td>Encontrado</td>\n",
       "      <td>2022-11-01</td>\n",
       "      <td>3913</td>\n",
       "      <td>3</td>\n",
       "    </tr>\n",
       "    <tr>\n",
       "      <th>1</th>\n",
       "      <td>TyE</td>\n",
       "      <td>Flexibility</td>\n",
       "      <td>Comp</td>\n",
       "      <td>TyE_Flexibility_Comp</td>\n",
       "      <td>BeneFlex</td>\n",
       "      <td>Encontrado</td>\n",
       "      <td>2022-11-01</td>\n",
       "      <td>2484</td>\n",
       "      <td>3</td>\n",
       "    </tr>\n",
       "    <tr>\n",
       "      <th>2</th>\n",
       "      <td>NaN</td>\n",
       "      <td>NaN</td>\n",
       "      <td>NaN</td>\n",
       "      <td>NaN</td>\n",
       "      <td>Mundial de Qatar</td>\n",
       "      <td>No encontrado</td>\n",
       "      <td>2022-11-01</td>\n",
       "      <td>1391</td>\n",
       "      <td>3</td>\n",
       "    </tr>\n",
       "    <tr>\n",
       "      <th>3</th>\n",
       "      <td>TyE</td>\n",
       "      <td>-</td>\n",
       "      <td>VIISS</td>\n",
       "      <td>TyE_VIISS</td>\n",
       "      <td>Voluntariado Tec</td>\n",
       "      <td>Encontrado</td>\n",
       "      <td>2022-11-01</td>\n",
       "      <td>1277</td>\n",
       "      <td>2</td>\n",
       "    </tr>\n",
       "    <tr>\n",
       "      <th>4</th>\n",
       "      <td>NaN</td>\n",
       "      <td>NaN</td>\n",
       "      <td>NaN</td>\n",
       "      <td>NaN</td>\n",
       "      <td>Mundial de Qatar</td>\n",
       "      <td>No encontrado</td>\n",
       "      <td>2022-11-01</td>\n",
       "      <td>1234</td>\n",
       "      <td>3</td>\n",
       "    </tr>\n",
       "    <tr>\n",
       "      <th>...</th>\n",
       "      <td>...</td>\n",
       "      <td>...</td>\n",
       "      <td>...</td>\n",
       "      <td>...</td>\n",
       "      <td>...</td>\n",
       "      <td>...</td>\n",
       "      <td>...</td>\n",
       "      <td>...</td>\n",
       "      <td>...</td>\n",
       "    </tr>\n",
       "    <tr>\n",
       "      <th>194</th>\n",
       "      <td>NaN</td>\n",
       "      <td>NaN</td>\n",
       "      <td>NaN</td>\n",
       "      <td>NaN</td>\n",
       "      <td>Novus</td>\n",
       "      <td>No encontrado</td>\n",
       "      <td>2022-03-01</td>\n",
       "      <td>530</td>\n",
       "      <td>3</td>\n",
       "    </tr>\n",
       "    <tr>\n",
       "      <th>195</th>\n",
       "      <td>TyE</td>\n",
       "      <td>-</td>\n",
       "      <td>VIISS</td>\n",
       "      <td>TyE_VIISS</td>\n",
       "      <td>ETHOS</td>\n",
       "      <td>Encontrado</td>\n",
       "      <td>2022-03-01</td>\n",
       "      <td>433</td>\n",
       "      <td>2</td>\n",
       "    </tr>\n",
       "    <tr>\n",
       "      <th>196</th>\n",
       "      <td>TyE</td>\n",
       "      <td>-</td>\n",
       "      <td>VIISS</td>\n",
       "      <td>TyE_VIISS</td>\n",
       "      <td>Día Internacional de la Mujer</td>\n",
       "      <td>Encontrado</td>\n",
       "      <td>2022-03-01</td>\n",
       "      <td>410</td>\n",
       "      <td>2</td>\n",
       "    </tr>\n",
       "    <tr>\n",
       "      <th>197</th>\n",
       "      <td>NaN</td>\n",
       "      <td>NaN</td>\n",
       "      <td>NaN</td>\n",
       "      <td>NaN</td>\n",
       "      <td>NaN</td>\n",
       "      <td>No encontrado</td>\n",
       "      <td>2022-03-01</td>\n",
       "      <td>327</td>\n",
       "      <td>3</td>\n",
       "    </tr>\n",
       "    <tr>\n",
       "      <th>198</th>\n",
       "      <td>TyE</td>\n",
       "      <td>PowerUp</td>\n",
       "      <td>Bienestar</td>\n",
       "      <td>TyE_PowerUp_Bienestar</td>\n",
       "      <td>Wellbeing</td>\n",
       "      <td>Encontrado</td>\n",
       "      <td>2022-03-01</td>\n",
       "      <td>148</td>\n",
       "      <td>3</td>\n",
       "    </tr>\n",
       "  </tbody>\n",
       "</table>\n",
       "<p>199 rows × 9 columns</p>\n",
       "</div>"
      ],
      "text/plain": [
       "    1er prefijo (TyE) 2do prefijo (pilar) 3er prefijo (area o VP)  \\\n",
       "0                 TyE         Flexibility                    Comp   \n",
       "1                 TyE         Flexibility                    Comp   \n",
       "2                 NaN                 NaN                     NaN   \n",
       "3                 TyE                   -                   VIISS   \n",
       "4                 NaN                 NaN                     NaN   \n",
       "..                ...                 ...                     ...   \n",
       "194               NaN                 NaN                     NaN   \n",
       "195               TyE                   -                   VIISS   \n",
       "196               TyE                   -                   VIISS   \n",
       "197               NaN                 NaN                     NaN   \n",
       "198               TyE             PowerUp               Bienestar   \n",
       "\n",
       "         Nombre de campaña                     Iniciativa        Estatus  \\\n",
       "0     TyE_Flexibility_Comp                       BeneFlex     Encontrado   \n",
       "1     TyE_Flexibility_Comp                       BeneFlex     Encontrado   \n",
       "2                      NaN               Mundial de Qatar  No encontrado   \n",
       "3                TyE_VIISS               Voluntariado Tec     Encontrado   \n",
       "4                      NaN               Mundial de Qatar  No encontrado   \n",
       "..                     ...                            ...            ...   \n",
       "194                    NaN                         Novus   No encontrado   \n",
       "195              TyE_VIISS                          ETHOS     Encontrado   \n",
       "196              TyE_VIISS  Día Internacional de la Mujer     Encontrado   \n",
       "197                    NaN                            NaN  No encontrado   \n",
       "198  TyE_PowerUp_Bienestar                      Wellbeing     Encontrado   \n",
       "\n",
       "    Mes [Fecha]  Número de clics  Num_prefijos  \n",
       "0    2022-11-01             3913             3  \n",
       "1    2022-11-01             2484             3  \n",
       "2    2022-11-01             1391             3  \n",
       "3    2022-11-01             1277             2  \n",
       "4    2022-11-01             1234             3  \n",
       "..          ...              ...           ...  \n",
       "194  2022-03-01              530             3  \n",
       "195  2022-03-01              433             2  \n",
       "196  2022-03-01              410             2  \n",
       "197  2022-03-01              327             3  \n",
       "198  2022-03-01              148             3  \n",
       "\n",
       "[199 rows x 9 columns]"
      ]
     },
     "execution_count": 140,
     "metadata": {},
     "output_type": "execute_result"
    }
   ],
   "source": [
    "df_mitec_final"
   ]
  },
  {
   "cell_type": "code",
   "execution_count": null,
   "metadata": {},
   "outputs": [
    {
     "data": {
      "text/html": [
       "<div>\n",
       "<style scoped>\n",
       "    .dataframe tbody tr th:only-of-type {\n",
       "        vertical-align: middle;\n",
       "    }\n",
       "\n",
       "    .dataframe tbody tr th {\n",
       "        vertical-align: top;\n",
       "    }\n",
       "\n",
       "    .dataframe thead th {\n",
       "        text-align: right;\n",
       "    }\n",
       "</style>\n",
       "<table border=\"1\" class=\"dataframe\">\n",
       "  <thead>\n",
       "    <tr style=\"text-align: right;\">\n",
       "      <th></th>\n",
       "      <th>1er prefijo (TyE)</th>\n",
       "      <th>2do prefijo (pilar)</th>\n",
       "      <th>3er prefijo (area o VP)</th>\n",
       "      <th>Nombre de campaña</th>\n",
       "      <th>Iniciativa</th>\n",
       "      <th>Estatus</th>\n",
       "      <th>Mes [Fecha]</th>\n",
       "      <th>Número de clics</th>\n",
       "      <th>Num_prefijos</th>\n",
       "    </tr>\n",
       "  </thead>\n",
       "  <tbody>\n",
       "    <tr>\n",
       "      <th>0</th>\n",
       "      <td>TyE</td>\n",
       "      <td>Flexibility</td>\n",
       "      <td>Comp</td>\n",
       "      <td>TyE_Flexibility_Comp</td>\n",
       "      <td>BeneFlex</td>\n",
       "      <td>Encontrado</td>\n",
       "      <td>2022-11-01</td>\n",
       "      <td>3913</td>\n",
       "      <td>3</td>\n",
       "    </tr>\n",
       "  </tbody>\n",
       "</table>\n",
       "</div>"
      ],
      "text/plain": [
       "  1er prefijo (TyE) 2do prefijo (pilar) 3er prefijo (area o VP)  \\\n",
       "0               TyE         Flexibility                    Comp   \n",
       "\n",
       "      Nombre de campaña Iniciativa     Estatus Mes [Fecha]  Número de clics  \\\n",
       "0  TyE_Flexibility_Comp   BeneFlex  Encontrado  2022-11-01             3913   \n",
       "\n",
       "   Num_prefijos  \n",
       "0             3  "
      ]
     },
     "execution_count": 141,
     "metadata": {},
     "output_type": "execute_result"
    }
   ],
   "source": [
    "df_mitec_final.head(1)"
   ]
  },
  {
   "cell_type": "code",
   "execution_count": null,
   "metadata": {},
   "outputs": [
    {
     "name": "stderr",
     "output_type": "stream",
     "text": [
      "C:\\Users\\hp\\AppData\\Local\\Temp\\ipykernel_14352\\1566954914.py:1: SettingWithCopyWarning:\n",
      "\n",
      "\n",
      "A value is trying to be set on a copy of a slice from a DataFrame.\n",
      "Try using .loc[row_indexer,col_indexer] = value instead\n",
      "\n",
      "See the caveats in the documentation: https://pandas.pydata.org/pandas-docs/stable/user_guide/indexing.html#returning-a-view-versus-a-copy\n",
      "\n",
      "C:\\Users\\hp\\AppData\\Local\\Temp\\ipykernel_14352\\1566954914.py:6: SettingWithCopyWarning:\n",
      "\n",
      "\n",
      "A value is trying to be set on a copy of a slice from a DataFrame.\n",
      "Try using .loc[row_indexer,col_indexer] = value instead\n",
      "\n",
      "See the caveats in the documentation: https://pandas.pydata.org/pandas-docs/stable/user_guide/indexing.html#returning-a-view-versus-a-copy\n",
      "\n",
      "C:\\Users\\hp\\AppData\\Local\\Temp\\ipykernel_14352\\1566954914.py:7: SettingWithCopyWarning:\n",
      "\n",
      "\n",
      "A value is trying to be set on a copy of a slice from a DataFrame.\n",
      "Try using .loc[row_indexer,col_indexer] = value instead\n",
      "\n",
      "See the caveats in the documentation: https://pandas.pydata.org/pandas-docs/stable/user_guide/indexing.html#returning-a-view-versus-a-copy\n",
      "\n",
      "C:\\Users\\hp\\AppData\\Local\\Temp\\ipykernel_14352\\1566954914.py:8: SettingWithCopyWarning:\n",
      "\n",
      "\n",
      "A value is trying to be set on a copy of a slice from a DataFrame.\n",
      "Try using .loc[row_indexer,col_indexer] = value instead\n",
      "\n",
      "See the caveats in the documentation: https://pandas.pydata.org/pandas-docs/stable/user_guide/indexing.html#returning-a-view-versus-a-copy\n",
      "\n"
     ]
    },
    {
     "data": {
      "application/vnd.plotly.v1+json": {
       "config": {
        "plotlyServerURL": "https://plot.ly"
       },
       "data": [
        {
         "arrangement": "freeform",
         "counts": [
          848,
          15,
          134,
          431,
          156
         ],
         "dimensions": [
          {
           "categoryarray": [
            0
           ],
           "label": "Primer prefijo",
           "ticktext": [
            "TyE_Collaboration"
           ],
           "values": [
            0,
            0,
            0,
            0,
            0
           ]
          },
          {
           "categoryarray": [
            0
           ],
           "label": "Tercer prefijo",
           "ticktext": [
            "TecS"
           ],
           "values": [
            0,
            0,
            0,
            0,
            0
           ]
          },
          {
           "categoryarray": [
            2,
            1,
            0,
            3
           ],
           "label": "Iniciativa",
           "ticktext": [
            "TECBot",
            "Número único",
            "GlobalMobility",
            "TECservices"
           ],
           "values": [
            2,
            1,
            1,
            0,
            3
           ]
          }
         ],
         "labelfont": {
          "color": "#F33A6A",
          "family": "Arial",
          "size": 15
         },
         "line": {
          "color": [
           848,
           15,
           134,
           431,
           156
          ],
          "colorscale": [
           [
            0,
            "rgb(254, 246, 181)"
           ],
           [
            0.16666666666666666,
            "rgb(255, 221, 154)"
           ],
           [
            0.3333333333333333,
            "rgb(255, 194, 133)"
           ],
           [
            0.5,
            "rgb(255, 166, 121)"
           ],
           [
            0.6666666666666666,
            "rgb(250, 138, 118)"
           ],
           [
            0.8333333333333334,
            "rgb(241, 109, 122)"
           ],
           [
            1,
            "rgb(225, 83, 131)"
           ]
          ]
         },
         "tickfont": {
          "color": "#F33A6A",
          "family": "Arial",
          "size": 12
         },
         "type": "parcats"
        }
       ],
       "layout": {
        "hoverlabel": {
         "font": {
          "family": "Arial",
          "size": 15
         }
        },
        "paper_bgcolor": "#FFFFFF",
        "template": {
         "data": {
          "bar": [
           {
            "error_x": {
             "color": "#2a3f5f"
            },
            "error_y": {
             "color": "#2a3f5f"
            },
            "marker": {
             "line": {
              "color": "#E5ECF6",
              "width": 0.5
             },
             "pattern": {
              "fillmode": "overlay",
              "size": 10,
              "solidity": 0.2
             }
            },
            "type": "bar"
           }
          ],
          "barpolar": [
           {
            "marker": {
             "line": {
              "color": "#E5ECF6",
              "width": 0.5
             },
             "pattern": {
              "fillmode": "overlay",
              "size": 10,
              "solidity": 0.2
             }
            },
            "type": "barpolar"
           }
          ],
          "carpet": [
           {
            "aaxis": {
             "endlinecolor": "#2a3f5f",
             "gridcolor": "white",
             "linecolor": "white",
             "minorgridcolor": "white",
             "startlinecolor": "#2a3f5f"
            },
            "baxis": {
             "endlinecolor": "#2a3f5f",
             "gridcolor": "white",
             "linecolor": "white",
             "minorgridcolor": "white",
             "startlinecolor": "#2a3f5f"
            },
            "type": "carpet"
           }
          ],
          "choropleth": [
           {
            "colorbar": {
             "outlinewidth": 0,
             "ticks": ""
            },
            "type": "choropleth"
           }
          ],
          "contour": [
           {
            "colorbar": {
             "outlinewidth": 0,
             "ticks": ""
            },
            "colorscale": [
             [
              0,
              "#0d0887"
             ],
             [
              0.1111111111111111,
              "#46039f"
             ],
             [
              0.2222222222222222,
              "#7201a8"
             ],
             [
              0.3333333333333333,
              "#9c179e"
             ],
             [
              0.4444444444444444,
              "#bd3786"
             ],
             [
              0.5555555555555556,
              "#d8576b"
             ],
             [
              0.6666666666666666,
              "#ed7953"
             ],
             [
              0.7777777777777778,
              "#fb9f3a"
             ],
             [
              0.8888888888888888,
              "#fdca26"
             ],
             [
              1,
              "#f0f921"
             ]
            ],
            "type": "contour"
           }
          ],
          "contourcarpet": [
           {
            "colorbar": {
             "outlinewidth": 0,
             "ticks": ""
            },
            "type": "contourcarpet"
           }
          ],
          "heatmap": [
           {
            "colorbar": {
             "outlinewidth": 0,
             "ticks": ""
            },
            "colorscale": [
             [
              0,
              "#0d0887"
             ],
             [
              0.1111111111111111,
              "#46039f"
             ],
             [
              0.2222222222222222,
              "#7201a8"
             ],
             [
              0.3333333333333333,
              "#9c179e"
             ],
             [
              0.4444444444444444,
              "#bd3786"
             ],
             [
              0.5555555555555556,
              "#d8576b"
             ],
             [
              0.6666666666666666,
              "#ed7953"
             ],
             [
              0.7777777777777778,
              "#fb9f3a"
             ],
             [
              0.8888888888888888,
              "#fdca26"
             ],
             [
              1,
              "#f0f921"
             ]
            ],
            "type": "heatmap"
           }
          ],
          "heatmapgl": [
           {
            "colorbar": {
             "outlinewidth": 0,
             "ticks": ""
            },
            "colorscale": [
             [
              0,
              "#0d0887"
             ],
             [
              0.1111111111111111,
              "#46039f"
             ],
             [
              0.2222222222222222,
              "#7201a8"
             ],
             [
              0.3333333333333333,
              "#9c179e"
             ],
             [
              0.4444444444444444,
              "#bd3786"
             ],
             [
              0.5555555555555556,
              "#d8576b"
             ],
             [
              0.6666666666666666,
              "#ed7953"
             ],
             [
              0.7777777777777778,
              "#fb9f3a"
             ],
             [
              0.8888888888888888,
              "#fdca26"
             ],
             [
              1,
              "#f0f921"
             ]
            ],
            "type": "heatmapgl"
           }
          ],
          "histogram": [
           {
            "marker": {
             "pattern": {
              "fillmode": "overlay",
              "size": 10,
              "solidity": 0.2
             }
            },
            "type": "histogram"
           }
          ],
          "histogram2d": [
           {
            "colorbar": {
             "outlinewidth": 0,
             "ticks": ""
            },
            "colorscale": [
             [
              0,
              "#0d0887"
             ],
             [
              0.1111111111111111,
              "#46039f"
             ],
             [
              0.2222222222222222,
              "#7201a8"
             ],
             [
              0.3333333333333333,
              "#9c179e"
             ],
             [
              0.4444444444444444,
              "#bd3786"
             ],
             [
              0.5555555555555556,
              "#d8576b"
             ],
             [
              0.6666666666666666,
              "#ed7953"
             ],
             [
              0.7777777777777778,
              "#fb9f3a"
             ],
             [
              0.8888888888888888,
              "#fdca26"
             ],
             [
              1,
              "#f0f921"
             ]
            ],
            "type": "histogram2d"
           }
          ],
          "histogram2dcontour": [
           {
            "colorbar": {
             "outlinewidth": 0,
             "ticks": ""
            },
            "colorscale": [
             [
              0,
              "#0d0887"
             ],
             [
              0.1111111111111111,
              "#46039f"
             ],
             [
              0.2222222222222222,
              "#7201a8"
             ],
             [
              0.3333333333333333,
              "#9c179e"
             ],
             [
              0.4444444444444444,
              "#bd3786"
             ],
             [
              0.5555555555555556,
              "#d8576b"
             ],
             [
              0.6666666666666666,
              "#ed7953"
             ],
             [
              0.7777777777777778,
              "#fb9f3a"
             ],
             [
              0.8888888888888888,
              "#fdca26"
             ],
             [
              1,
              "#f0f921"
             ]
            ],
            "type": "histogram2dcontour"
           }
          ],
          "mesh3d": [
           {
            "colorbar": {
             "outlinewidth": 0,
             "ticks": ""
            },
            "type": "mesh3d"
           }
          ],
          "parcoords": [
           {
            "line": {
             "colorbar": {
              "outlinewidth": 0,
              "ticks": ""
             }
            },
            "type": "parcoords"
           }
          ],
          "pie": [
           {
            "automargin": true,
            "type": "pie"
           }
          ],
          "scatter": [
           {
            "marker": {
             "colorbar": {
              "outlinewidth": 0,
              "ticks": ""
             }
            },
            "type": "scatter"
           }
          ],
          "scatter3d": [
           {
            "line": {
             "colorbar": {
              "outlinewidth": 0,
              "ticks": ""
             }
            },
            "marker": {
             "colorbar": {
              "outlinewidth": 0,
              "ticks": ""
             }
            },
            "type": "scatter3d"
           }
          ],
          "scattercarpet": [
           {
            "marker": {
             "colorbar": {
              "outlinewidth": 0,
              "ticks": ""
             }
            },
            "type": "scattercarpet"
           }
          ],
          "scattergeo": [
           {
            "marker": {
             "colorbar": {
              "outlinewidth": 0,
              "ticks": ""
             }
            },
            "type": "scattergeo"
           }
          ],
          "scattergl": [
           {
            "marker": {
             "colorbar": {
              "outlinewidth": 0,
              "ticks": ""
             }
            },
            "type": "scattergl"
           }
          ],
          "scattermapbox": [
           {
            "marker": {
             "colorbar": {
              "outlinewidth": 0,
              "ticks": ""
             }
            },
            "type": "scattermapbox"
           }
          ],
          "scatterpolar": [
           {
            "marker": {
             "colorbar": {
              "outlinewidth": 0,
              "ticks": ""
             }
            },
            "type": "scatterpolar"
           }
          ],
          "scatterpolargl": [
           {
            "marker": {
             "colorbar": {
              "outlinewidth": 0,
              "ticks": ""
             }
            },
            "type": "scatterpolargl"
           }
          ],
          "scatterternary": [
           {
            "marker": {
             "colorbar": {
              "outlinewidth": 0,
              "ticks": ""
             }
            },
            "type": "scatterternary"
           }
          ],
          "surface": [
           {
            "colorbar": {
             "outlinewidth": 0,
             "ticks": ""
            },
            "colorscale": [
             [
              0,
              "#0d0887"
             ],
             [
              0.1111111111111111,
              "#46039f"
             ],
             [
              0.2222222222222222,
              "#7201a8"
             ],
             [
              0.3333333333333333,
              "#9c179e"
             ],
             [
              0.4444444444444444,
              "#bd3786"
             ],
             [
              0.5555555555555556,
              "#d8576b"
             ],
             [
              0.6666666666666666,
              "#ed7953"
             ],
             [
              0.7777777777777778,
              "#fb9f3a"
             ],
             [
              0.8888888888888888,
              "#fdca26"
             ],
             [
              1,
              "#f0f921"
             ]
            ],
            "type": "surface"
           }
          ],
          "table": [
           {
            "cells": {
             "fill": {
              "color": "#EBF0F8"
             },
             "line": {
              "color": "white"
             }
            },
            "header": {
             "fill": {
              "color": "#C8D4E3"
             },
             "line": {
              "color": "white"
             }
            },
            "type": "table"
           }
          ]
         },
         "layout": {
          "annotationdefaults": {
           "arrowcolor": "#2a3f5f",
           "arrowhead": 0,
           "arrowwidth": 1
          },
          "autotypenumbers": "strict",
          "coloraxis": {
           "colorbar": {
            "outlinewidth": 0,
            "ticks": ""
           }
          },
          "colorscale": {
           "diverging": [
            [
             0,
             "#8e0152"
            ],
            [
             0.1,
             "#c51b7d"
            ],
            [
             0.2,
             "#de77ae"
            ],
            [
             0.3,
             "#f1b6da"
            ],
            [
             0.4,
             "#fde0ef"
            ],
            [
             0.5,
             "#f7f7f7"
            ],
            [
             0.6,
             "#e6f5d0"
            ],
            [
             0.7,
             "#b8e186"
            ],
            [
             0.8,
             "#7fbc41"
            ],
            [
             0.9,
             "#4d9221"
            ],
            [
             1,
             "#276419"
            ]
           ],
           "sequential": [
            [
             0,
             "#0d0887"
            ],
            [
             0.1111111111111111,
             "#46039f"
            ],
            [
             0.2222222222222222,
             "#7201a8"
            ],
            [
             0.3333333333333333,
             "#9c179e"
            ],
            [
             0.4444444444444444,
             "#bd3786"
            ],
            [
             0.5555555555555556,
             "#d8576b"
            ],
            [
             0.6666666666666666,
             "#ed7953"
            ],
            [
             0.7777777777777778,
             "#fb9f3a"
            ],
            [
             0.8888888888888888,
             "#fdca26"
            ],
            [
             1,
             "#f0f921"
            ]
           ],
           "sequentialminus": [
            [
             0,
             "#0d0887"
            ],
            [
             0.1111111111111111,
             "#46039f"
            ],
            [
             0.2222222222222222,
             "#7201a8"
            ],
            [
             0.3333333333333333,
             "#9c179e"
            ],
            [
             0.4444444444444444,
             "#bd3786"
            ],
            [
             0.5555555555555556,
             "#d8576b"
            ],
            [
             0.6666666666666666,
             "#ed7953"
            ],
            [
             0.7777777777777778,
             "#fb9f3a"
            ],
            [
             0.8888888888888888,
             "#fdca26"
            ],
            [
             1,
             "#f0f921"
            ]
           ]
          },
          "colorway": [
           "#636efa",
           "#EF553B",
           "#00cc96",
           "#ab63fa",
           "#FFA15A",
           "#19d3f3",
           "#FF6692",
           "#B6E880",
           "#FF97FF",
           "#FECB52"
          ],
          "font": {
           "color": "#2a3f5f"
          },
          "geo": {
           "bgcolor": "white",
           "lakecolor": "white",
           "landcolor": "#E5ECF6",
           "showlakes": true,
           "showland": true,
           "subunitcolor": "white"
          },
          "hoverlabel": {
           "align": "left"
          },
          "hovermode": "closest",
          "mapbox": {
           "style": "light"
          },
          "paper_bgcolor": "white",
          "plot_bgcolor": "#E5ECF6",
          "polar": {
           "angularaxis": {
            "gridcolor": "white",
            "linecolor": "white",
            "ticks": ""
           },
           "bgcolor": "#E5ECF6",
           "radialaxis": {
            "gridcolor": "white",
            "linecolor": "white",
            "ticks": ""
           }
          },
          "scene": {
           "xaxis": {
            "backgroundcolor": "#E5ECF6",
            "gridcolor": "white",
            "gridwidth": 2,
            "linecolor": "white",
            "showbackground": true,
            "ticks": "",
            "zerolinecolor": "white"
           },
           "yaxis": {
            "backgroundcolor": "#E5ECF6",
            "gridcolor": "white",
            "gridwidth": 2,
            "linecolor": "white",
            "showbackground": true,
            "ticks": "",
            "zerolinecolor": "white"
           },
           "zaxis": {
            "backgroundcolor": "#E5ECF6",
            "gridcolor": "white",
            "gridwidth": 2,
            "linecolor": "white",
            "showbackground": true,
            "ticks": "",
            "zerolinecolor": "white"
           }
          },
          "shapedefaults": {
           "line": {
            "color": "#2a3f5f"
           }
          },
          "ternary": {
           "aaxis": {
            "gridcolor": "white",
            "linecolor": "white",
            "ticks": ""
           },
           "baxis": {
            "gridcolor": "white",
            "linecolor": "white",
            "ticks": ""
           },
           "bgcolor": "#E5ECF6",
           "caxis": {
            "gridcolor": "white",
            "linecolor": "white",
            "ticks": ""
           }
          },
          "title": {
           "x": 0.05
          },
          "xaxis": {
           "automargin": true,
           "gridcolor": "white",
           "linecolor": "white",
           "ticks": "",
           "title": {
            "standoff": 15
           },
           "zerolinecolor": "white",
           "zerolinewidth": 2
          },
          "yaxis": {
           "automargin": true,
           "gridcolor": "white",
           "linecolor": "white",
           "ticks": "",
           "title": {
            "standoff": 15
           },
           "zerolinecolor": "white",
           "zerolinewidth": 2
          }
         }
        }
       }
      }
     },
     "metadata": {},
     "output_type": "display_data"
    }
   ],
   "source": [
    "df_mitec_final[\"1er prefijo_aux\"] = df_mitec_final['1er prefijo (TyE)'] + \"_\" + df_mitec_final['2do prefijo (pilar)']\n",
    "\n",
    "df_mitec_final = df_mitec_final[df_mitec_final[\"1er prefijo_aux\"] == \"TyE_Collaboration\"]\n",
    "\n",
    "df_sank = df_mitec_final[[\"1er prefijo_aux\", '3er prefijo (area o VP)', 'Iniciativa', \"Número de clics\"]]\n",
    "df_sank[\"1er prefijo_aux\"] = df_sank[\"1er prefijo_aux\"].astype('category').cat.codes\n",
    "df_sank[\"3er prefijo (area o VP)\"] = df_sank[\"3er prefijo (area o VP)\"].astype('category').cat.codes\n",
    "df_sank[\"Iniciativa\"] = df_sank[\"Iniciativa\"].astype('category').cat.codes\n",
    "\n",
    "num_primerprefijo = list(df_sank[\"1er prefijo_aux\"].unique())\n",
    "tipo_primerprefijo = list(df_mitec_final[\"1er prefijo_aux\"].unique())\n",
    "\n",
    "num_tercerprefijo = list(df_sank[\"3er prefijo (area o VP)\"].unique())\n",
    "tipo_tercerprefijo = list(df_mitec_final[\"3er prefijo (area o VP)\"].unique())\n",
    "\n",
    "num_iniciativa = list(df_sank[\"Iniciativa\"].unique())\n",
    "tipo_iniciativa = list(df_mitec_final[\"Iniciativa\"].unique())\n",
    "\n",
    "primerprefijo_dim = go.parcats.Dimension(values = df_sank[\"1er prefijo_aux\"], label = 'Primer prefijo', \n",
    "                                        categoryarray = num_primerprefijo, ticktext = tipo_primerprefijo)\n",
    "tercerprefijo_dim = go.parcats.Dimension(values = df_sank[\"3er prefijo (area o VP)\"], label = 'Tercer prefijo', \n",
    "                                        categoryarray = num_tercerprefijo, ticktext = tipo_tercerprefijo)\n",
    "iniciativa_dim = go.parcats.Dimension(values = df_sank[\"Iniciativa\"], label = 'Iniciativa', \n",
    "                                        categoryarray = num_iniciativa, ticktext = tipo_iniciativa)\n",
    "\n",
    "color = df_sank[\"Número de clics\"]\n",
    "\n",
    "fig5 = go.Figure(data = [go.Parcats(dimensions = [primerprefijo_dim, tercerprefijo_dim, iniciativa_dim],\n",
    "        counts = df_sank[\"Número de clics\"],\n",
    "        line={'color': color,'colorscale':'pinkyl'},\n",
    "        labelfont={'size': 15, 'family': 'Arial', 'color': '#F33A6A'},\n",
    "        tickfont={'size': 12, 'family': 'Arial', 'color': '#F33A6A'},\n",
    "        arrangement='freeform')\n",
    "        ])\n",
    "\n",
    "colores = ['#000000', '#FFFFFF']\n",
    "fuentes = ['Arial']\n",
    "\n",
    "fig5.update_layout(paper_bgcolor = colores[1], #Color del background,\n",
    "                  hoverlabel_font_family = fuentes[0], hoverlabel_font_size = 15,)"
   ]
  },
  {
   "cell_type": "code",
   "execution_count": null,
   "metadata": {},
   "outputs": [
    {
     "data": {
      "text/plain": [
       "61     0\n",
       "74     0\n",
       "98     0\n",
       "150    0\n",
       "154    0\n",
       "Name: 1er prefijo_aux, dtype: int8"
      ]
     },
     "execution_count": 143,
     "metadata": {},
     "output_type": "execute_result"
    }
   ],
   "source": [
    "df_sank[\"1er prefijo_aux\"]"
   ]
  },
  {
   "cell_type": "code",
   "execution_count": null,
   "metadata": {},
   "outputs": [
    {
     "name": "stdout",
     "output_type": "stream",
     "text": [
      "{'1er prefijo_aux': {0: 0, 1: 0, 2: 0, 3: 0, 4: 0}, '3er prefijo (area o VP)': {0: 0, 1: 0, 2: 0, 3: 0, 4: 0}, 'Iniciativa': {0: 2, 1: 1, 2: 1, 3: 0, 4: 3}, 'Número de clics': {0: 848, 1: 15, 2: 134, 3: 431, 4: 156}}\n"
     ]
    }
   ],
   "source": [
    "df_sank.reset_index(drop=True, inplace=True)\n",
    "dicc_sank = df_sank.to_dict()\n",
    "print(dicc_sank)"
   ]
  },
  {
   "cell_type": "code",
   "execution_count": null,
   "metadata": {},
   "outputs": [
    {
     "data": {
      "text/plain": [
       "[848, 15, 134, 431, 156]"
      ]
     },
     "execution_count": 145,
     "metadata": {},
     "output_type": "execute_result"
    }
   ],
   "source": [
    "[848,15,134,431,156]"
   ]
  },
  {
   "cell_type": "code",
   "execution_count": null,
   "metadata": {},
   "outputs": [
    {
     "data": {
      "text/plain": [
       "parcats.Dimension({\n",
       "    'categoryarray': [2, 1, 0, 3],\n",
       "    'label': 'Iniciativa',\n",
       "    'ticktext': [TECBot, Número único, GlobalMobility, TECservices],\n",
       "    'values': array([2, 1, 1, 0, 3], dtype=int8)\n",
       "})"
      ]
     },
     "execution_count": 146,
     "metadata": {},
     "output_type": "execute_result"
    }
   ],
   "source": [
    "iniciativa_dim"
   ]
  },
  {
   "cell_type": "code",
   "execution_count": null,
   "metadata": {},
   "outputs": [
    {
     "data": {
      "text/plain": [
       "[0]"
      ]
     },
     "execution_count": 147,
     "metadata": {},
     "output_type": "execute_result"
    }
   ],
   "source": [
    "num_tercerprefijo"
   ]
  },
  {
   "cell_type": "code",
   "execution_count": null,
   "metadata": {},
   "outputs": [
    {
     "ename": "TypeError",
     "evalue": "parallel_categories() got an unexpected keyword argument 'counts'",
     "output_type": "error",
     "traceback": [
      "\u001b[1;31m---------------------------------------------------------------------------\u001b[0m",
      "\u001b[1;31mTypeError\u001b[0m                                 Traceback (most recent call last)",
      "\u001b[1;32mc:\\Users\\hp\\OneDrive - Instituto Tecnologico y de Estudios Superiores de Monterrey\\Documents\\Tec de Monterrey\\Semestre 7\\OCJ\\Dashboards\\GraficasDashboard.ipynb Celda 30\u001b[0m in \u001b[0;36m<cell line: 1>\u001b[1;34m()\u001b[0m\n\u001b[1;32m----> <a href='vscode-notebook-cell:/c%3A/Users/hp/OneDrive%20-%20Instituto%20Tecnologico%20y%20de%20Estudios%20Superiores%20de%20Monterrey/Documents/Tec%20de%20Monterrey/Semestre%207/OCJ/Dashboards/GraficasDashboard.ipynb#X40sZmlsZQ%3D%3D?line=0'>1</a>\u001b[0m fig \u001b[39m=\u001b[39m px\u001b[39m.\u001b[39;49mparallel_categories(df_mitec_final, dimensions\u001b[39m=\u001b[39;49m[\u001b[39m'\u001b[39;49m\u001b[39m1er prefijo_aux\u001b[39;49m\u001b[39m'\u001b[39;49m, \u001b[39m'\u001b[39;49m\u001b[39m3er prefijo (area o VP)\u001b[39;49m\u001b[39m'\u001b[39;49m, \u001b[39m'\u001b[39;49m\u001b[39mIniciativa\u001b[39;49m\u001b[39m'\u001b[39;49m],\n\u001b[0;32m      <a href='vscode-notebook-cell:/c%3A/Users/hp/OneDrive%20-%20Instituto%20Tecnologico%20y%20de%20Estudios%20Superiores%20de%20Monterrey/Documents/Tec%20de%20Monterrey/Semestre%207/OCJ/Dashboards/GraficasDashboard.ipynb#X40sZmlsZQ%3D%3D?line=1'>2</a>\u001b[0m                 color\u001b[39m=\u001b[39;49m\u001b[39m\"\u001b[39;49m\u001b[39mNúmero de clics\u001b[39;49m\u001b[39m\"\u001b[39;49m, color_continuous_scale\u001b[39m=\u001b[39;49mpx\u001b[39m.\u001b[39;49mcolors\u001b[39m.\u001b[39;49msequential\u001b[39m.\u001b[39;49mInferno, counts\u001b[39m=\u001b[39;49m[\u001b[39m1\u001b[39;49m,\u001b[39m2\u001b[39;49m,\u001b[39m3\u001b[39;49m,\u001b[39m4\u001b[39;49m,\u001b[39m5\u001b[39;49m],\n\u001b[0;32m      <a href='vscode-notebook-cell:/c%3A/Users/hp/OneDrive%20-%20Instituto%20Tecnologico%20y%20de%20Estudios%20Superiores%20de%20Monterrey/Documents/Tec%20de%20Monterrey/Semestre%207/OCJ/Dashboards/GraficasDashboard.ipynb#X40sZmlsZQ%3D%3D?line=2'>3</a>\u001b[0m                 labels\u001b[39m=\u001b[39;49m{\u001b[39m'\u001b[39;49m\u001b[39m1er prefijo_aux\u001b[39;49m\u001b[39m'\u001b[39;49m:\u001b[39m'\u001b[39;49m\u001b[39mPayer sex\u001b[39;49m\u001b[39m'\u001b[39;49m, \u001b[39m'\u001b[39;49m\u001b[39m3er prefijo (area o VP)\u001b[39;49m\u001b[39m'\u001b[39;49m:\u001b[39m'\u001b[39;49m\u001b[39m3er prefijo (area o VP)\u001b[39;49m\u001b[39m'\u001b[39;49m, \u001b[39m'\u001b[39;49m\u001b[39mIniciativa\u001b[39;49m\u001b[39m'\u001b[39;49m:\u001b[39m'\u001b[39;49m\u001b[39mDay of week\u001b[39;49m\u001b[39m'\u001b[39;49m})\n\u001b[0;32m      <a href='vscode-notebook-cell:/c%3A/Users/hp/OneDrive%20-%20Instituto%20Tecnologico%20y%20de%20Estudios%20Superiores%20de%20Monterrey/Documents/Tec%20de%20Monterrey/Semestre%207/OCJ/Dashboards/GraficasDashboard.ipynb#X40sZmlsZQ%3D%3D?line=3'>4</a>\u001b[0m fig\u001b[39m.\u001b[39mshow()\n",
      "\u001b[1;31mTypeError\u001b[0m: parallel_categories() got an unexpected keyword argument 'counts'"
     ]
    }
   ],
   "source": [
    "fig = px.parallel_categories(df_mitec_final, dimensions=['1er prefijo_aux', '3er prefijo (area o VP)', 'Iniciativa'],\n",
    "                color=\"Número de clics\", color_continuous_scale=px.colors.sequential.Inferno, counts=[1,2,3,4,5],\n",
    "                labels={'1er prefijo_aux':'Payer sex', '3er prefijo (area o VP)':'3er prefijo (area o VP)', 'Iniciativa':'Day of week'})\n",
    "fig.show()"
   ]
  }
 ],
 "metadata": {
  "kernelspec": {
   "display_name": "Python 3.9.12 ('base')",
   "language": "python",
   "name": "python3"
  },
  "language_info": {
   "codemirror_mode": {
    "name": "ipython",
    "version": 3
   },
   "file_extension": ".py",
   "mimetype": "text/x-python",
   "name": "python",
   "nbconvert_exporter": "python",
   "pygments_lexer": "ipython3",
   "version": "3.9.12"
  },
  "orig_nbformat": 4,
  "vscode": {
   "interpreter": {
    "hash": "b302cdd1e032ee910f5c889c3360c28564c92ad4f326fc3102e39fbe47faee66"
   }
  }
 },
 "nbformat": 4,
 "nbformat_minor": 2
}
